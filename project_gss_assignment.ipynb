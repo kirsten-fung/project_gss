{
  "nbformat": 4,
  "nbformat_minor": 0,
  "metadata": {
    "colab": {
      "provenance": [],
      "authorship_tag": "ABX9TyN96IDoCidrqmOWCYew08gg",
      "include_colab_link": true
    },
    "kernelspec": {
      "name": "python3",
      "display_name": "Python 3"
    },
    "language_info": {
      "name": "python"
    }
  },
  "cells": [
    {
      "cell_type": "markdown",
      "metadata": {
        "id": "view-in-github",
        "colab_type": "text"
      },
      "source": [
        "<a href=\"https://colab.research.google.com/github/kirsten-fung/project_gss/blob/main/project_gss_assignment.ipynb\" target=\"_parent\"><img src=\"https://colab.research.google.com/assets/colab-badge.svg\" alt=\"Open In Colab\"/></a>"
      ]
    },
    {
      "cell_type": "markdown",
      "source": [
        "Research Question: Is there a relationship between perceptions of work-life balance and job satisfaction among survey participants?"
      ],
      "metadata": {
        "id": "xXxrn8g0OfbI"
      }
    },
    {
      "cell_type": "code",
      "execution_count": 321,
      "metadata": {
        "colab": {
          "base_uri": "https://localhost:8080/"
        },
        "id": "yR5WO6fmOOYr",
        "outputId": "778b1dd4-6be7-457d-bfed-d1ba019778b1"
      },
      "outputs": [
        {
          "output_type": "stream",
          "name": "stdout",
          "text": [
            "https://github.com/DS3001/project_gss/raw/main/gss_chunk_1.parquet\n",
            "   year  id            wrkstat  hrs1  hrs2 evwork    occ  prestige  \\\n",
            "0  1972   1  working full time   NaN   NaN    NaN  205.0      50.0   \n",
            "1  1972   2            retired   NaN   NaN    yes  441.0      45.0   \n",
            "2  1972   3  working part time   NaN   NaN    NaN  270.0      44.0   \n",
            "3  1972   4  working full time   NaN   NaN    NaN    1.0      57.0   \n",
            "4  1972   5      keeping house   NaN   NaN    yes  385.0      40.0   \n",
            "\n",
            "         wrkslf wrkgovt  ...  agehef12 agehef13 agehef14  hompoph wtssps_nea  \\\n",
            "0  someone else     NaN  ...       NaN      NaN      NaN      NaN        NaN   \n",
            "1  someone else     NaN  ...       NaN      NaN      NaN      NaN        NaN   \n",
            "2  someone else     NaN  ...       NaN      NaN      NaN      NaN        NaN   \n",
            "3  someone else     NaN  ...       NaN      NaN      NaN      NaN        NaN   \n",
            "4  someone else     NaN  ...       NaN      NaN      NaN      NaN        NaN   \n",
            "\n",
            "   wtssnrps_nea  wtssps_next wtssnrps_next wtsscomp wtsscompnr  \n",
            "0           NaN          NaN           NaN   0.4446        NaN  \n",
            "1           NaN          NaN           NaN   0.8893        NaN  \n",
            "2           NaN          NaN           NaN   0.8893        NaN  \n",
            "3           NaN          NaN           NaN   0.8893        NaN  \n",
            "4           NaN          NaN           NaN   0.8893        NaN  \n",
            "\n",
            "[5 rows x 6694 columns]\n",
            "https://github.com/DS3001/project_gss/raw/main/gss_chunk_2.parquet\n",
            "   year   id            wrkstat  hrs1  hrs2 evwork    occ  prestige  \\\n",
            "0  1989  775            retired   NaN   NaN    yes  540.0      36.0   \n",
            "1  1989  776  working full time  40.0   NaN    NaN  925.0      36.0   \n",
            "2  1989  777            retired   NaN   NaN    yes   80.0      61.0   \n",
            "3  1989  778  working full time  44.0   NaN    NaN  912.0      26.0   \n",
            "4  1989  779            retired   NaN   NaN    yes  690.0      32.0   \n",
            "\n",
            "         wrkslf wrkgovt  ...  agehef12 agehef13 agehef14  hompoph wtssps_nea  \\\n",
            "0  someone else     NaN  ...       NaN      NaN      NaN      NaN        NaN   \n",
            "1  someone else     NaN  ...       NaN      NaN      NaN      NaN        NaN   \n",
            "2  someone else     NaN  ...       NaN      NaN      NaN      NaN        NaN   \n",
            "3  someone else     NaN  ...       NaN      NaN      NaN      NaN        NaN   \n",
            "4  someone else     NaN  ...       NaN      NaN      NaN      NaN        NaN   \n",
            "\n",
            "   wtssnrps_nea  wtssps_next wtssnrps_next  wtsscomp wtsscompnr  \n",
            "0           NaN          NaN           NaN  1.295069        NaN  \n",
            "1           NaN          NaN           NaN  0.483624        NaN  \n",
            "2           NaN          NaN           NaN  0.407988        NaN  \n",
            "3           NaN          NaN           NaN  1.225988        NaN  \n",
            "4           NaN          NaN           NaN  0.504302        NaN  \n",
            "\n",
            "[5 rows x 6694 columns]\n",
            "https://github.com/DS3001/project_gss/raw/main/gss_chunk_3.parquet\n",
            "   year    id            wrkstat  hrs1  hrs2 evwork  occ  prestige  \\\n",
            "0  2006  1751  working full time  40.0   NaN    NaN  NaN       NaN   \n",
            "1  2006  1752          in school   NaN   NaN    yes  NaN       NaN   \n",
            "2  2006  1753  working full time  35.0   NaN    NaN  NaN       NaN   \n",
            "3  2006  1754  working full time  50.0   NaN    NaN  NaN       NaN   \n",
            "4  2006  1755  working full time  40.0   NaN    NaN  NaN       NaN   \n",
            "\n",
            "         wrkslf     wrkgovt  ...  agehef12 agehef13 agehef14  hompoph  \\\n",
            "0  someone else  government  ...       NaN      NaN      NaN      NaN   \n",
            "1  someone else     private  ...       NaN      NaN      NaN      NaN   \n",
            "2  someone else  government  ...       NaN      NaN      NaN      NaN   \n",
            "3  someone else  government  ...       NaN      NaN      NaN      NaN   \n",
            "4  someone else     private  ...       NaN      NaN      NaN      NaN   \n",
            "\n",
            "  wtssps_nea  wtssnrps_nea  wtssps_next wtssnrps_next  wtsscomp wtsscompnr  \n",
            "0        NaN           NaN          NaN           NaN  1.079141   0.961150  \n",
            "1        NaN           NaN          NaN           NaN  7.673834   6.641571  \n",
            "2        NaN           NaN          NaN           NaN  0.584663   0.512145  \n",
            "3        NaN           NaN          NaN           NaN  0.715731   0.637592  \n",
            "4        NaN           NaN          NaN           NaN  1.094831   0.956094  \n",
            "\n",
            "[5 rows x 6694 columns]\n"
          ]
        }
      ],
      "source": [
        "import pandas as pd\n",
        "import numpy as np\n",
        "#\n",
        "var_list = ['wrkstat', 'prestige'] # List of variables you want to save\n",
        "output_filename = 'selected_gss_data.csv' # Name of the file you want to save the data to\n",
        "#\n",
        "modes = ['w','a'] # Has write mode and append mode\n",
        "phase = 0 # Starts in write mode; after one iteration of loop, switches to append mode\n",
        "#\n",
        "for k in range(3): # for each chunk of the data\n",
        "    url = 'https://github.com/DS3001/project_gss/raw/main/gss_chunk_' + str(1+k) + '.parquet' # Create url to the chunk to be processed\n",
        "    print(url) # Check the url is correct\n",
        "    df = pd.read_parquet(url) # Download this chunk of data\n",
        "    print(df.head()) # Visually inspect the first few rows\n",
        "    df.loc[:,var_list].to_csv(output_filename, # specifies target file to save the chunk to\n",
        "                              mode=modes[phase], # control write versus append\n",
        "                              header=var_list, # variable names\n",
        "                              index=False) # no row index saved\n",
        "    phase = 1 # Switch from write mode to append mode"
      ]
    },
    {
      "cell_type": "code",
      "source": [
        "# General overview of dataframe\n",
        "df.head()"
      ],
      "metadata": {
        "colab": {
          "base_uri": "https://localhost:8080/",
          "height": 322
        },
        "id": "YVbiACPDOvuY",
        "outputId": "c97340dd-5d16-4412-b28e-9175f4a2c153"
      },
      "execution_count": 322,
      "outputs": [
        {
          "output_type": "execute_result",
          "data": {
            "text/plain": [
              "   year    id            wrkstat  hrs1  hrs2 evwork  occ  prestige  \\\n",
              "0  2006  1751  working full time  40.0   NaN    NaN  NaN       NaN   \n",
              "1  2006  1752          in school   NaN   NaN    yes  NaN       NaN   \n",
              "2  2006  1753  working full time  35.0   NaN    NaN  NaN       NaN   \n",
              "3  2006  1754  working full time  50.0   NaN    NaN  NaN       NaN   \n",
              "4  2006  1755  working full time  40.0   NaN    NaN  NaN       NaN   \n",
              "\n",
              "         wrkslf     wrkgovt  ...  agehef12 agehef13 agehef14  hompoph  \\\n",
              "0  someone else  government  ...       NaN      NaN      NaN      NaN   \n",
              "1  someone else     private  ...       NaN      NaN      NaN      NaN   \n",
              "2  someone else  government  ...       NaN      NaN      NaN      NaN   \n",
              "3  someone else  government  ...       NaN      NaN      NaN      NaN   \n",
              "4  someone else     private  ...       NaN      NaN      NaN      NaN   \n",
              "\n",
              "  wtssps_nea  wtssnrps_nea  wtssps_next wtssnrps_next  wtsscomp wtsscompnr  \n",
              "0        NaN           NaN          NaN           NaN  1.079141   0.961150  \n",
              "1        NaN           NaN          NaN           NaN  7.673834   6.641571  \n",
              "2        NaN           NaN          NaN           NaN  0.584663   0.512145  \n",
              "3        NaN           NaN          NaN           NaN  0.715731   0.637592  \n",
              "4        NaN           NaN          NaN           NaN  1.094831   0.956094  \n",
              "\n",
              "[5 rows x 6694 columns]"
            ],
            "text/html": [
              "\n",
              "  <div id=\"df-959d129e-c033-4ebb-9b90-97405177778c\" class=\"colab-df-container\">\n",
              "    <div>\n",
              "<style scoped>\n",
              "    .dataframe tbody tr th:only-of-type {\n",
              "        vertical-align: middle;\n",
              "    }\n",
              "\n",
              "    .dataframe tbody tr th {\n",
              "        vertical-align: top;\n",
              "    }\n",
              "\n",
              "    .dataframe thead th {\n",
              "        text-align: right;\n",
              "    }\n",
              "</style>\n",
              "<table border=\"1\" class=\"dataframe\">\n",
              "  <thead>\n",
              "    <tr style=\"text-align: right;\">\n",
              "      <th></th>\n",
              "      <th>year</th>\n",
              "      <th>id</th>\n",
              "      <th>wrkstat</th>\n",
              "      <th>hrs1</th>\n",
              "      <th>hrs2</th>\n",
              "      <th>evwork</th>\n",
              "      <th>occ</th>\n",
              "      <th>prestige</th>\n",
              "      <th>wrkslf</th>\n",
              "      <th>wrkgovt</th>\n",
              "      <th>...</th>\n",
              "      <th>agehef12</th>\n",
              "      <th>agehef13</th>\n",
              "      <th>agehef14</th>\n",
              "      <th>hompoph</th>\n",
              "      <th>wtssps_nea</th>\n",
              "      <th>wtssnrps_nea</th>\n",
              "      <th>wtssps_next</th>\n",
              "      <th>wtssnrps_next</th>\n",
              "      <th>wtsscomp</th>\n",
              "      <th>wtsscompnr</th>\n",
              "    </tr>\n",
              "  </thead>\n",
              "  <tbody>\n",
              "    <tr>\n",
              "      <th>0</th>\n",
              "      <td>2006</td>\n",
              "      <td>1751</td>\n",
              "      <td>working full time</td>\n",
              "      <td>40.0</td>\n",
              "      <td>NaN</td>\n",
              "      <td>NaN</td>\n",
              "      <td>NaN</td>\n",
              "      <td>NaN</td>\n",
              "      <td>someone else</td>\n",
              "      <td>government</td>\n",
              "      <td>...</td>\n",
              "      <td>NaN</td>\n",
              "      <td>NaN</td>\n",
              "      <td>NaN</td>\n",
              "      <td>NaN</td>\n",
              "      <td>NaN</td>\n",
              "      <td>NaN</td>\n",
              "      <td>NaN</td>\n",
              "      <td>NaN</td>\n",
              "      <td>1.079141</td>\n",
              "      <td>0.961150</td>\n",
              "    </tr>\n",
              "    <tr>\n",
              "      <th>1</th>\n",
              "      <td>2006</td>\n",
              "      <td>1752</td>\n",
              "      <td>in school</td>\n",
              "      <td>NaN</td>\n",
              "      <td>NaN</td>\n",
              "      <td>yes</td>\n",
              "      <td>NaN</td>\n",
              "      <td>NaN</td>\n",
              "      <td>someone else</td>\n",
              "      <td>private</td>\n",
              "      <td>...</td>\n",
              "      <td>NaN</td>\n",
              "      <td>NaN</td>\n",
              "      <td>NaN</td>\n",
              "      <td>NaN</td>\n",
              "      <td>NaN</td>\n",
              "      <td>NaN</td>\n",
              "      <td>NaN</td>\n",
              "      <td>NaN</td>\n",
              "      <td>7.673834</td>\n",
              "      <td>6.641571</td>\n",
              "    </tr>\n",
              "    <tr>\n",
              "      <th>2</th>\n",
              "      <td>2006</td>\n",
              "      <td>1753</td>\n",
              "      <td>working full time</td>\n",
              "      <td>35.0</td>\n",
              "      <td>NaN</td>\n",
              "      <td>NaN</td>\n",
              "      <td>NaN</td>\n",
              "      <td>NaN</td>\n",
              "      <td>someone else</td>\n",
              "      <td>government</td>\n",
              "      <td>...</td>\n",
              "      <td>NaN</td>\n",
              "      <td>NaN</td>\n",
              "      <td>NaN</td>\n",
              "      <td>NaN</td>\n",
              "      <td>NaN</td>\n",
              "      <td>NaN</td>\n",
              "      <td>NaN</td>\n",
              "      <td>NaN</td>\n",
              "      <td>0.584663</td>\n",
              "      <td>0.512145</td>\n",
              "    </tr>\n",
              "    <tr>\n",
              "      <th>3</th>\n",
              "      <td>2006</td>\n",
              "      <td>1754</td>\n",
              "      <td>working full time</td>\n",
              "      <td>50.0</td>\n",
              "      <td>NaN</td>\n",
              "      <td>NaN</td>\n",
              "      <td>NaN</td>\n",
              "      <td>NaN</td>\n",
              "      <td>someone else</td>\n",
              "      <td>government</td>\n",
              "      <td>...</td>\n",
              "      <td>NaN</td>\n",
              "      <td>NaN</td>\n",
              "      <td>NaN</td>\n",
              "      <td>NaN</td>\n",
              "      <td>NaN</td>\n",
              "      <td>NaN</td>\n",
              "      <td>NaN</td>\n",
              "      <td>NaN</td>\n",
              "      <td>0.715731</td>\n",
              "      <td>0.637592</td>\n",
              "    </tr>\n",
              "    <tr>\n",
              "      <th>4</th>\n",
              "      <td>2006</td>\n",
              "      <td>1755</td>\n",
              "      <td>working full time</td>\n",
              "      <td>40.0</td>\n",
              "      <td>NaN</td>\n",
              "      <td>NaN</td>\n",
              "      <td>NaN</td>\n",
              "      <td>NaN</td>\n",
              "      <td>someone else</td>\n",
              "      <td>private</td>\n",
              "      <td>...</td>\n",
              "      <td>NaN</td>\n",
              "      <td>NaN</td>\n",
              "      <td>NaN</td>\n",
              "      <td>NaN</td>\n",
              "      <td>NaN</td>\n",
              "      <td>NaN</td>\n",
              "      <td>NaN</td>\n",
              "      <td>NaN</td>\n",
              "      <td>1.094831</td>\n",
              "      <td>0.956094</td>\n",
              "    </tr>\n",
              "  </tbody>\n",
              "</table>\n",
              "<p>5 rows × 6694 columns</p>\n",
              "</div>\n",
              "    <div class=\"colab-df-buttons\">\n",
              "\n",
              "  <div class=\"colab-df-container\">\n",
              "    <button class=\"colab-df-convert\" onclick=\"convertToInteractive('df-959d129e-c033-4ebb-9b90-97405177778c')\"\n",
              "            title=\"Convert this dataframe to an interactive table.\"\n",
              "            style=\"display:none;\">\n",
              "\n",
              "  <svg xmlns=\"http://www.w3.org/2000/svg\" height=\"24px\" viewBox=\"0 -960 960 960\">\n",
              "    <path d=\"M120-120v-720h720v720H120Zm60-500h600v-160H180v160Zm220 220h160v-160H400v160Zm0 220h160v-160H400v160ZM180-400h160v-160H180v160Zm440 0h160v-160H620v160ZM180-180h160v-160H180v160Zm440 0h160v-160H620v160Z\"/>\n",
              "  </svg>\n",
              "    </button>\n",
              "\n",
              "  <style>\n",
              "    .colab-df-container {\n",
              "      display:flex;\n",
              "      gap: 12px;\n",
              "    }\n",
              "\n",
              "    .colab-df-convert {\n",
              "      background-color: #E8F0FE;\n",
              "      border: none;\n",
              "      border-radius: 50%;\n",
              "      cursor: pointer;\n",
              "      display: none;\n",
              "      fill: #1967D2;\n",
              "      height: 32px;\n",
              "      padding: 0 0 0 0;\n",
              "      width: 32px;\n",
              "    }\n",
              "\n",
              "    .colab-df-convert:hover {\n",
              "      background-color: #E2EBFA;\n",
              "      box-shadow: 0px 1px 2px rgba(60, 64, 67, 0.3), 0px 1px 3px 1px rgba(60, 64, 67, 0.15);\n",
              "      fill: #174EA6;\n",
              "    }\n",
              "\n",
              "    .colab-df-buttons div {\n",
              "      margin-bottom: 4px;\n",
              "    }\n",
              "\n",
              "    [theme=dark] .colab-df-convert {\n",
              "      background-color: #3B4455;\n",
              "      fill: #D2E3FC;\n",
              "    }\n",
              "\n",
              "    [theme=dark] .colab-df-convert:hover {\n",
              "      background-color: #434B5C;\n",
              "      box-shadow: 0px 1px 3px 1px rgba(0, 0, 0, 0.15);\n",
              "      filter: drop-shadow(0px 1px 2px rgba(0, 0, 0, 0.3));\n",
              "      fill: #FFFFFF;\n",
              "    }\n",
              "  </style>\n",
              "\n",
              "    <script>\n",
              "      const buttonEl =\n",
              "        document.querySelector('#df-959d129e-c033-4ebb-9b90-97405177778c button.colab-df-convert');\n",
              "      buttonEl.style.display =\n",
              "        google.colab.kernel.accessAllowed ? 'block' : 'none';\n",
              "\n",
              "      async function convertToInteractive(key) {\n",
              "        const element = document.querySelector('#df-959d129e-c033-4ebb-9b90-97405177778c');\n",
              "        const dataTable =\n",
              "          await google.colab.kernel.invokeFunction('convertToInteractive',\n",
              "                                                    [key], {});\n",
              "        if (!dataTable) return;\n",
              "\n",
              "        const docLinkHtml = 'Like what you see? Visit the ' +\n",
              "          '<a target=\"_blank\" href=https://colab.research.google.com/notebooks/data_table.ipynb>data table notebook</a>'\n",
              "          + ' to learn more about interactive tables.';\n",
              "        element.innerHTML = '';\n",
              "        dataTable['output_type'] = 'display_data';\n",
              "        await google.colab.output.renderOutput(dataTable, element);\n",
              "        const docLink = document.createElement('div');\n",
              "        docLink.innerHTML = docLinkHtml;\n",
              "        element.appendChild(docLink);\n",
              "      }\n",
              "    </script>\n",
              "  </div>\n",
              "\n",
              "\n",
              "<div id=\"df-6417fab1-892e-4758-828a-c51b39ae6e80\">\n",
              "  <button class=\"colab-df-quickchart\" onclick=\"quickchart('df-6417fab1-892e-4758-828a-c51b39ae6e80')\"\n",
              "            title=\"Suggest charts\"\n",
              "            style=\"display:none;\">\n",
              "\n",
              "<svg xmlns=\"http://www.w3.org/2000/svg\" height=\"24px\"viewBox=\"0 0 24 24\"\n",
              "     width=\"24px\">\n",
              "    <g>\n",
              "        <path d=\"M19 3H5c-1.1 0-2 .9-2 2v14c0 1.1.9 2 2 2h14c1.1 0 2-.9 2-2V5c0-1.1-.9-2-2-2zM9 17H7v-7h2v7zm4 0h-2V7h2v10zm4 0h-2v-4h2v4z\"/>\n",
              "    </g>\n",
              "</svg>\n",
              "  </button>\n",
              "\n",
              "<style>\n",
              "  .colab-df-quickchart {\n",
              "      --bg-color: #E8F0FE;\n",
              "      --fill-color: #1967D2;\n",
              "      --hover-bg-color: #E2EBFA;\n",
              "      --hover-fill-color: #174EA6;\n",
              "      --disabled-fill-color: #AAA;\n",
              "      --disabled-bg-color: #DDD;\n",
              "  }\n",
              "\n",
              "  [theme=dark] .colab-df-quickchart {\n",
              "      --bg-color: #3B4455;\n",
              "      --fill-color: #D2E3FC;\n",
              "      --hover-bg-color: #434B5C;\n",
              "      --hover-fill-color: #FFFFFF;\n",
              "      --disabled-bg-color: #3B4455;\n",
              "      --disabled-fill-color: #666;\n",
              "  }\n",
              "\n",
              "  .colab-df-quickchart {\n",
              "    background-color: var(--bg-color);\n",
              "    border: none;\n",
              "    border-radius: 50%;\n",
              "    cursor: pointer;\n",
              "    display: none;\n",
              "    fill: var(--fill-color);\n",
              "    height: 32px;\n",
              "    padding: 0;\n",
              "    width: 32px;\n",
              "  }\n",
              "\n",
              "  .colab-df-quickchart:hover {\n",
              "    background-color: var(--hover-bg-color);\n",
              "    box-shadow: 0 1px 2px rgba(60, 64, 67, 0.3), 0 1px 3px 1px rgba(60, 64, 67, 0.15);\n",
              "    fill: var(--button-hover-fill-color);\n",
              "  }\n",
              "\n",
              "  .colab-df-quickchart-complete:disabled,\n",
              "  .colab-df-quickchart-complete:disabled:hover {\n",
              "    background-color: var(--disabled-bg-color);\n",
              "    fill: var(--disabled-fill-color);\n",
              "    box-shadow: none;\n",
              "  }\n",
              "\n",
              "  .colab-df-spinner {\n",
              "    border: 2px solid var(--fill-color);\n",
              "    border-color: transparent;\n",
              "    border-bottom-color: var(--fill-color);\n",
              "    animation:\n",
              "      spin 1s steps(1) infinite;\n",
              "  }\n",
              "\n",
              "  @keyframes spin {\n",
              "    0% {\n",
              "      border-color: transparent;\n",
              "      border-bottom-color: var(--fill-color);\n",
              "      border-left-color: var(--fill-color);\n",
              "    }\n",
              "    20% {\n",
              "      border-color: transparent;\n",
              "      border-left-color: var(--fill-color);\n",
              "      border-top-color: var(--fill-color);\n",
              "    }\n",
              "    30% {\n",
              "      border-color: transparent;\n",
              "      border-left-color: var(--fill-color);\n",
              "      border-top-color: var(--fill-color);\n",
              "      border-right-color: var(--fill-color);\n",
              "    }\n",
              "    40% {\n",
              "      border-color: transparent;\n",
              "      border-right-color: var(--fill-color);\n",
              "      border-top-color: var(--fill-color);\n",
              "    }\n",
              "    60% {\n",
              "      border-color: transparent;\n",
              "      border-right-color: var(--fill-color);\n",
              "    }\n",
              "    80% {\n",
              "      border-color: transparent;\n",
              "      border-right-color: var(--fill-color);\n",
              "      border-bottom-color: var(--fill-color);\n",
              "    }\n",
              "    90% {\n",
              "      border-color: transparent;\n",
              "      border-bottom-color: var(--fill-color);\n",
              "    }\n",
              "  }\n",
              "</style>\n",
              "\n",
              "  <script>\n",
              "    async function quickchart(key) {\n",
              "      const quickchartButtonEl =\n",
              "        document.querySelector('#' + key + ' button');\n",
              "      quickchartButtonEl.disabled = true;  // To prevent multiple clicks.\n",
              "      quickchartButtonEl.classList.add('colab-df-spinner');\n",
              "      try {\n",
              "        const charts = await google.colab.kernel.invokeFunction(\n",
              "            'suggestCharts', [key], {});\n",
              "      } catch (error) {\n",
              "        console.error('Error during call to suggestCharts:', error);\n",
              "      }\n",
              "      quickchartButtonEl.classList.remove('colab-df-spinner');\n",
              "      quickchartButtonEl.classList.add('colab-df-quickchart-complete');\n",
              "    }\n",
              "    (() => {\n",
              "      let quickchartButtonEl =\n",
              "        document.querySelector('#df-6417fab1-892e-4758-828a-c51b39ae6e80 button');\n",
              "      quickchartButtonEl.style.display =\n",
              "        google.colab.kernel.accessAllowed ? 'block' : 'none';\n",
              "    })();\n",
              "  </script>\n",
              "</div>\n",
              "    </div>\n",
              "  </div>\n"
            ],
            "application/vnd.google.colaboratory.intrinsic+json": {
              "type": "dataframe",
              "variable_name": "df"
            }
          },
          "metadata": {},
          "execution_count": 322
        }
      ]
    },
    {
      "cell_type": "code",
      "source": [
        "# Clean the job satisfaction variable by removing all unwanted answers that have zero occurences and replace them with nan.\n",
        "df['satjob'].value_counts()"
      ],
      "metadata": {
        "colab": {
          "base_uri": "https://localhost:8080/"
        },
        "id": "tuPZS72JQfJL",
        "outputId": "641c4bb7-ddcb-45b7-d615-cdd6e83c9aff"
      },
      "execution_count": 323,
      "outputs": [
        {
          "output_type": "execute_result",
          "data": {
            "text/plain": [
              "very satisfied                   7911\n",
              "moderately satisfied             6263\n",
              "a little dissatisfied            1583\n",
              "very dissatisfied                 670\n",
              "not imputable_(2147483638)          0\n",
              "not available in this year          0\n",
              "not available in this release       0\n",
              "uncodeable                          0\n",
              "skipped on web                      0\n",
              "refused                             0\n",
              "no answer                           0\n",
              "not imputable_(2147483637)          0\n",
              "dk, na, iap                         0\n",
              "I don't have a job                  0\n",
              "iap                                 0\n",
              "don't know                          0\n",
              "see codebook                        0\n",
              "Name: satjob, dtype: int64"
            ]
          },
          "metadata": {},
          "execution_count": 323
        }
      ]
    },
    {
      "cell_type": "code",
      "source": [
        "df['satjob'] = df['satjob'].replace(['not imputable_(2147483638)','not available in this year','not available in this release','uncodeable','skipped on web','refused','no answer','not imputable_(2147483637)','dk, na, iap',\"I don't have a job\",'iap',\"don't know\",'see codebook'], np.nan)\n",
        "print(df['satjob'].value_counts())"
      ],
      "metadata": {
        "colab": {
          "base_uri": "https://localhost:8080/"
        },
        "id": "sUE9FuIaPF31",
        "outputId": "eeb5b6dd-84d1-44fe-a855-8afa2ff5d5e0"
      },
      "execution_count": 324,
      "outputs": [
        {
          "output_type": "stream",
          "name": "stdout",
          "text": [
            "very satisfied           7911\n",
            "moderately satisfied     6263\n",
            "a little dissatisfied    1583\n",
            "very dissatisfied         670\n",
            "Name: satjob, dtype: int64\n"
          ]
        }
      ]
    },
    {
      "cell_type": "code",
      "source": [
        "df = df[~df['satjob'].isna()]"
      ],
      "metadata": {
        "id": "Exe_uX3dgsni"
      },
      "execution_count": 325,
      "outputs": []
    },
    {
      "cell_type": "code",
      "source": [
        "# Hours worked per week does not need cleaning\n",
        "df['hrs2'].unique()"
      ],
      "metadata": {
        "colab": {
          "base_uri": "https://localhost:8080/"
        },
        "id": "axmnZbFhSzh6",
        "outputId": "b088039a-32fb-4d47-e30f-a61e917beb97"
      },
      "execution_count": 326,
      "outputs": [
        {
          "output_type": "execute_result",
          "data": {
            "text/plain": [
              "array([nan, 50., 38., 40., 12., 44.,  5., 60., 32., 25., 35., 45., 34.,\n",
              "       28.,  1., 26., 43., 70., 30., 20., 55.,  3., 10., 42., 65., 15.,\n",
              "        8.,  7., 48., 16., 36., 18., 41., 24.,  9.,  6., 84., 22., 21.,\n",
              "       46., 80., 66., 52.])"
            ]
          },
          "metadata": {},
          "execution_count": 326
        }
      ]
    },
    {
      "cell_type": "code",
      "source": [
        "# Age does not need cleaning\n",
        "df['age'].unique()"
      ],
      "metadata": {
        "colab": {
          "base_uri": "https://localhost:8080/"
        },
        "id": "PACLyTQCTa9a",
        "outputId": "0ab67513-c74e-405a-ced6-98829b976864"
      },
      "execution_count": 327,
      "outputs": [
        {
          "output_type": "execute_result",
          "data": {
            "text/plain": [
              "array([42., 24., 52., 48., 34., 30., 35., 26., 27., 37., 72., 53., 58.,\n",
              "       51., 77., 23., 36., 39., 44., 25., 33., 32., 49., 43., 62., 28.,\n",
              "       69., 22., 63., 55., 60., 41., 66., 50., 46., 38., 31., 54., 65.,\n",
              "       47., 57., 40., 75., 29., 89., 68., 45., 59., 82., 78., 56., 71.,\n",
              "       61., 20., 21., 84., 18., 64., 73., 85., 19., 81., 67., 83., 70.,\n",
              "       74., 76., nan, 86., 88., 87., 80., 79.])"
            ]
          },
          "metadata": {},
          "execution_count": 327
        }
      ]
    },
    {
      "cell_type": "code",
      "source": [
        "# Clean the sex variable by removing all unwanted answers that have zero occurences and replace them with nan.\n",
        "df['sex'].value_counts()"
      ],
      "metadata": {
        "colab": {
          "base_uri": "https://localhost:8080/"
        },
        "id": "OXhvEnvoTlpm",
        "outputId": "6e1fb242-26ef-48d0-fb49-2c72ca1f0d22"
      },
      "execution_count": 328,
      "outputs": [
        {
          "output_type": "execute_result",
          "data": {
            "text/plain": [
              "female                           9100\n",
              "male                             7244\n",
              "don't know                          0\n",
              "iap                                 0\n",
              "I don't have a job                  0\n",
              "dk, na, iap                         0\n",
              "no answer                           0\n",
              "not imputable_(2147483637)          0\n",
              "not imputable_(2147483638)          0\n",
              "refused                             0\n",
              "skipped on web                      0\n",
              "uncodeable                          0\n",
              "not available in this release       0\n",
              "not available in this year          0\n",
              "see codebook                        0\n",
              "Name: sex, dtype: int64"
            ]
          },
          "metadata": {},
          "execution_count": 328
        }
      ]
    },
    {
      "cell_type": "code",
      "source": [
        "df['sex'] = df['sex'].replace([\"don't know\",'iap',\"I don't have a job\",'dk, na, iap','no answer','not imputable_(2147483637)','not imputable_(2147483638)','refused','skipped on web','uncodeable','not available in this release','not available in this year','see codebook'], np.nan)\n",
        "print(df['sex'].value_counts())"
      ],
      "metadata": {
        "colab": {
          "base_uri": "https://localhost:8080/"
        },
        "id": "UgFnY1DtUA-Y",
        "outputId": "7698a9f8-27c3-4cbf-eeca-8b9f81107f74"
      },
      "execution_count": 329,
      "outputs": [
        {
          "output_type": "stream",
          "name": "stdout",
          "text": [
            "female    9100\n",
            "male      7244\n",
            "Name: sex, dtype: int64\n"
          ]
        }
      ]
    },
    {
      "cell_type": "code",
      "source": [
        "df = df[~df['sex'].isna()]"
      ],
      "metadata": {
        "id": "BuHOyoO8hwMY"
      },
      "execution_count": 330,
      "outputs": []
    },
    {
      "cell_type": "code",
      "source": [
        "# Clean the degree variable by removing all unwanted answers that have zero occurences and replace them with nan.\n",
        "df['degree'].value_counts()"
      ],
      "metadata": {
        "colab": {
          "base_uri": "https://localhost:8080/"
        },
        "id": "j-abr5yKUryf",
        "outputId": "b381e8ce-8406-4ee0-bcb6-404d83d4b2d4"
      },
      "execution_count": 331,
      "outputs": [
        {
          "output_type": "execute_result",
          "data": {
            "text/plain": [
              "high school                      7706\n",
              "bachelor's                       3515\n",
              "graduate                         2031\n",
              "less than high school            1656\n",
              "associate/junior college         1422\n",
              "not imputable_(2147483638)          0\n",
              "not available in this year          0\n",
              "not available in this release       0\n",
              "uncodeable                          0\n",
              "skipped on web                      0\n",
              "refused                             0\n",
              "no answer                           0\n",
              "not imputable_(2147483637)          0\n",
              "dk, na, iap                         0\n",
              "I don't have a job                  0\n",
              "iap                                 0\n",
              "don't know                          0\n",
              "see codebook                        0\n",
              "Name: degree, dtype: int64"
            ]
          },
          "metadata": {},
          "execution_count": 331
        }
      ]
    },
    {
      "cell_type": "code",
      "source": [
        "df['degree'] = df['degree'].replace(['not imputable_(2147483638)','not available in this year','not available in this release','uncodeable','skipped on web','refused','no answer','not imputable_(2147483637)','dk, na, iap',\"I don't have a job\",'iap',\"don't know\",'see codebook'], np.nan)\n",
        "print(df['degree'].value_counts())"
      ],
      "metadata": {
        "colab": {
          "base_uri": "https://localhost:8080/"
        },
        "id": "JiMNEXUeVCAK",
        "outputId": "18b699eb-deb2-47e6-bb30-e8952c978203"
      },
      "execution_count": 332,
      "outputs": [
        {
          "output_type": "stream",
          "name": "stdout",
          "text": [
            "high school                 7706\n",
            "bachelor's                  3515\n",
            "graduate                    2031\n",
            "less than high school       1656\n",
            "associate/junior college    1422\n",
            "Name: degree, dtype: int64\n"
          ]
        },
        {
          "output_type": "stream",
          "name": "stderr",
          "text": [
            "<ipython-input-332-6cb1d6ddd3f0>:1: SettingWithCopyWarning: \n",
            "A value is trying to be set on a copy of a slice from a DataFrame.\n",
            "Try using .loc[row_indexer,col_indexer] = value instead\n",
            "\n",
            "See the caveats in the documentation: https://pandas.pydata.org/pandas-docs/stable/user_guide/indexing.html#returning-a-view-versus-a-copy\n",
            "  df['degree'] = df['degree'].replace(['not imputable_(2147483638)','not available in this year','not available in this release','uncodeable','skipped on web','refused','no answer','not imputable_(2147483637)','dk, na, iap',\"I don't have a job\",'iap',\"don't know\",'see codebook'], np.nan)\n"
          ]
        }
      ]
    },
    {
      "cell_type": "code",
      "source": [
        "df = df[~df['degree'].isna()]"
      ],
      "metadata": {
        "id": "my5A9PObhy3j"
      },
      "execution_count": 333,
      "outputs": []
    },
    {
      "cell_type": "code",
      "source": [
        "# Clean the stress variable by removing all unwanted answers that have zero occurences and replace them with nan.\n",
        "df['stress'].value_counts()"
      ],
      "metadata": {
        "colab": {
          "base_uri": "https://localhost:8080/"
        },
        "id": "JPHrkMPBV0IU",
        "outputId": "d5f2b037-32ae-468f-d701-a64535c0ec23"
      },
      "execution_count": 334,
      "outputs": [
        {
          "output_type": "execute_result",
          "data": {
            "text/plain": [
              "sometimes                        3919\n",
              "often                            2001\n",
              "hardly ever                      1526\n",
              "always                            842\n",
              "never                             573\n",
              "not imputable_(2147483638)          0\n",
              "not available in this year          0\n",
              "not available in this release       0\n",
              "uncodeable                          0\n",
              "skipped on web                      0\n",
              "refused                             0\n",
              "no answer                           0\n",
              "not imputable_(2147483637)          0\n",
              "dk, na, iap                         0\n",
              "I don't have a job                  0\n",
              "iap                                 0\n",
              "can't choose                        0\n",
              "see codebook                        0\n",
              "Name: stress, dtype: int64"
            ]
          },
          "metadata": {},
          "execution_count": 334
        }
      ]
    },
    {
      "cell_type": "code",
      "source": [
        "df['stress'] = df['stress'].replace(['not imputable_(2147483638)','not available in this year','not available in this release','uncodeable','skipped on web','refused','no answer','not imputable_(2147483637)','dk, na, iap',\"I don't have a job\",'iap',\"don't know\",\"can't choose\",'see codebook'], np.nan)\n",
        "print(df['stress'].value_counts())"
      ],
      "metadata": {
        "colab": {
          "base_uri": "https://localhost:8080/"
        },
        "id": "ibxvZx_BWHuU",
        "outputId": "7ae52ff1-1875-4200-d533-458dbbaa5e84"
      },
      "execution_count": 335,
      "outputs": [
        {
          "output_type": "stream",
          "name": "stdout",
          "text": [
            "sometimes      3919\n",
            "often          2001\n",
            "hardly ever    1526\n",
            "always          842\n",
            "never           573\n",
            "Name: stress, dtype: int64\n"
          ]
        }
      ]
    },
    {
      "cell_type": "code",
      "source": [
        "df = df[~df['stress'].isna()]"
      ],
      "metadata": {
        "id": "Twolm8K_h-Dq"
      },
      "execution_count": 336,
      "outputs": []
    },
    {
      "cell_type": "code",
      "source": [
        "# Clean the marital variable by removing all unwanted answers that have zero occurences and replace them with nan.\n",
        "df['marital'].value_counts()"
      ],
      "metadata": {
        "colab": {
          "base_uri": "https://localhost:8080/"
        },
        "id": "qknVkjKjWq97",
        "outputId": "b6d894a3-3065-41d6-d9b6-8b191ca91296"
      },
      "execution_count": 337,
      "outputs": [
        {
          "output_type": "execute_result",
          "data": {
            "text/plain": [
              "married                          4123\n",
              "never married                    2675\n",
              "divorced                         1516\n",
              "widowed                           274\n",
              "separated                         265\n",
              "not imputable_(2147483638)          0\n",
              "not available in this year          0\n",
              "not available in this release       0\n",
              "uncodeable                          0\n",
              "skipped on web                      0\n",
              "refused                             0\n",
              "no answer                           0\n",
              "not imputable_(2147483637)          0\n",
              "dk, na, iap                         0\n",
              "I don't have a job                  0\n",
              "iap                                 0\n",
              "don't know                          0\n",
              "see codebook                        0\n",
              "Name: marital, dtype: int64"
            ]
          },
          "metadata": {},
          "execution_count": 337
        }
      ]
    },
    {
      "cell_type": "code",
      "source": [
        "df['marital'] = df['marital'].replace(['not imputable_(2147483638)','not available in this year','not available in this release','uncodeable','skipped on web','refused','no answer','not imputable_(2147483637)','dk, na, iap',\"I don't have a job\",'iap',\"don't know\",'see codebook'], np.nan)\n",
        "print(df['marital'].value_counts())"
      ],
      "metadata": {
        "colab": {
          "base_uri": "https://localhost:8080/"
        },
        "id": "zRwreWukW2CS",
        "outputId": "f2d3d173-5032-4ddb-d52a-2e10ca49b1f8"
      },
      "execution_count": 338,
      "outputs": [
        {
          "output_type": "stream",
          "name": "stdout",
          "text": [
            "married          4123\n",
            "never married    2675\n",
            "divorced         1516\n",
            "widowed           274\n",
            "separated         265\n",
            "Name: marital, dtype: int64\n"
          ]
        },
        {
          "output_type": "stream",
          "name": "stderr",
          "text": [
            "<ipython-input-338-1a95a90df85a>:1: SettingWithCopyWarning: \n",
            "A value is trying to be set on a copy of a slice from a DataFrame.\n",
            "Try using .loc[row_indexer,col_indexer] = value instead\n",
            "\n",
            "See the caveats in the documentation: https://pandas.pydata.org/pandas-docs/stable/user_guide/indexing.html#returning-a-view-versus-a-copy\n",
            "  df['marital'] = df['marital'].replace(['not imputable_(2147483638)','not available in this year','not available in this release','uncodeable','skipped on web','refused','no answer','not imputable_(2147483637)','dk, na, iap',\"I don't have a job\",'iap',\"don't know\",'see codebook'], np.nan)\n"
          ]
        }
      ]
    },
    {
      "cell_type": "code",
      "source": [
        "df = df[~df['marital'].isna()]"
      ],
      "metadata": {
        "id": "alRGkRXJiAVh"
      },
      "execution_count": 339,
      "outputs": []
    },
    {
      "cell_type": "code",
      "source": [
        "# Clean the race variable by removing all unwanted answers that have zero occurences and replace them with nan.\n",
        "df['race'].value_counts()"
      ],
      "metadata": {
        "colab": {
          "base_uri": "https://localhost:8080/"
        },
        "id": "lzLI5G2PW-vd",
        "outputId": "8ed71a70-be4a-40f6-e431-7ad89b6ae425"
      },
      "execution_count": 340,
      "outputs": [
        {
          "output_type": "execute_result",
          "data": {
            "text/plain": [
              "white                            6563\n",
              "black                            1332\n",
              "other                             934\n",
              "don't know                          0\n",
              "iap                                 0\n",
              "I don't have a job                  0\n",
              "dk, na, iap                         0\n",
              "no answer                           0\n",
              "not imputable_(2147483637)          0\n",
              "not imputable_(2147483638)          0\n",
              "refused                             0\n",
              "skipped on web                      0\n",
              "uncodeable                          0\n",
              "not available in this release       0\n",
              "not available in this year          0\n",
              "see codebook                        0\n",
              "Name: race, dtype: int64"
            ]
          },
          "metadata": {},
          "execution_count": 340
        }
      ]
    },
    {
      "cell_type": "code",
      "source": [
        "df['race'] = df['race'].replace([\"don't know\",'iap',\"I don't have a job\",'dk, na, iap','no answer','not imputable_(2147483637)','not imputable_(2147483638)','refused','skipped on web','uncodeable','not available in this release','not available in this year','see codebook'], np.nan)\n",
        "print(df['race'].value_counts())"
      ],
      "metadata": {
        "colab": {
          "base_uri": "https://localhost:8080/"
        },
        "id": "HnXGJEiKXc9D",
        "outputId": "5b0b168a-ee51-4751-e531-c863df530216"
      },
      "execution_count": 341,
      "outputs": [
        {
          "output_type": "stream",
          "name": "stdout",
          "text": [
            "white    6563\n",
            "black    1332\n",
            "other     934\n",
            "Name: race, dtype: int64\n"
          ]
        },
        {
          "output_type": "stream",
          "name": "stderr",
          "text": [
            "<ipython-input-341-5f2091121671>:1: SettingWithCopyWarning: \n",
            "A value is trying to be set on a copy of a slice from a DataFrame.\n",
            "Try using .loc[row_indexer,col_indexer] = value instead\n",
            "\n",
            "See the caveats in the documentation: https://pandas.pydata.org/pandas-docs/stable/user_guide/indexing.html#returning-a-view-versus-a-copy\n",
            "  df['race'] = df['race'].replace([\"don't know\",'iap',\"I don't have a job\",'dk, na, iap','no answer','not imputable_(2147483637)','not imputable_(2147483638)','refused','skipped on web','uncodeable','not available in this release','not available in this year','see codebook'], np.nan)\n"
          ]
        }
      ]
    },
    {
      "cell_type": "code",
      "source": [
        "df = df[~df['race'].isna()]"
      ],
      "metadata": {
        "id": "OmLlPZnKiC-B"
      },
      "execution_count": 342,
      "outputs": []
    },
    {
      "cell_type": "code",
      "source": [
        "# Clean the work status variable by removing all unwanted answers that have zero occurences and replace them with nan.\n",
        "df['wrkstat'].value_counts()"
      ],
      "metadata": {
        "colab": {
          "base_uri": "https://localhost:8080/"
        },
        "id": "xCl0Gi60X_yN",
        "outputId": "c0d026a1-19d2-4df0-f6ec-43f5bb0f9188"
      },
      "execution_count": 343,
      "outputs": [
        {
          "output_type": "execute_result",
          "data": {
            "text/plain": [
              "working full time                                                             6947\n",
              "working part time                                                             1578\n",
              "with a job, but not at work because of temporary illness, vacation, strike     281\n",
              "keeping house                                                                   16\n",
              "unemployed, laid off, looking for work                                           7\n",
              "not imputable_(2147483637)                                                       0\n",
              "not available in this year                                                       0\n",
              "not available in this release                                                    0\n",
              "uncodeable                                                                       0\n",
              "skipped on web                                                                   0\n",
              "refused                                                                          0\n",
              "not imputable_(2147483638)                                                       0\n",
              "I don't have a job                                                               0\n",
              "no answer                                                                        0\n",
              "dk, na, iap                                                                      0\n",
              "iap                                                                              0\n",
              "don't know                                                                       0\n",
              "other                                                                            0\n",
              "in school                                                                        0\n",
              "retired                                                                          0\n",
              "see codebook                                                                     0\n",
              "Name: wrkstat, dtype: int64"
            ]
          },
          "metadata": {},
          "execution_count": 343
        }
      ]
    },
    {
      "cell_type": "code",
      "source": [
        "df['wrkstat'] = df['wrkstat'].replace(['not imputable_(2147483638)','not available in this year','not available in this release','uncodeable','skipped on web','refused',\"I don't have a job\",'not imputable_(2147483637)','no answer','dk, na, iap','iap',\"don't know\",'see codebook'], np.nan)\n",
        "print(df['wrkstat'].value_counts())"
      ],
      "metadata": {
        "colab": {
          "base_uri": "https://localhost:8080/"
        },
        "id": "pIt5GD8yYNX4",
        "outputId": "3e9097b5-1218-4531-8d54-5341a94a0b66"
      },
      "execution_count": 344,
      "outputs": [
        {
          "output_type": "stream",
          "name": "stdout",
          "text": [
            "working full time                                                             6947\n",
            "working part time                                                             1578\n",
            "with a job, but not at work because of temporary illness, vacation, strike     281\n",
            "keeping house                                                                   16\n",
            "unemployed, laid off, looking for work                                           7\n",
            "retired                                                                          0\n",
            "in school                                                                        0\n",
            "other                                                                            0\n",
            "Name: wrkstat, dtype: int64\n"
          ]
        },
        {
          "output_type": "stream",
          "name": "stderr",
          "text": [
            "<ipython-input-344-6b68b5594a22>:1: SettingWithCopyWarning: \n",
            "A value is trying to be set on a copy of a slice from a DataFrame.\n",
            "Try using .loc[row_indexer,col_indexer] = value instead\n",
            "\n",
            "See the caveats in the documentation: https://pandas.pydata.org/pandas-docs/stable/user_guide/indexing.html#returning-a-view-versus-a-copy\n",
            "  df['wrkstat'] = df['wrkstat'].replace(['not imputable_(2147483638)','not available in this year','not available in this release','uncodeable','skipped on web','refused',\"I don't have a job\",'not imputable_(2147483637)','no answer','dk, na, iap','iap',\"don't know\",'see codebook'], np.nan)\n"
          ]
        }
      ]
    },
    {
      "cell_type": "code",
      "source": [
        "df = df[~df['wrkstat'].isna()]"
      ],
      "metadata": {
        "id": "uWoQjHKHiRbu"
      },
      "execution_count": 345,
      "outputs": []
    },
    {
      "cell_type": "code",
      "source": [
        "# Number of children does not need cleaning\n",
        "df['childs'].value_counts()"
      ],
      "metadata": {
        "colab": {
          "base_uri": "https://localhost:8080/"
        },
        "id": "PuXpeR8UYyQo",
        "outputId": "d2069f21-13ff-4bd3-8df0-f12700dae362"
      },
      "execution_count": 346,
      "outputs": [
        {
          "output_type": "execute_result",
          "data": {
            "text/plain": [
              "0.0    2796\n",
              "2.0    2323\n",
              "1.0    1497\n",
              "3.0    1294\n",
              "4.0     532\n",
              "5.0     202\n",
              "6.0      97\n",
              "8.0      45\n",
              "7.0      33\n",
              "Name: childs, dtype: int64"
            ]
          },
          "metadata": {},
          "execution_count": 346
        }
      ]
    },
    {
      "cell_type": "code",
      "source": [
        "# Clean the income variable by removing all unwanted answers that have zero occurences and replace them with nan.\n",
        "df['income'].value_counts()"
      ],
      "metadata": {
        "colab": {
          "base_uri": "https://localhost:8080/"
        },
        "id": "Bpa7wHCdcOUS",
        "outputId": "87ff378e-6963-4527-d98f-3942c74aadaf"
      },
      "execution_count": 347,
      "outputs": [
        {
          "output_type": "execute_result",
          "data": {
            "text/plain": [
              "$25,000 or more                  6703\n",
              "$20,000 to $24,999                479\n",
              "$10,000 to $14,999                318\n",
              "$15,000 to $19,999                294\n",
              "$8,000 to $9,999                   80\n",
              "under $1,000                       59\n",
              "$1,000 to $2,999                   53\n",
              "$3,000 to $3,999                   44\n",
              "$6,000 to $6,999                   41\n",
              "$5,000 to $5,999                   41\n",
              "$7,000 to $7,999                   35\n",
              "$4,000 to $4,999                   27\n",
              "not imputable_(2147483638)          0\n",
              "not available in this year          0\n",
              "not available in this release       0\n",
              "uncodeable                          0\n",
              "skipped on web                      0\n",
              "refused                             0\n",
              "don't know                          0\n",
              "not imputable_(2147483637)          0\n",
              "no answer                           0\n",
              "dk, na, iap                         0\n",
              "I don't have a job                  0\n",
              "iap                                 0\n",
              "see codebook                        0\n",
              "Name: income, dtype: int64"
            ]
          },
          "metadata": {},
          "execution_count": 347
        }
      ]
    },
    {
      "cell_type": "code",
      "source": [
        "df['income'] = df['income'].replace(['not imputable_(2147483638)','not available in this year','not available in this release','uncodeable','skipped on web','refused',\"don't know\",'not imputable_(2147483637)','no answer','dk, na, iap',\"I don't have a job\",'iap','see codebook'], np.nan)\n",
        "print(df['income'].value_counts())"
      ],
      "metadata": {
        "colab": {
          "base_uri": "https://localhost:8080/"
        },
        "id": "QSgE9UoAcaIe",
        "outputId": "8b3002b2-0901-40c2-e015-ccbe8a65e1f9"
      },
      "execution_count": 348,
      "outputs": [
        {
          "output_type": "stream",
          "name": "stdout",
          "text": [
            "$25,000 or more       6703\n",
            "$20,000 to $24,999     479\n",
            "$10,000 to $14,999     318\n",
            "$15,000 to $19,999     294\n",
            "$8,000 to $9,999        80\n",
            "under $1,000            59\n",
            "$1,000 to $2,999        53\n",
            "$3,000 to $3,999        44\n",
            "$5,000 to $5,999        41\n",
            "$6,000 to $6,999        41\n",
            "$7,000 to $7,999        35\n",
            "$4,000 to $4,999        27\n",
            "Name: income, dtype: int64\n"
          ]
        }
      ]
    },
    {
      "cell_type": "code",
      "source": [
        "df = df[~df['income'].isna()]"
      ],
      "metadata": {
        "id": "s0wvzf86idQA"
      },
      "execution_count": 349,
      "outputs": []
    },
    {
      "cell_type": "code",
      "source": [
        "df['job_satisfaction'] = df['satjob']\n",
        "df['hours_worked'] = df['hrs2']\n",
        "df['highest_degree'] = df['degree']\n",
        "df['stress_level'] = df['stress']\n",
        "df['marital_status'] = df['marital']\n",
        "df['work_status'] = df['wrkstat']\n",
        "df['num_children'] = df['childs']"
      ],
      "metadata": {
        "colab": {
          "base_uri": "https://localhost:8080/"
        },
        "id": "dpI-Oc7vleSZ",
        "outputId": "39dcc36a-6d48-4ca3-a506-0a447afd860a"
      },
      "execution_count": 350,
      "outputs": [
        {
          "output_type": "stream",
          "name": "stderr",
          "text": [
            "<ipython-input-350-76cc6fc93f49>:1: SettingWithCopyWarning: \n",
            "A value is trying to be set on a copy of a slice from a DataFrame.\n",
            "Try using .loc[row_indexer,col_indexer] = value instead\n",
            "\n",
            "See the caveats in the documentation: https://pandas.pydata.org/pandas-docs/stable/user_guide/indexing.html#returning-a-view-versus-a-copy\n",
            "  df['job_satisfaction'] = df['satjob']\n",
            "<ipython-input-350-76cc6fc93f49>:2: SettingWithCopyWarning: \n",
            "A value is trying to be set on a copy of a slice from a DataFrame.\n",
            "Try using .loc[row_indexer,col_indexer] = value instead\n",
            "\n",
            "See the caveats in the documentation: https://pandas.pydata.org/pandas-docs/stable/user_guide/indexing.html#returning-a-view-versus-a-copy\n",
            "  df['hours_worked'] = df['hrs2']\n",
            "<ipython-input-350-76cc6fc93f49>:3: SettingWithCopyWarning: \n",
            "A value is trying to be set on a copy of a slice from a DataFrame.\n",
            "Try using .loc[row_indexer,col_indexer] = value instead\n",
            "\n",
            "See the caveats in the documentation: https://pandas.pydata.org/pandas-docs/stable/user_guide/indexing.html#returning-a-view-versus-a-copy\n",
            "  df['highest_degree'] = df['degree']\n",
            "<ipython-input-350-76cc6fc93f49>:4: SettingWithCopyWarning: \n",
            "A value is trying to be set on a copy of a slice from a DataFrame.\n",
            "Try using .loc[row_indexer,col_indexer] = value instead\n",
            "\n",
            "See the caveats in the documentation: https://pandas.pydata.org/pandas-docs/stable/user_guide/indexing.html#returning-a-view-versus-a-copy\n",
            "  df['stress_level'] = df['stress']\n",
            "<ipython-input-350-76cc6fc93f49>:5: SettingWithCopyWarning: \n",
            "A value is trying to be set on a copy of a slice from a DataFrame.\n",
            "Try using .loc[row_indexer,col_indexer] = value instead\n",
            "\n",
            "See the caveats in the documentation: https://pandas.pydata.org/pandas-docs/stable/user_guide/indexing.html#returning-a-view-versus-a-copy\n",
            "  df['marital_status'] = df['marital']\n",
            "<ipython-input-350-76cc6fc93f49>:6: SettingWithCopyWarning: \n",
            "A value is trying to be set on a copy of a slice from a DataFrame.\n",
            "Try using .loc[row_indexer,col_indexer] = value instead\n",
            "\n",
            "See the caveats in the documentation: https://pandas.pydata.org/pandas-docs/stable/user_guide/indexing.html#returning-a-view-versus-a-copy\n",
            "  df['work_status'] = df['wrkstat']\n",
            "<ipython-input-350-76cc6fc93f49>:7: SettingWithCopyWarning: \n",
            "A value is trying to be set on a copy of a slice from a DataFrame.\n",
            "Try using .loc[row_indexer,col_indexer] = value instead\n",
            "\n",
            "See the caveats in the documentation: https://pandas.pydata.org/pandas-docs/stable/user_guide/indexing.html#returning-a-view-versus-a-copy\n",
            "  df['num_children'] = df['childs']\n"
          ]
        }
      ]
    },
    {
      "cell_type": "code",
      "source": [
        "clean_columns = ['year','job_satisfaction', 'hours_worked','age','sex','highest_degree','stress_level','marital_status','race','work_status','num_children','income']\n",
        "cleaned_df = df[clean_columns].copy()"
      ],
      "metadata": {
        "id": "CiW-gVLanHy6"
      },
      "execution_count": 351,
      "outputs": []
    },
    {
      "cell_type": "code",
      "source": [
        "cleaned_df.head()"
      ],
      "metadata": {
        "colab": {
          "base_uri": "https://localhost:8080/",
          "height": 206
        },
        "id": "A-5Za08Cnt2P",
        "outputId": "3a2f719e-3160-4a99-fdc6-cbd0856d0ce1"
      },
      "execution_count": 352,
      "outputs": [
        {
          "output_type": "execute_result",
          "data": {
            "text/plain": [
              "    year      job_satisfaction  hours_worked   age     sex  \\\n",
              "2   2006  moderately satisfied           NaN  42.0    male   \n",
              "4   2006        very satisfied           NaN  24.0  female   \n",
              "7   2006  moderately satisfied           NaN  52.0  female   \n",
              "8   2006        very satisfied           NaN  42.0    male   \n",
              "11  2006        very satisfied           NaN  48.0  female   \n",
              "\n",
              "              highest_degree stress_level marital_status   race  \\\n",
              "2                 bachelor's        often       divorced  white   \n",
              "4                 bachelor's    sometimes        married  white   \n",
              "7   associate/junior college    sometimes        married  white   \n",
              "8                   graduate    sometimes  never married  white   \n",
              "11                bachelor's        often  never married  white   \n",
              "\n",
              "          work_status  num_children           income  \n",
              "2   working full time           0.0  $25,000 or more  \n",
              "4   working full time           0.0  $25,000 or more  \n",
              "7   working full time           4.0  $25,000 or more  \n",
              "8   working full time           0.0  $25,000 or more  \n",
              "11  working full time           0.0  $25,000 or more  "
            ],
            "text/html": [
              "\n",
              "  <div id=\"df-63541ee7-041a-4842-ac87-0ded25a5c66e\" class=\"colab-df-container\">\n",
              "    <div>\n",
              "<style scoped>\n",
              "    .dataframe tbody tr th:only-of-type {\n",
              "        vertical-align: middle;\n",
              "    }\n",
              "\n",
              "    .dataframe tbody tr th {\n",
              "        vertical-align: top;\n",
              "    }\n",
              "\n",
              "    .dataframe thead th {\n",
              "        text-align: right;\n",
              "    }\n",
              "</style>\n",
              "<table border=\"1\" class=\"dataframe\">\n",
              "  <thead>\n",
              "    <tr style=\"text-align: right;\">\n",
              "      <th></th>\n",
              "      <th>year</th>\n",
              "      <th>job_satisfaction</th>\n",
              "      <th>hours_worked</th>\n",
              "      <th>age</th>\n",
              "      <th>sex</th>\n",
              "      <th>highest_degree</th>\n",
              "      <th>stress_level</th>\n",
              "      <th>marital_status</th>\n",
              "      <th>race</th>\n",
              "      <th>work_status</th>\n",
              "      <th>num_children</th>\n",
              "      <th>income</th>\n",
              "    </tr>\n",
              "  </thead>\n",
              "  <tbody>\n",
              "    <tr>\n",
              "      <th>2</th>\n",
              "      <td>2006</td>\n",
              "      <td>moderately satisfied</td>\n",
              "      <td>NaN</td>\n",
              "      <td>42.0</td>\n",
              "      <td>male</td>\n",
              "      <td>bachelor's</td>\n",
              "      <td>often</td>\n",
              "      <td>divorced</td>\n",
              "      <td>white</td>\n",
              "      <td>working full time</td>\n",
              "      <td>0.0</td>\n",
              "      <td>$25,000 or more</td>\n",
              "    </tr>\n",
              "    <tr>\n",
              "      <th>4</th>\n",
              "      <td>2006</td>\n",
              "      <td>very satisfied</td>\n",
              "      <td>NaN</td>\n",
              "      <td>24.0</td>\n",
              "      <td>female</td>\n",
              "      <td>bachelor's</td>\n",
              "      <td>sometimes</td>\n",
              "      <td>married</td>\n",
              "      <td>white</td>\n",
              "      <td>working full time</td>\n",
              "      <td>0.0</td>\n",
              "      <td>$25,000 or more</td>\n",
              "    </tr>\n",
              "    <tr>\n",
              "      <th>7</th>\n",
              "      <td>2006</td>\n",
              "      <td>moderately satisfied</td>\n",
              "      <td>NaN</td>\n",
              "      <td>52.0</td>\n",
              "      <td>female</td>\n",
              "      <td>associate/junior college</td>\n",
              "      <td>sometimes</td>\n",
              "      <td>married</td>\n",
              "      <td>white</td>\n",
              "      <td>working full time</td>\n",
              "      <td>4.0</td>\n",
              "      <td>$25,000 or more</td>\n",
              "    </tr>\n",
              "    <tr>\n",
              "      <th>8</th>\n",
              "      <td>2006</td>\n",
              "      <td>very satisfied</td>\n",
              "      <td>NaN</td>\n",
              "      <td>42.0</td>\n",
              "      <td>male</td>\n",
              "      <td>graduate</td>\n",
              "      <td>sometimes</td>\n",
              "      <td>never married</td>\n",
              "      <td>white</td>\n",
              "      <td>working full time</td>\n",
              "      <td>0.0</td>\n",
              "      <td>$25,000 or more</td>\n",
              "    </tr>\n",
              "    <tr>\n",
              "      <th>11</th>\n",
              "      <td>2006</td>\n",
              "      <td>very satisfied</td>\n",
              "      <td>NaN</td>\n",
              "      <td>48.0</td>\n",
              "      <td>female</td>\n",
              "      <td>bachelor's</td>\n",
              "      <td>often</td>\n",
              "      <td>never married</td>\n",
              "      <td>white</td>\n",
              "      <td>working full time</td>\n",
              "      <td>0.0</td>\n",
              "      <td>$25,000 or more</td>\n",
              "    </tr>\n",
              "  </tbody>\n",
              "</table>\n",
              "</div>\n",
              "    <div class=\"colab-df-buttons\">\n",
              "\n",
              "  <div class=\"colab-df-container\">\n",
              "    <button class=\"colab-df-convert\" onclick=\"convertToInteractive('df-63541ee7-041a-4842-ac87-0ded25a5c66e')\"\n",
              "            title=\"Convert this dataframe to an interactive table.\"\n",
              "            style=\"display:none;\">\n",
              "\n",
              "  <svg xmlns=\"http://www.w3.org/2000/svg\" height=\"24px\" viewBox=\"0 -960 960 960\">\n",
              "    <path d=\"M120-120v-720h720v720H120Zm60-500h600v-160H180v160Zm220 220h160v-160H400v160Zm0 220h160v-160H400v160ZM180-400h160v-160H180v160Zm440 0h160v-160H620v160ZM180-180h160v-160H180v160Zm440 0h160v-160H620v160Z\"/>\n",
              "  </svg>\n",
              "    </button>\n",
              "\n",
              "  <style>\n",
              "    .colab-df-container {\n",
              "      display:flex;\n",
              "      gap: 12px;\n",
              "    }\n",
              "\n",
              "    .colab-df-convert {\n",
              "      background-color: #E8F0FE;\n",
              "      border: none;\n",
              "      border-radius: 50%;\n",
              "      cursor: pointer;\n",
              "      display: none;\n",
              "      fill: #1967D2;\n",
              "      height: 32px;\n",
              "      padding: 0 0 0 0;\n",
              "      width: 32px;\n",
              "    }\n",
              "\n",
              "    .colab-df-convert:hover {\n",
              "      background-color: #E2EBFA;\n",
              "      box-shadow: 0px 1px 2px rgba(60, 64, 67, 0.3), 0px 1px 3px 1px rgba(60, 64, 67, 0.15);\n",
              "      fill: #174EA6;\n",
              "    }\n",
              "\n",
              "    .colab-df-buttons div {\n",
              "      margin-bottom: 4px;\n",
              "    }\n",
              "\n",
              "    [theme=dark] .colab-df-convert {\n",
              "      background-color: #3B4455;\n",
              "      fill: #D2E3FC;\n",
              "    }\n",
              "\n",
              "    [theme=dark] .colab-df-convert:hover {\n",
              "      background-color: #434B5C;\n",
              "      box-shadow: 0px 1px 3px 1px rgba(0, 0, 0, 0.15);\n",
              "      filter: drop-shadow(0px 1px 2px rgba(0, 0, 0, 0.3));\n",
              "      fill: #FFFFFF;\n",
              "    }\n",
              "  </style>\n",
              "\n",
              "    <script>\n",
              "      const buttonEl =\n",
              "        document.querySelector('#df-63541ee7-041a-4842-ac87-0ded25a5c66e button.colab-df-convert');\n",
              "      buttonEl.style.display =\n",
              "        google.colab.kernel.accessAllowed ? 'block' : 'none';\n",
              "\n",
              "      async function convertToInteractive(key) {\n",
              "        const element = document.querySelector('#df-63541ee7-041a-4842-ac87-0ded25a5c66e');\n",
              "        const dataTable =\n",
              "          await google.colab.kernel.invokeFunction('convertToInteractive',\n",
              "                                                    [key], {});\n",
              "        if (!dataTable) return;\n",
              "\n",
              "        const docLinkHtml = 'Like what you see? Visit the ' +\n",
              "          '<a target=\"_blank\" href=https://colab.research.google.com/notebooks/data_table.ipynb>data table notebook</a>'\n",
              "          + ' to learn more about interactive tables.';\n",
              "        element.innerHTML = '';\n",
              "        dataTable['output_type'] = 'display_data';\n",
              "        await google.colab.output.renderOutput(dataTable, element);\n",
              "        const docLink = document.createElement('div');\n",
              "        docLink.innerHTML = docLinkHtml;\n",
              "        element.appendChild(docLink);\n",
              "      }\n",
              "    </script>\n",
              "  </div>\n",
              "\n",
              "\n",
              "<div id=\"df-6d3342f8-33c3-496a-8335-4875fc87bd40\">\n",
              "  <button class=\"colab-df-quickchart\" onclick=\"quickchart('df-6d3342f8-33c3-496a-8335-4875fc87bd40')\"\n",
              "            title=\"Suggest charts\"\n",
              "            style=\"display:none;\">\n",
              "\n",
              "<svg xmlns=\"http://www.w3.org/2000/svg\" height=\"24px\"viewBox=\"0 0 24 24\"\n",
              "     width=\"24px\">\n",
              "    <g>\n",
              "        <path d=\"M19 3H5c-1.1 0-2 .9-2 2v14c0 1.1.9 2 2 2h14c1.1 0 2-.9 2-2V5c0-1.1-.9-2-2-2zM9 17H7v-7h2v7zm4 0h-2V7h2v10zm4 0h-2v-4h2v4z\"/>\n",
              "    </g>\n",
              "</svg>\n",
              "  </button>\n",
              "\n",
              "<style>\n",
              "  .colab-df-quickchart {\n",
              "      --bg-color: #E8F0FE;\n",
              "      --fill-color: #1967D2;\n",
              "      --hover-bg-color: #E2EBFA;\n",
              "      --hover-fill-color: #174EA6;\n",
              "      --disabled-fill-color: #AAA;\n",
              "      --disabled-bg-color: #DDD;\n",
              "  }\n",
              "\n",
              "  [theme=dark] .colab-df-quickchart {\n",
              "      --bg-color: #3B4455;\n",
              "      --fill-color: #D2E3FC;\n",
              "      --hover-bg-color: #434B5C;\n",
              "      --hover-fill-color: #FFFFFF;\n",
              "      --disabled-bg-color: #3B4455;\n",
              "      --disabled-fill-color: #666;\n",
              "  }\n",
              "\n",
              "  .colab-df-quickchart {\n",
              "    background-color: var(--bg-color);\n",
              "    border: none;\n",
              "    border-radius: 50%;\n",
              "    cursor: pointer;\n",
              "    display: none;\n",
              "    fill: var(--fill-color);\n",
              "    height: 32px;\n",
              "    padding: 0;\n",
              "    width: 32px;\n",
              "  }\n",
              "\n",
              "  .colab-df-quickchart:hover {\n",
              "    background-color: var(--hover-bg-color);\n",
              "    box-shadow: 0 1px 2px rgba(60, 64, 67, 0.3), 0 1px 3px 1px rgba(60, 64, 67, 0.15);\n",
              "    fill: var(--button-hover-fill-color);\n",
              "  }\n",
              "\n",
              "  .colab-df-quickchart-complete:disabled,\n",
              "  .colab-df-quickchart-complete:disabled:hover {\n",
              "    background-color: var(--disabled-bg-color);\n",
              "    fill: var(--disabled-fill-color);\n",
              "    box-shadow: none;\n",
              "  }\n",
              "\n",
              "  .colab-df-spinner {\n",
              "    border: 2px solid var(--fill-color);\n",
              "    border-color: transparent;\n",
              "    border-bottom-color: var(--fill-color);\n",
              "    animation:\n",
              "      spin 1s steps(1) infinite;\n",
              "  }\n",
              "\n",
              "  @keyframes spin {\n",
              "    0% {\n",
              "      border-color: transparent;\n",
              "      border-bottom-color: var(--fill-color);\n",
              "      border-left-color: var(--fill-color);\n",
              "    }\n",
              "    20% {\n",
              "      border-color: transparent;\n",
              "      border-left-color: var(--fill-color);\n",
              "      border-top-color: var(--fill-color);\n",
              "    }\n",
              "    30% {\n",
              "      border-color: transparent;\n",
              "      border-left-color: var(--fill-color);\n",
              "      border-top-color: var(--fill-color);\n",
              "      border-right-color: var(--fill-color);\n",
              "    }\n",
              "    40% {\n",
              "      border-color: transparent;\n",
              "      border-right-color: var(--fill-color);\n",
              "      border-top-color: var(--fill-color);\n",
              "    }\n",
              "    60% {\n",
              "      border-color: transparent;\n",
              "      border-right-color: var(--fill-color);\n",
              "    }\n",
              "    80% {\n",
              "      border-color: transparent;\n",
              "      border-right-color: var(--fill-color);\n",
              "      border-bottom-color: var(--fill-color);\n",
              "    }\n",
              "    90% {\n",
              "      border-color: transparent;\n",
              "      border-bottom-color: var(--fill-color);\n",
              "    }\n",
              "  }\n",
              "</style>\n",
              "\n",
              "  <script>\n",
              "    async function quickchart(key) {\n",
              "      const quickchartButtonEl =\n",
              "        document.querySelector('#' + key + ' button');\n",
              "      quickchartButtonEl.disabled = true;  // To prevent multiple clicks.\n",
              "      quickchartButtonEl.classList.add('colab-df-spinner');\n",
              "      try {\n",
              "        const charts = await google.colab.kernel.invokeFunction(\n",
              "            'suggestCharts', [key], {});\n",
              "      } catch (error) {\n",
              "        console.error('Error during call to suggestCharts:', error);\n",
              "      }\n",
              "      quickchartButtonEl.classList.remove('colab-df-spinner');\n",
              "      quickchartButtonEl.classList.add('colab-df-quickchart-complete');\n",
              "    }\n",
              "    (() => {\n",
              "      let quickchartButtonEl =\n",
              "        document.querySelector('#df-6d3342f8-33c3-496a-8335-4875fc87bd40 button');\n",
              "      quickchartButtonEl.style.display =\n",
              "        google.colab.kernel.accessAllowed ? 'block' : 'none';\n",
              "    })();\n",
              "  </script>\n",
              "</div>\n",
              "    </div>\n",
              "  </div>\n"
            ],
            "application/vnd.google.colaboratory.intrinsic+json": {
              "type": "dataframe",
              "variable_name": "cleaned_df",
              "summary": "{\n  \"name\": \"cleaned_df\",\n  \"rows\": 8174,\n  \"fields\": [\n    {\n      \"column\": \"year\",\n      \"properties\": {\n        \"dtype\": \"int32\",\n        \"num_unique_values\": 7,\n        \"samples\": [\n          2006,\n          2010,\n          2018\n        ],\n        \"semantic_type\": \"\",\n        \"description\": \"\"\n      }\n    },\n    {\n      \"column\": \"job_satisfaction\",\n      \"properties\": {\n        \"dtype\": \"category\",\n        \"num_unique_values\": 4,\n        \"samples\": [\n          \"very satisfied\",\n          \"a little dissatisfied\",\n          \"moderately satisfied\"\n        ],\n        \"semantic_type\": \"\",\n        \"description\": \"\"\n      }\n    },\n    {\n      \"column\": \"hours_worked\",\n      \"properties\": {\n        \"dtype\": \"number\",\n        \"std\": 13.003535106810249,\n        \"min\": 1.0,\n        \"max\": 84.0,\n        \"num_unique_values\": 32,\n        \"samples\": [\n          66.0,\n          55.0,\n          9.0\n        ],\n        \"semantic_type\": \"\",\n        \"description\": \"\"\n      }\n    },\n    {\n      \"column\": \"age\",\n      \"properties\": {\n        \"dtype\": \"number\",\n        \"std\": 13.608275613310918,\n        \"min\": 18.0,\n        \"max\": 89.0,\n        \"num_unique_values\": 71,\n        \"samples\": [\n          43.0,\n          42.0,\n          59.0\n        ],\n        \"semantic_type\": \"\",\n        \"description\": \"\"\n      }\n    },\n    {\n      \"column\": \"sex\",\n      \"properties\": {\n        \"dtype\": \"category\",\n        \"num_unique_values\": 2,\n        \"samples\": [\n          \"female\",\n          \"male\"\n        ],\n        \"semantic_type\": \"\",\n        \"description\": \"\"\n      }\n    },\n    {\n      \"column\": \"highest_degree\",\n      \"properties\": {\n        \"dtype\": \"category\",\n        \"num_unique_values\": 5,\n        \"samples\": [\n          \"associate/junior college\",\n          \"high school\"\n        ],\n        \"semantic_type\": \"\",\n        \"description\": \"\"\n      }\n    },\n    {\n      \"column\": \"stress_level\",\n      \"properties\": {\n        \"dtype\": \"category\",\n        \"num_unique_values\": 5,\n        \"samples\": [\n          \"sometimes\",\n          \"never\"\n        ],\n        \"semantic_type\": \"\",\n        \"description\": \"\"\n      }\n    },\n    {\n      \"column\": \"marital_status\",\n      \"properties\": {\n        \"dtype\": \"category\",\n        \"num_unique_values\": 5,\n        \"samples\": [\n          \"married\",\n          \"widowed\"\n        ],\n        \"semantic_type\": \"\",\n        \"description\": \"\"\n      }\n    },\n    {\n      \"column\": \"race\",\n      \"properties\": {\n        \"dtype\": \"category\",\n        \"num_unique_values\": 3,\n        \"samples\": [\n          \"white\",\n          \"black\"\n        ],\n        \"semantic_type\": \"\",\n        \"description\": \"\"\n      }\n    },\n    {\n      \"column\": \"work_status\",\n      \"properties\": {\n        \"dtype\": \"category\",\n        \"num_unique_values\": 5,\n        \"samples\": [\n          \"working part time\",\n          \"unemployed, laid off, looking for work\"\n        ],\n        \"semantic_type\": \"\",\n        \"description\": \"\"\n      }\n    },\n    {\n      \"column\": \"num_children\",\n      \"properties\": {\n        \"dtype\": \"number\",\n        \"std\": 1.5301308750324678,\n        \"min\": 0.0,\n        \"max\": 8.0,\n        \"num_unique_values\": 9,\n        \"samples\": [\n          5.0,\n          4.0\n        ],\n        \"semantic_type\": \"\",\n        \"description\": \"\"\n      }\n    },\n    {\n      \"column\": \"income\",\n      \"properties\": {\n        \"dtype\": \"category\",\n        \"num_unique_values\": 12,\n        \"samples\": [\n          \"$6,000 to $6,999\",\n          \"$7,000 to $7,999\"\n        ],\n        \"semantic_type\": \"\",\n        \"description\": \"\"\n      }\n    }\n  ]\n}"
            }
          },
          "metadata": {},
          "execution_count": 352
        }
      ]
    },
    {
      "cell_type": "code",
      "source": [
        "cleaned_df.shape"
      ],
      "metadata": {
        "colab": {
          "base_uri": "https://localhost:8080/"
        },
        "id": "AFJEhNpYrwMy",
        "outputId": "18e979bb-9693-4fe2-a112-b0478cc4da2b"
      },
      "execution_count": 353,
      "outputs": [
        {
          "output_type": "execute_result",
          "data": {
            "text/plain": [
              "(8174, 12)"
            ]
          },
          "metadata": {},
          "execution_count": 353
        }
      ]
    },
    {
      "cell_type": "code",
      "source": [
        "df['year'].value_counts()"
      ],
      "metadata": {
        "colab": {
          "base_uri": "https://localhost:8080/"
        },
        "id": "a8WGPkV6w_5O",
        "outputId": "afddb0b4-0272-4d82-a848-eb7e171235a1"
      },
      "execution_count": 354,
      "outputs": [
        {
          "output_type": "execute_result",
          "data": {
            "text/plain": [
              "2022    1750\n",
              "2018    1336\n",
              "2014    1175\n",
              "2010    1073\n",
              "2012    1049\n",
              "2006     951\n",
              "2016     840\n",
              "Name: year, dtype: int64"
            ]
          },
          "metadata": {},
          "execution_count": 354
        }
      ]
    }
  ]
}