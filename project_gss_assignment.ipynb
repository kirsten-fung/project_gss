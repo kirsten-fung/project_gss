{
  "nbformat": 4,
  "nbformat_minor": 0,
  "metadata": {
    "colab": {
      "provenance": [],
      "authorship_tag": "ABX9TyO4GNk2RoS7jHt/UO3vWAsw",
      "include_colab_link": true
    },
    "kernelspec": {
      "name": "python3",
      "display_name": "Python 3"
    },
    "language_info": {
      "name": "python"
    }
  },
  "cells": [
    {
      "cell_type": "markdown",
      "metadata": {
        "id": "view-in-github",
        "colab_type": "text"
      },
      "source": [
        "<a href=\"https://colab.research.google.com/github/kirsten-fung/project_gss/blob/main/project_gss_assignment.ipynb\" target=\"_parent\"><img src=\"https://colab.research.google.com/assets/colab-badge.svg\" alt=\"Open In Colab\"/></a>"
      ]
    },
    {
      "cell_type": "markdown",
      "source": [
        "Research Question: Is there a relationship between perceptions of work-life balance and job satisfaction among survey participants?"
      ],
      "metadata": {
        "id": "xXxrn8g0OfbI"
      }
    },
    {
      "cell_type": "code",
      "execution_count": 64,
      "metadata": {
        "colab": {
          "base_uri": "https://localhost:8080/"
        },
        "id": "yR5WO6fmOOYr",
        "outputId": "83e384b1-4690-45b8-bdd6-d59766fbaa12"
      },
      "outputs": [
        {
          "output_type": "stream",
          "name": "stdout",
          "text": [
            "https://github.com/DS3001/project_gss/raw/main/gss_chunk_1.parquet\n",
            "   year  id            wrkstat  hrs1  hrs2 evwork    occ  prestige  \\\n",
            "0  1972   1  working full time   NaN   NaN    NaN  205.0      50.0   \n",
            "1  1972   2            retired   NaN   NaN    yes  441.0      45.0   \n",
            "2  1972   3  working part time   NaN   NaN    NaN  270.0      44.0   \n",
            "3  1972   4  working full time   NaN   NaN    NaN    1.0      57.0   \n",
            "4  1972   5      keeping house   NaN   NaN    yes  385.0      40.0   \n",
            "\n",
            "         wrkslf wrkgovt  ...  agehef12 agehef13 agehef14  hompoph wtssps_nea  \\\n",
            "0  someone else     NaN  ...       NaN      NaN      NaN      NaN        NaN   \n",
            "1  someone else     NaN  ...       NaN      NaN      NaN      NaN        NaN   \n",
            "2  someone else     NaN  ...       NaN      NaN      NaN      NaN        NaN   \n",
            "3  someone else     NaN  ...       NaN      NaN      NaN      NaN        NaN   \n",
            "4  someone else     NaN  ...       NaN      NaN      NaN      NaN        NaN   \n",
            "\n",
            "   wtssnrps_nea  wtssps_next wtssnrps_next wtsscomp wtsscompnr  \n",
            "0           NaN          NaN           NaN   0.4446        NaN  \n",
            "1           NaN          NaN           NaN   0.8893        NaN  \n",
            "2           NaN          NaN           NaN   0.8893        NaN  \n",
            "3           NaN          NaN           NaN   0.8893        NaN  \n",
            "4           NaN          NaN           NaN   0.8893        NaN  \n",
            "\n",
            "[5 rows x 6694 columns]\n",
            "https://github.com/DS3001/project_gss/raw/main/gss_chunk_2.parquet\n",
            "   year   id            wrkstat  hrs1  hrs2 evwork    occ  prestige  \\\n",
            "0  1989  775            retired   NaN   NaN    yes  540.0      36.0   \n",
            "1  1989  776  working full time  40.0   NaN    NaN  925.0      36.0   \n",
            "2  1989  777            retired   NaN   NaN    yes   80.0      61.0   \n",
            "3  1989  778  working full time  44.0   NaN    NaN  912.0      26.0   \n",
            "4  1989  779            retired   NaN   NaN    yes  690.0      32.0   \n",
            "\n",
            "         wrkslf wrkgovt  ...  agehef12 agehef13 agehef14  hompoph wtssps_nea  \\\n",
            "0  someone else     NaN  ...       NaN      NaN      NaN      NaN        NaN   \n",
            "1  someone else     NaN  ...       NaN      NaN      NaN      NaN        NaN   \n",
            "2  someone else     NaN  ...       NaN      NaN      NaN      NaN        NaN   \n",
            "3  someone else     NaN  ...       NaN      NaN      NaN      NaN        NaN   \n",
            "4  someone else     NaN  ...       NaN      NaN      NaN      NaN        NaN   \n",
            "\n",
            "   wtssnrps_nea  wtssps_next wtssnrps_next  wtsscomp wtsscompnr  \n",
            "0           NaN          NaN           NaN  1.295069        NaN  \n",
            "1           NaN          NaN           NaN  0.483624        NaN  \n",
            "2           NaN          NaN           NaN  0.407988        NaN  \n",
            "3           NaN          NaN           NaN  1.225988        NaN  \n",
            "4           NaN          NaN           NaN  0.504302        NaN  \n",
            "\n",
            "[5 rows x 6694 columns]\n",
            "https://github.com/DS3001/project_gss/raw/main/gss_chunk_3.parquet\n",
            "   year    id            wrkstat  hrs1  hrs2 evwork  occ  prestige  \\\n",
            "0  2006  1751  working full time  40.0   NaN    NaN  NaN       NaN   \n",
            "1  2006  1752          in school   NaN   NaN    yes  NaN       NaN   \n",
            "2  2006  1753  working full time  35.0   NaN    NaN  NaN       NaN   \n",
            "3  2006  1754  working full time  50.0   NaN    NaN  NaN       NaN   \n",
            "4  2006  1755  working full time  40.0   NaN    NaN  NaN       NaN   \n",
            "\n",
            "         wrkslf     wrkgovt  ...  agehef12 agehef13 agehef14  hompoph  \\\n",
            "0  someone else  government  ...       NaN      NaN      NaN      NaN   \n",
            "1  someone else     private  ...       NaN      NaN      NaN      NaN   \n",
            "2  someone else  government  ...       NaN      NaN      NaN      NaN   \n",
            "3  someone else  government  ...       NaN      NaN      NaN      NaN   \n",
            "4  someone else     private  ...       NaN      NaN      NaN      NaN   \n",
            "\n",
            "  wtssps_nea  wtssnrps_nea  wtssps_next wtssnrps_next  wtsscomp wtsscompnr  \n",
            "0        NaN           NaN          NaN           NaN  1.079141   0.961150  \n",
            "1        NaN           NaN          NaN           NaN  7.673834   6.641571  \n",
            "2        NaN           NaN          NaN           NaN  0.584663   0.512145  \n",
            "3        NaN           NaN          NaN           NaN  0.715731   0.637592  \n",
            "4        NaN           NaN          NaN           NaN  1.094831   0.956094  \n",
            "\n",
            "[5 rows x 6694 columns]\n"
          ]
        }
      ],
      "source": [
        "import pandas as pd\n",
        "import numpy as np\n",
        "#\n",
        "var_list = ['wrkstat', 'prestige'] # List of variables you want to save\n",
        "output_filename = 'selected_gss_data.csv' # Name of the file you want to save the data to\n",
        "#\n",
        "modes = ['w','a'] # Has write mode and append mode\n",
        "phase = 0 # Starts in write mode; after one iteration of loop, switches to append mode\n",
        "#\n",
        "for k in range(3): # for each chunk of the data\n",
        "    url = 'https://github.com/DS3001/project_gss/raw/main/gss_chunk_' + str(1+k) + '.parquet' # Create url to the chunk to be processed\n",
        "    print(url) # Check the url is correct\n",
        "    df = pd.read_parquet(url) # Download this chunk of data\n",
        "    print(df.head()) # Visually inspect the first few rows\n",
        "    df.loc[:,var_list].to_csv(output_filename, # specifies target file to save the chunk to\n",
        "                              mode=modes[phase], # control write versus append\n",
        "                              header=var_list, # variable names\n",
        "                              index=False) # no row index saved\n",
        "    phase = 1 # Switch from write mode to append mode"
      ]
    },
    {
      "cell_type": "code",
      "source": [
        "# General overview of dataframe\n",
        "df.head()"
      ],
      "metadata": {
        "colab": {
          "base_uri": "https://localhost:8080/",
          "height": 322
        },
        "id": "YVbiACPDOvuY",
        "outputId": "946547e4-7503-4c9a-80cf-2a800bdd80eb"
      },
      "execution_count": 65,
      "outputs": [
        {
          "output_type": "execute_result",
          "data": {
            "text/plain": [
              "   year    id            wrkstat  hrs1  hrs2 evwork  occ  prestige  \\\n",
              "0  2006  1751  working full time  40.0   NaN    NaN  NaN       NaN   \n",
              "1  2006  1752          in school   NaN   NaN    yes  NaN       NaN   \n",
              "2  2006  1753  working full time  35.0   NaN    NaN  NaN       NaN   \n",
              "3  2006  1754  working full time  50.0   NaN    NaN  NaN       NaN   \n",
              "4  2006  1755  working full time  40.0   NaN    NaN  NaN       NaN   \n",
              "\n",
              "         wrkslf     wrkgovt  ...  agehef12 agehef13 agehef14  hompoph  \\\n",
              "0  someone else  government  ...       NaN      NaN      NaN      NaN   \n",
              "1  someone else     private  ...       NaN      NaN      NaN      NaN   \n",
              "2  someone else  government  ...       NaN      NaN      NaN      NaN   \n",
              "3  someone else  government  ...       NaN      NaN      NaN      NaN   \n",
              "4  someone else     private  ...       NaN      NaN      NaN      NaN   \n",
              "\n",
              "  wtssps_nea  wtssnrps_nea  wtssps_next wtssnrps_next  wtsscomp wtsscompnr  \n",
              "0        NaN           NaN          NaN           NaN  1.079141   0.961150  \n",
              "1        NaN           NaN          NaN           NaN  7.673834   6.641571  \n",
              "2        NaN           NaN          NaN           NaN  0.584663   0.512145  \n",
              "3        NaN           NaN          NaN           NaN  0.715731   0.637592  \n",
              "4        NaN           NaN          NaN           NaN  1.094831   0.956094  \n",
              "\n",
              "[5 rows x 6694 columns]"
            ],
            "text/html": [
              "\n",
              "  <div id=\"df-905dc65e-541c-4284-ad3e-d71700fc0f56\" class=\"colab-df-container\">\n",
              "    <div>\n",
              "<style scoped>\n",
              "    .dataframe tbody tr th:only-of-type {\n",
              "        vertical-align: middle;\n",
              "    }\n",
              "\n",
              "    .dataframe tbody tr th {\n",
              "        vertical-align: top;\n",
              "    }\n",
              "\n",
              "    .dataframe thead th {\n",
              "        text-align: right;\n",
              "    }\n",
              "</style>\n",
              "<table border=\"1\" class=\"dataframe\">\n",
              "  <thead>\n",
              "    <tr style=\"text-align: right;\">\n",
              "      <th></th>\n",
              "      <th>year</th>\n",
              "      <th>id</th>\n",
              "      <th>wrkstat</th>\n",
              "      <th>hrs1</th>\n",
              "      <th>hrs2</th>\n",
              "      <th>evwork</th>\n",
              "      <th>occ</th>\n",
              "      <th>prestige</th>\n",
              "      <th>wrkslf</th>\n",
              "      <th>wrkgovt</th>\n",
              "      <th>...</th>\n",
              "      <th>agehef12</th>\n",
              "      <th>agehef13</th>\n",
              "      <th>agehef14</th>\n",
              "      <th>hompoph</th>\n",
              "      <th>wtssps_nea</th>\n",
              "      <th>wtssnrps_nea</th>\n",
              "      <th>wtssps_next</th>\n",
              "      <th>wtssnrps_next</th>\n",
              "      <th>wtsscomp</th>\n",
              "      <th>wtsscompnr</th>\n",
              "    </tr>\n",
              "  </thead>\n",
              "  <tbody>\n",
              "    <tr>\n",
              "      <th>0</th>\n",
              "      <td>2006</td>\n",
              "      <td>1751</td>\n",
              "      <td>working full time</td>\n",
              "      <td>40.0</td>\n",
              "      <td>NaN</td>\n",
              "      <td>NaN</td>\n",
              "      <td>NaN</td>\n",
              "      <td>NaN</td>\n",
              "      <td>someone else</td>\n",
              "      <td>government</td>\n",
              "      <td>...</td>\n",
              "      <td>NaN</td>\n",
              "      <td>NaN</td>\n",
              "      <td>NaN</td>\n",
              "      <td>NaN</td>\n",
              "      <td>NaN</td>\n",
              "      <td>NaN</td>\n",
              "      <td>NaN</td>\n",
              "      <td>NaN</td>\n",
              "      <td>1.079141</td>\n",
              "      <td>0.961150</td>\n",
              "    </tr>\n",
              "    <tr>\n",
              "      <th>1</th>\n",
              "      <td>2006</td>\n",
              "      <td>1752</td>\n",
              "      <td>in school</td>\n",
              "      <td>NaN</td>\n",
              "      <td>NaN</td>\n",
              "      <td>yes</td>\n",
              "      <td>NaN</td>\n",
              "      <td>NaN</td>\n",
              "      <td>someone else</td>\n",
              "      <td>private</td>\n",
              "      <td>...</td>\n",
              "      <td>NaN</td>\n",
              "      <td>NaN</td>\n",
              "      <td>NaN</td>\n",
              "      <td>NaN</td>\n",
              "      <td>NaN</td>\n",
              "      <td>NaN</td>\n",
              "      <td>NaN</td>\n",
              "      <td>NaN</td>\n",
              "      <td>7.673834</td>\n",
              "      <td>6.641571</td>\n",
              "    </tr>\n",
              "    <tr>\n",
              "      <th>2</th>\n",
              "      <td>2006</td>\n",
              "      <td>1753</td>\n",
              "      <td>working full time</td>\n",
              "      <td>35.0</td>\n",
              "      <td>NaN</td>\n",
              "      <td>NaN</td>\n",
              "      <td>NaN</td>\n",
              "      <td>NaN</td>\n",
              "      <td>someone else</td>\n",
              "      <td>government</td>\n",
              "      <td>...</td>\n",
              "      <td>NaN</td>\n",
              "      <td>NaN</td>\n",
              "      <td>NaN</td>\n",
              "      <td>NaN</td>\n",
              "      <td>NaN</td>\n",
              "      <td>NaN</td>\n",
              "      <td>NaN</td>\n",
              "      <td>NaN</td>\n",
              "      <td>0.584663</td>\n",
              "      <td>0.512145</td>\n",
              "    </tr>\n",
              "    <tr>\n",
              "      <th>3</th>\n",
              "      <td>2006</td>\n",
              "      <td>1754</td>\n",
              "      <td>working full time</td>\n",
              "      <td>50.0</td>\n",
              "      <td>NaN</td>\n",
              "      <td>NaN</td>\n",
              "      <td>NaN</td>\n",
              "      <td>NaN</td>\n",
              "      <td>someone else</td>\n",
              "      <td>government</td>\n",
              "      <td>...</td>\n",
              "      <td>NaN</td>\n",
              "      <td>NaN</td>\n",
              "      <td>NaN</td>\n",
              "      <td>NaN</td>\n",
              "      <td>NaN</td>\n",
              "      <td>NaN</td>\n",
              "      <td>NaN</td>\n",
              "      <td>NaN</td>\n",
              "      <td>0.715731</td>\n",
              "      <td>0.637592</td>\n",
              "    </tr>\n",
              "    <tr>\n",
              "      <th>4</th>\n",
              "      <td>2006</td>\n",
              "      <td>1755</td>\n",
              "      <td>working full time</td>\n",
              "      <td>40.0</td>\n",
              "      <td>NaN</td>\n",
              "      <td>NaN</td>\n",
              "      <td>NaN</td>\n",
              "      <td>NaN</td>\n",
              "      <td>someone else</td>\n",
              "      <td>private</td>\n",
              "      <td>...</td>\n",
              "      <td>NaN</td>\n",
              "      <td>NaN</td>\n",
              "      <td>NaN</td>\n",
              "      <td>NaN</td>\n",
              "      <td>NaN</td>\n",
              "      <td>NaN</td>\n",
              "      <td>NaN</td>\n",
              "      <td>NaN</td>\n",
              "      <td>1.094831</td>\n",
              "      <td>0.956094</td>\n",
              "    </tr>\n",
              "  </tbody>\n",
              "</table>\n",
              "<p>5 rows × 6694 columns</p>\n",
              "</div>\n",
              "    <div class=\"colab-df-buttons\">\n",
              "\n",
              "  <div class=\"colab-df-container\">\n",
              "    <button class=\"colab-df-convert\" onclick=\"convertToInteractive('df-905dc65e-541c-4284-ad3e-d71700fc0f56')\"\n",
              "            title=\"Convert this dataframe to an interactive table.\"\n",
              "            style=\"display:none;\">\n",
              "\n",
              "  <svg xmlns=\"http://www.w3.org/2000/svg\" height=\"24px\" viewBox=\"0 -960 960 960\">\n",
              "    <path d=\"M120-120v-720h720v720H120Zm60-500h600v-160H180v160Zm220 220h160v-160H400v160Zm0 220h160v-160H400v160ZM180-400h160v-160H180v160Zm440 0h160v-160H620v160ZM180-180h160v-160H180v160Zm440 0h160v-160H620v160Z\"/>\n",
              "  </svg>\n",
              "    </button>\n",
              "\n",
              "  <style>\n",
              "    .colab-df-container {\n",
              "      display:flex;\n",
              "      gap: 12px;\n",
              "    }\n",
              "\n",
              "    .colab-df-convert {\n",
              "      background-color: #E8F0FE;\n",
              "      border: none;\n",
              "      border-radius: 50%;\n",
              "      cursor: pointer;\n",
              "      display: none;\n",
              "      fill: #1967D2;\n",
              "      height: 32px;\n",
              "      padding: 0 0 0 0;\n",
              "      width: 32px;\n",
              "    }\n",
              "\n",
              "    .colab-df-convert:hover {\n",
              "      background-color: #E2EBFA;\n",
              "      box-shadow: 0px 1px 2px rgba(60, 64, 67, 0.3), 0px 1px 3px 1px rgba(60, 64, 67, 0.15);\n",
              "      fill: #174EA6;\n",
              "    }\n",
              "\n",
              "    .colab-df-buttons div {\n",
              "      margin-bottom: 4px;\n",
              "    }\n",
              "\n",
              "    [theme=dark] .colab-df-convert {\n",
              "      background-color: #3B4455;\n",
              "      fill: #D2E3FC;\n",
              "    }\n",
              "\n",
              "    [theme=dark] .colab-df-convert:hover {\n",
              "      background-color: #434B5C;\n",
              "      box-shadow: 0px 1px 3px 1px rgba(0, 0, 0, 0.15);\n",
              "      filter: drop-shadow(0px 1px 2px rgba(0, 0, 0, 0.3));\n",
              "      fill: #FFFFFF;\n",
              "    }\n",
              "  </style>\n",
              "\n",
              "    <script>\n",
              "      const buttonEl =\n",
              "        document.querySelector('#df-905dc65e-541c-4284-ad3e-d71700fc0f56 button.colab-df-convert');\n",
              "      buttonEl.style.display =\n",
              "        google.colab.kernel.accessAllowed ? 'block' : 'none';\n",
              "\n",
              "      async function convertToInteractive(key) {\n",
              "        const element = document.querySelector('#df-905dc65e-541c-4284-ad3e-d71700fc0f56');\n",
              "        const dataTable =\n",
              "          await google.colab.kernel.invokeFunction('convertToInteractive',\n",
              "                                                    [key], {});\n",
              "        if (!dataTable) return;\n",
              "\n",
              "        const docLinkHtml = 'Like what you see? Visit the ' +\n",
              "          '<a target=\"_blank\" href=https://colab.research.google.com/notebooks/data_table.ipynb>data table notebook</a>'\n",
              "          + ' to learn more about interactive tables.';\n",
              "        element.innerHTML = '';\n",
              "        dataTable['output_type'] = 'display_data';\n",
              "        await google.colab.output.renderOutput(dataTable, element);\n",
              "        const docLink = document.createElement('div');\n",
              "        docLink.innerHTML = docLinkHtml;\n",
              "        element.appendChild(docLink);\n",
              "      }\n",
              "    </script>\n",
              "  </div>\n",
              "\n",
              "\n",
              "<div id=\"df-f4a30737-dde3-458f-a2f9-17ebc1d341b9\">\n",
              "  <button class=\"colab-df-quickchart\" onclick=\"quickchart('df-f4a30737-dde3-458f-a2f9-17ebc1d341b9')\"\n",
              "            title=\"Suggest charts\"\n",
              "            style=\"display:none;\">\n",
              "\n",
              "<svg xmlns=\"http://www.w3.org/2000/svg\" height=\"24px\"viewBox=\"0 0 24 24\"\n",
              "     width=\"24px\">\n",
              "    <g>\n",
              "        <path d=\"M19 3H5c-1.1 0-2 .9-2 2v14c0 1.1.9 2 2 2h14c1.1 0 2-.9 2-2V5c0-1.1-.9-2-2-2zM9 17H7v-7h2v7zm4 0h-2V7h2v10zm4 0h-2v-4h2v4z\"/>\n",
              "    </g>\n",
              "</svg>\n",
              "  </button>\n",
              "\n",
              "<style>\n",
              "  .colab-df-quickchart {\n",
              "      --bg-color: #E8F0FE;\n",
              "      --fill-color: #1967D2;\n",
              "      --hover-bg-color: #E2EBFA;\n",
              "      --hover-fill-color: #174EA6;\n",
              "      --disabled-fill-color: #AAA;\n",
              "      --disabled-bg-color: #DDD;\n",
              "  }\n",
              "\n",
              "  [theme=dark] .colab-df-quickchart {\n",
              "      --bg-color: #3B4455;\n",
              "      --fill-color: #D2E3FC;\n",
              "      --hover-bg-color: #434B5C;\n",
              "      --hover-fill-color: #FFFFFF;\n",
              "      --disabled-bg-color: #3B4455;\n",
              "      --disabled-fill-color: #666;\n",
              "  }\n",
              "\n",
              "  .colab-df-quickchart {\n",
              "    background-color: var(--bg-color);\n",
              "    border: none;\n",
              "    border-radius: 50%;\n",
              "    cursor: pointer;\n",
              "    display: none;\n",
              "    fill: var(--fill-color);\n",
              "    height: 32px;\n",
              "    padding: 0;\n",
              "    width: 32px;\n",
              "  }\n",
              "\n",
              "  .colab-df-quickchart:hover {\n",
              "    background-color: var(--hover-bg-color);\n",
              "    box-shadow: 0 1px 2px rgba(60, 64, 67, 0.3), 0 1px 3px 1px rgba(60, 64, 67, 0.15);\n",
              "    fill: var(--button-hover-fill-color);\n",
              "  }\n",
              "\n",
              "  .colab-df-quickchart-complete:disabled,\n",
              "  .colab-df-quickchart-complete:disabled:hover {\n",
              "    background-color: var(--disabled-bg-color);\n",
              "    fill: var(--disabled-fill-color);\n",
              "    box-shadow: none;\n",
              "  }\n",
              "\n",
              "  .colab-df-spinner {\n",
              "    border: 2px solid var(--fill-color);\n",
              "    border-color: transparent;\n",
              "    border-bottom-color: var(--fill-color);\n",
              "    animation:\n",
              "      spin 1s steps(1) infinite;\n",
              "  }\n",
              "\n",
              "  @keyframes spin {\n",
              "    0% {\n",
              "      border-color: transparent;\n",
              "      border-bottom-color: var(--fill-color);\n",
              "      border-left-color: var(--fill-color);\n",
              "    }\n",
              "    20% {\n",
              "      border-color: transparent;\n",
              "      border-left-color: var(--fill-color);\n",
              "      border-top-color: var(--fill-color);\n",
              "    }\n",
              "    30% {\n",
              "      border-color: transparent;\n",
              "      border-left-color: var(--fill-color);\n",
              "      border-top-color: var(--fill-color);\n",
              "      border-right-color: var(--fill-color);\n",
              "    }\n",
              "    40% {\n",
              "      border-color: transparent;\n",
              "      border-right-color: var(--fill-color);\n",
              "      border-top-color: var(--fill-color);\n",
              "    }\n",
              "    60% {\n",
              "      border-color: transparent;\n",
              "      border-right-color: var(--fill-color);\n",
              "    }\n",
              "    80% {\n",
              "      border-color: transparent;\n",
              "      border-right-color: var(--fill-color);\n",
              "      border-bottom-color: var(--fill-color);\n",
              "    }\n",
              "    90% {\n",
              "      border-color: transparent;\n",
              "      border-bottom-color: var(--fill-color);\n",
              "    }\n",
              "  }\n",
              "</style>\n",
              "\n",
              "  <script>\n",
              "    async function quickchart(key) {\n",
              "      const quickchartButtonEl =\n",
              "        document.querySelector('#' + key + ' button');\n",
              "      quickchartButtonEl.disabled = true;  // To prevent multiple clicks.\n",
              "      quickchartButtonEl.classList.add('colab-df-spinner');\n",
              "      try {\n",
              "        const charts = await google.colab.kernel.invokeFunction(\n",
              "            'suggestCharts', [key], {});\n",
              "      } catch (error) {\n",
              "        console.error('Error during call to suggestCharts:', error);\n",
              "      }\n",
              "      quickchartButtonEl.classList.remove('colab-df-spinner');\n",
              "      quickchartButtonEl.classList.add('colab-df-quickchart-complete');\n",
              "    }\n",
              "    (() => {\n",
              "      let quickchartButtonEl =\n",
              "        document.querySelector('#df-f4a30737-dde3-458f-a2f9-17ebc1d341b9 button');\n",
              "      quickchartButtonEl.style.display =\n",
              "        google.colab.kernel.accessAllowed ? 'block' : 'none';\n",
              "    })();\n",
              "  </script>\n",
              "</div>\n",
              "    </div>\n",
              "  </div>\n"
            ],
            "application/vnd.google.colaboratory.intrinsic+json": {
              "type": "dataframe",
              "variable_name": "df"
            }
          },
          "metadata": {},
          "execution_count": 65
        }
      ]
    },
    {
      "cell_type": "code",
      "source": [
        "# Clean the job satisfaction variable by removing all unwanted answers that have zero occurences and replace them with nan.\n",
        "df['jobsat'].value_counts()"
      ],
      "metadata": {
        "colab": {
          "base_uri": "https://localhost:8080/"
        },
        "id": "tuPZS72JQfJL",
        "outputId": "66584b15-525d-4218-e412-802cf4c3801c"
      },
      "execution_count": 66,
      "outputs": [
        {
          "output_type": "execute_result",
          "data": {
            "text/plain": [
              "very satisfied                        572\n",
              "fairly satisfied                      480\n",
              "completely satisfied                  287\n",
              "neither satisfied nor dissatisfied     90\n",
              "fairly dissatisfied                    72\n",
              "very dissatisfied                      38\n",
              "completely dissatisfied                15\n",
              "not imputable_(2147483638)              0\n",
              "not available in this year              0\n",
              "not available in this release           0\n",
              "uncodeable                              0\n",
              "skipped on web                          0\n",
              "refused                                 0\n",
              "dk, na, iap                             0\n",
              "not imputable_(2147483637)              0\n",
              "no answer                               0\n",
              "I don't have a job                      0\n",
              "iap                                     0\n",
              "don't know                              0\n",
              "see codebook                            0\n",
              "Name: jobsat, dtype: int64"
            ]
          },
          "metadata": {},
          "execution_count": 66
        }
      ]
    },
    {
      "cell_type": "code",
      "source": [
        "df['jobsat'] = df['jobsat'].replace(['not imputable_(2147483638)','not available in this year','not available in this release','uncodeable','skipped on web','refused','dk, na, iap','not imputable_(2147483637)','no answer','iap',\"don't know\",'see codebook',\"I don't have a job\"], np.nan)\n",
        "print(df['jobsat'].value_counts())"
      ],
      "metadata": {
        "colab": {
          "base_uri": "https://localhost:8080/"
        },
        "id": "sUE9FuIaPF31",
        "outputId": "776d172b-ac34-4c06-e627-dce68004eab4"
      },
      "execution_count": 67,
      "outputs": [
        {
          "output_type": "stream",
          "name": "stdout",
          "text": [
            "very satisfied                        572\n",
            "fairly satisfied                      480\n",
            "completely satisfied                  287\n",
            "neither satisfied nor dissatisfied     90\n",
            "fairly dissatisfied                    72\n",
            "very dissatisfied                      38\n",
            "completely dissatisfied                15\n",
            "Name: jobsat, dtype: int64\n"
          ]
        }
      ]
    },
    {
      "cell_type": "code",
      "source": [
        "df = df[~df['jobsat'].isna()]"
      ],
      "metadata": {
        "id": "Exe_uX3dgsni"
      },
      "execution_count": 103,
      "outputs": []
    },
    {
      "cell_type": "code",
      "source": [
        "# Hours worked per week does not need cleaning\n",
        "df['hrs2'].unique()"
      ],
      "metadata": {
        "colab": {
          "base_uri": "https://localhost:8080/"
        },
        "id": "axmnZbFhSzh6",
        "outputId": "71b8c003-fd0f-420e-eac2-6059d1893217"
      },
      "execution_count": 68,
      "outputs": [
        {
          "output_type": "execute_result",
          "data": {
            "text/plain": [
              "array([nan, 50., 42., 38., 40., 12., 44., 30.,  5., 45., 17., 60., 32.,\n",
              "       25., 35., 70., 34., 28.,  1., 26., 43., 20., 55.,  3., 10., 65.,\n",
              "       15.,  8.,  7., 48., 16., 36., 18., 41., 24.,  9.,  6., 84., 22.,\n",
              "       21., 46., 80., 66., 52.])"
            ]
          },
          "metadata": {},
          "execution_count": 68
        }
      ]
    },
    {
      "cell_type": "code",
      "source": [
        "# Age does not need cleaning\n",
        "df['age'].unique()"
      ],
      "metadata": {
        "colab": {
          "base_uri": "https://localhost:8080/"
        },
        "id": "PACLyTQCTa9a",
        "outputId": "5d9bb8b0-7494-468a-9287-c26a3a1320d6"
      },
      "execution_count": 69,
      "outputs": [
        {
          "output_type": "execute_result",
          "data": {
            "text/plain": [
              "array([48., 25., 42., 24., 31., 46., 52., 50., 32., 57., 62., 66., 34.,\n",
              "       30., 27., 59., 19., 23., 35., 44., 78., 33., 21., 77., 70., 69.,\n",
              "       26., 89., 37., 68., 83., 61., 72., 53., 79., 58., 36., 51., 56.,\n",
              "       43., 40., 82., 41., 73., 85., 64., 22., 39., 75., 80., 49., 76.,\n",
              "       60., 74., 28., 47., 63., 20., 55., 18., 81., 86., 67., 45., 84.,\n",
              "       nan, 38., 65., 54., 29., 71., 87., 88.])"
            ]
          },
          "metadata": {},
          "execution_count": 69
        }
      ]
    },
    {
      "cell_type": "code",
      "source": [
        "# Clean the sex variable by removing all unwanted answers that have zero occurences and replace them with nan.\n",
        "df['sex'].value_counts()"
      ],
      "metadata": {
        "colab": {
          "base_uri": "https://localhost:8080/"
        },
        "id": "OXhvEnvoTlpm",
        "outputId": "ecdde191-ff71-416d-ee0c-718cd2f49364"
      },
      "execution_count": 70,
      "outputs": [
        {
          "output_type": "execute_result",
          "data": {
            "text/plain": [
              "female                           13234\n",
              "male                             10784\n",
              "don't know                           0\n",
              "iap                                  0\n",
              "I don't have a job                   0\n",
              "dk, na, iap                          0\n",
              "no answer                            0\n",
              "not imputable_(2147483637)           0\n",
              "not imputable_(2147483638)           0\n",
              "refused                              0\n",
              "skipped on web                       0\n",
              "uncodeable                           0\n",
              "not available in this release        0\n",
              "not available in this year           0\n",
              "see codebook                         0\n",
              "Name: sex, dtype: int64"
            ]
          },
          "metadata": {},
          "execution_count": 70
        }
      ]
    },
    {
      "cell_type": "code",
      "source": [
        "df['sex'] = df['sex'].replace([\"don't know\",'iap',\"I don't have a job\",'dk, na, iap','no answer','not imputable_(2147483637)','not imputable_(2147483638)','refused','skipped on web','uncodeable','not available in this release','not available in this year','see codebook'], np.nan)\n",
        "print(df['sex'].value_counts())"
      ],
      "metadata": {
        "colab": {
          "base_uri": "https://localhost:8080/"
        },
        "id": "UgFnY1DtUA-Y",
        "outputId": "13458e92-c6da-40c6-9916-2e9175e7cdf6"
      },
      "execution_count": 71,
      "outputs": [
        {
          "output_type": "stream",
          "name": "stdout",
          "text": [
            "female    13234\n",
            "male      10784\n",
            "Name: sex, dtype: int64\n"
          ]
        }
      ]
    },
    {
      "cell_type": "code",
      "source": [
        "df = df[~df['sex'].isna()]"
      ],
      "metadata": {
        "id": "BuHOyoO8hwMY"
      },
      "execution_count": 104,
      "outputs": []
    },
    {
      "cell_type": "code",
      "source": [
        "# Clean the degree variable by removing all unwanted answers that have zero occurences and replace them with nan.\n",
        "df['degree'].value_counts()"
      ],
      "metadata": {
        "colab": {
          "base_uri": "https://localhost:8080/"
        },
        "id": "j-abr5yKUryf",
        "outputId": "3dbb6a20-b496-4666-8f02-b650b94ae3ee"
      },
      "execution_count": 72,
      "outputs": [
        {
          "output_type": "execute_result",
          "data": {
            "text/plain": [
              "high school                      11604\n",
              "bachelor's                        4750\n",
              "graduate                          2919\n",
              "less than high school             2840\n",
              "associate/junior college          1982\n",
              "not imputable_(2147483638)           0\n",
              "not available in this year           0\n",
              "not available in this release        0\n",
              "uncodeable                           0\n",
              "skipped on web                       0\n",
              "refused                              0\n",
              "no answer                            0\n",
              "not imputable_(2147483637)           0\n",
              "dk, na, iap                          0\n",
              "I don't have a job                   0\n",
              "iap                                  0\n",
              "don't know                           0\n",
              "see codebook                         0\n",
              "Name: degree, dtype: int64"
            ]
          },
          "metadata": {},
          "execution_count": 72
        }
      ]
    },
    {
      "cell_type": "code",
      "source": [
        "df['degree'] = df['degree'].replace(['not imputable_(2147483638)','not available in this year','not available in this release','uncodeable','skipped on web','refused','no answer','not imputable_(2147483637)','dk, na, iap',\"I don't have a job\",'iap',\"don't know\",'see codebook'], np.nan)\n",
        "print(df['degree'].value_counts())"
      ],
      "metadata": {
        "colab": {
          "base_uri": "https://localhost:8080/"
        },
        "id": "JiMNEXUeVCAK",
        "outputId": "9ccc9f09-02e0-4c53-8958-065df75f500e"
      },
      "execution_count": 73,
      "outputs": [
        {
          "output_type": "stream",
          "name": "stdout",
          "text": [
            "high school                 11604\n",
            "bachelor's                   4750\n",
            "graduate                     2919\n",
            "less than high school        2840\n",
            "associate/junior college     1982\n",
            "Name: degree, dtype: int64\n"
          ]
        }
      ]
    },
    {
      "cell_type": "code",
      "source": [
        "df = df[~df['degree'].isna()]"
      ],
      "metadata": {
        "id": "my5A9PObhy3j"
      },
      "execution_count": 105,
      "outputs": []
    },
    {
      "cell_type": "code",
      "source": [
        "# Clean the stress variable by removing all unwanted answers that have zero occurences and replace them with nan.\n",
        "df['stress'].value_counts()"
      ],
      "metadata": {
        "colab": {
          "base_uri": "https://localhost:8080/"
        },
        "id": "JPHrkMPBV0IU",
        "outputId": "565a0e6e-ceab-4174-cbd2-f31ed14e0b2e"
      },
      "execution_count": 74,
      "outputs": [
        {
          "output_type": "execute_result",
          "data": {
            "text/plain": [
              "sometimes                        4195\n",
              "often                            2143\n",
              "hardly ever                      1620\n",
              "always                            950\n",
              "never                             625\n",
              "not imputable_(2147483638)          0\n",
              "not available in this year          0\n",
              "not available in this release       0\n",
              "uncodeable                          0\n",
              "skipped on web                      0\n",
              "refused                             0\n",
              "no answer                           0\n",
              "not imputable_(2147483637)          0\n",
              "dk, na, iap                         0\n",
              "I don't have a job                  0\n",
              "iap                                 0\n",
              "can't choose                        0\n",
              "see codebook                        0\n",
              "Name: stress, dtype: int64"
            ]
          },
          "metadata": {},
          "execution_count": 74
        }
      ]
    },
    {
      "cell_type": "code",
      "source": [
        "df['stress'] = df['stress'].replace(['not imputable_(2147483638)','not available in this year','not available in this release','uncodeable','skipped on web','refused','no answer','not imputable_(2147483637)','dk, na, iap',\"I don't have a job\",'iap',\"don't know\",\"can't choose\",'see codebook'], np.nan)\n",
        "print(df['stress'].value_counts())"
      ],
      "metadata": {
        "colab": {
          "base_uri": "https://localhost:8080/"
        },
        "id": "ibxvZx_BWHuU",
        "outputId": "318e9cbb-f7a1-4aa9-c291-2033d0712134"
      },
      "execution_count": 75,
      "outputs": [
        {
          "output_type": "stream",
          "name": "stdout",
          "text": [
            "sometimes      4195\n",
            "often          2143\n",
            "hardly ever    1620\n",
            "always          950\n",
            "never           625\n",
            "Name: stress, dtype: int64\n"
          ]
        }
      ]
    },
    {
      "cell_type": "code",
      "source": [
        "df = df[~df['stress'].isna()]"
      ],
      "metadata": {
        "id": "Twolm8K_h-Dq"
      },
      "execution_count": 106,
      "outputs": []
    },
    {
      "cell_type": "code",
      "source": [
        "# Clean the marital variable by removing all unwanted answers that have zero occurences and replace them with nan.\n",
        "df['marital'].value_counts()"
      ],
      "metadata": {
        "colab": {
          "base_uri": "https://localhost:8080/"
        },
        "id": "qknVkjKjWq97",
        "outputId": "58574eea-482a-41b3-f002-c6b811879f6c"
      },
      "execution_count": 76,
      "outputs": [
        {
          "output_type": "execute_result",
          "data": {
            "text/plain": [
              "married                          10939\n",
              "never married                     6446\n",
              "divorced                          3989\n",
              "widowed                           1962\n",
              "separated                          753\n",
              "not imputable_(2147483638)           0\n",
              "not available in this year           0\n",
              "not available in this release        0\n",
              "uncodeable                           0\n",
              "skipped on web                       0\n",
              "refused                              0\n",
              "no answer                            0\n",
              "not imputable_(2147483637)           0\n",
              "dk, na, iap                          0\n",
              "I don't have a job                   0\n",
              "iap                                  0\n",
              "don't know                           0\n",
              "see codebook                         0\n",
              "Name: marital, dtype: int64"
            ]
          },
          "metadata": {},
          "execution_count": 76
        }
      ]
    },
    {
      "cell_type": "code",
      "source": [
        "df['marital'] = df['marital'].replace(['not imputable_(2147483638)','not available in this year','not available in this release','uncodeable','skipped on web','refused','no answer','not imputable_(2147483637)','dk, na, iap',\"I don't have a job\",'iap',\"don't know\",'see codebook'], np.nan)\n",
        "print(df['marital'].value_counts())"
      ],
      "metadata": {
        "colab": {
          "base_uri": "https://localhost:8080/"
        },
        "id": "zRwreWukW2CS",
        "outputId": "7d18fa37-f5cf-44b6-8029-27127a555bfd"
      },
      "execution_count": 77,
      "outputs": [
        {
          "output_type": "stream",
          "name": "stdout",
          "text": [
            "married          10939\n",
            "never married     6446\n",
            "divorced          3989\n",
            "widowed           1962\n",
            "separated          753\n",
            "Name: marital, dtype: int64\n"
          ]
        }
      ]
    },
    {
      "cell_type": "code",
      "source": [
        "df = df[~df['marital'].isna()]"
      ],
      "metadata": {
        "id": "alRGkRXJiAVh"
      },
      "execution_count": 107,
      "outputs": []
    },
    {
      "cell_type": "code",
      "source": [
        "# Clean the race variable by removing all unwanted answers that have zero occurences and replace them with nan.\n",
        "df['race'].value_counts()"
      ],
      "metadata": {
        "colab": {
          "base_uri": "https://localhost:8080/"
        },
        "id": "lzLI5G2PW-vd",
        "outputId": "464f2430-3c4a-41a4-ed6b-e05182bf1729"
      },
      "execution_count": 78,
      "outputs": [
        {
          "output_type": "execute_result",
          "data": {
            "text/plain": [
              "white                            18059\n",
              "black                             3504\n",
              "other                             2460\n",
              "don't know                           0\n",
              "iap                                  0\n",
              "I don't have a job                   0\n",
              "dk, na, iap                          0\n",
              "no answer                            0\n",
              "not imputable_(2147483637)           0\n",
              "not imputable_(2147483638)           0\n",
              "refused                              0\n",
              "skipped on web                       0\n",
              "uncodeable                           0\n",
              "not available in this release        0\n",
              "not available in this year           0\n",
              "see codebook                         0\n",
              "Name: race, dtype: int64"
            ]
          },
          "metadata": {},
          "execution_count": 78
        }
      ]
    },
    {
      "cell_type": "code",
      "source": [
        "df['race'] = df['race'].replace([\"don't know\",'iap',\"I don't have a job\",'dk, na, iap','no answer','not imputable_(2147483637)','not imputable_(2147483638)','refused','skipped on web','uncodeable','not available in this release','not available in this year','see codebook'], np.nan)\n",
        "print(df['race'].value_counts())"
      ],
      "metadata": {
        "colab": {
          "base_uri": "https://localhost:8080/"
        },
        "id": "HnXGJEiKXc9D",
        "outputId": "d7d07bf7-fe71-4130-81e9-5d8b09e22960"
      },
      "execution_count": 79,
      "outputs": [
        {
          "output_type": "stream",
          "name": "stdout",
          "text": [
            "white    18059\n",
            "black     3504\n",
            "other     2460\n",
            "Name: race, dtype: int64\n"
          ]
        }
      ]
    },
    {
      "cell_type": "code",
      "source": [
        "df = df[~df['race'].isna()]"
      ],
      "metadata": {
        "id": "OmLlPZnKiC-B"
      },
      "execution_count": 108,
      "outputs": []
    },
    {
      "cell_type": "code",
      "source": [
        "# Clean the work status variable by removing all unwanted answers that have zero occurences and replace them with nan.\n",
        "df['wrkstat'].value_counts()"
      ],
      "metadata": {
        "colab": {
          "base_uri": "https://localhost:8080/"
        },
        "id": "xCl0Gi60X_yN",
        "outputId": "acf15f45-b786-4110-a169-a3ea98afd34f"
      },
      "execution_count": 80,
      "outputs": [
        {
          "output_type": "execute_result",
          "data": {
            "text/plain": [
              "working full time                                                             11294\n",
              "retired                                                                        4733\n",
              "working part time                                                              2531\n",
              "keeping house                                                                  2344\n",
              "unemployed, laid off, looking for work                                         1154\n",
              "other                                                                           786\n",
              "in school                                                                       735\n",
              "with a job, but not at work because of temporary illness, vacation, strike      522\n",
              "not imputable_(2147483638)                                                        0\n",
              "not available in this year                                                        0\n",
              "not available in this release                                                     0\n",
              "uncodeable                                                                        0\n",
              "skipped on web                                                                    0\n",
              "refused                                                                           0\n",
              "I don't have a job                                                                0\n",
              "not imputable_(2147483637)                                                        0\n",
              "no answer                                                                         0\n",
              "dk, na, iap                                                                       0\n",
              "iap                                                                               0\n",
              "don't know                                                                        0\n",
              "see codebook                                                                      0\n",
              "Name: wrkstat, dtype: int64"
            ]
          },
          "metadata": {},
          "execution_count": 80
        }
      ]
    },
    {
      "cell_type": "code",
      "source": [
        "df['wrkstat'] = df['wrkstat'].replace(['not imputable_(2147483638)','not available in this year','not available in this release','uncodeable','skipped on web','refused',\"I don't have a job\",'not imputable_(2147483637)','no answer','dk, na, iap','iap',\"don't know\",'see codebook'], np.nan)\n",
        "print(df['wrkstat'].value_counts())"
      ],
      "metadata": {
        "colab": {
          "base_uri": "https://localhost:8080/"
        },
        "id": "pIt5GD8yYNX4",
        "outputId": "a6000a99-f54e-485c-9181-fc48cb81abc8"
      },
      "execution_count": 81,
      "outputs": [
        {
          "output_type": "stream",
          "name": "stdout",
          "text": [
            "working full time                                                             11294\n",
            "retired                                                                        4733\n",
            "working part time                                                              2531\n",
            "keeping house                                                                  2344\n",
            "unemployed, laid off, looking for work                                         1154\n",
            "other                                                                           786\n",
            "in school                                                                       735\n",
            "with a job, but not at work because of temporary illness, vacation, strike      522\n",
            "Name: wrkstat, dtype: int64\n"
          ]
        }
      ]
    },
    {
      "cell_type": "code",
      "source": [
        "df = df[~df['wrkstat'].isna()]"
      ],
      "metadata": {
        "id": "uWoQjHKHiRbu"
      },
      "execution_count": 109,
      "outputs": []
    },
    {
      "cell_type": "code",
      "source": [
        "# Number of children does not need cleaning\n",
        "df['childs'].value_counts()"
      ],
      "metadata": {
        "colab": {
          "base_uri": "https://localhost:8080/"
        },
        "id": "PuXpeR8UYyQo",
        "outputId": "74098387-ef45-4414-f807-5010e845b518"
      },
      "execution_count": 86,
      "outputs": [
        {
          "output_type": "execute_result",
          "data": {
            "text/plain": [
              "0.0    6753\n",
              "2.0    6382\n",
              "3.0    3787\n",
              "1.0    3783\n",
              "4.0    1835\n",
              "5.0     711\n",
              "6.0     385\n",
              "8.0     216\n",
              "7.0     182\n",
              "Name: childs, dtype: int64"
            ]
          },
          "metadata": {},
          "execution_count": 86
        }
      ]
    },
    {
      "cell_type": "code",
      "source": [
        "# Clean the income variable by removing all unwanted answers that have zero occurences and replace them with nan.\n",
        "df['income'].value_counts()"
      ],
      "metadata": {
        "colab": {
          "base_uri": "https://localhost:8080/"
        },
        "id": "Bpa7wHCdcOUS",
        "outputId": "41da872e-f0ec-4a49-b15e-25b1ef83d5ec"
      },
      "execution_count": 88,
      "outputs": [
        {
          "output_type": "execute_result",
          "data": {
            "text/plain": [
              "$25,000 or more                  15720\n",
              "$20,000 to $24,999                1412\n",
              "$10,000 to $14,999                1405\n",
              "$15,000 to $19,999                1026\n",
              "$8,000 to $9,999                   401\n",
              "under $1,000                       340\n",
              "$1,000 to $2,999                   295\n",
              "$7,000 to $7,999                   198\n",
              "$3,000 to $3,999                   174\n",
              "$6,000 to $6,999                   163\n",
              "$5,000 to $5,999                   157\n",
              "$4,000 to $4,999                   111\n",
              "not imputable_(2147483638)           0\n",
              "not available in this year           0\n",
              "not available in this release        0\n",
              "uncodeable                           0\n",
              "skipped on web                       0\n",
              "refused                              0\n",
              "don't know                           0\n",
              "not imputable_(2147483637)           0\n",
              "no answer                            0\n",
              "dk, na, iap                          0\n",
              "I don't have a job                   0\n",
              "iap                                  0\n",
              "see codebook                         0\n",
              "Name: income, dtype: int64"
            ]
          },
          "metadata": {},
          "execution_count": 88
        }
      ]
    },
    {
      "cell_type": "code",
      "source": [
        "df['income'] = df['income'].replace(['not imputable_(2147483638)','not available in this year','not available in this release','uncodeable','skipped on web','refused',\"don't know\",'not imputable_(2147483637)','no answer','dk, na, iap',\"I don't have a job\",'iap','see codebook'], np.nan)\n",
        "print(df['income'].value_counts())"
      ],
      "metadata": {
        "colab": {
          "base_uri": "https://localhost:8080/"
        },
        "id": "QSgE9UoAcaIe",
        "outputId": "ee6ba0ab-4f7c-4097-d0f9-cff755404b87"
      },
      "execution_count": 89,
      "outputs": [
        {
          "output_type": "stream",
          "name": "stdout",
          "text": [
            "$25,000 or more       15720\n",
            "$20,000 to $24,999     1412\n",
            "$10,000 to $14,999     1405\n",
            "$15,000 to $19,999     1026\n",
            "$8,000 to $9,999        401\n",
            "under $1,000            340\n",
            "$1,000 to $2,999        295\n",
            "$7,000 to $7,999        198\n",
            "$3,000 to $3,999        174\n",
            "$6,000 to $6,999        163\n",
            "$5,000 to $5,999        157\n",
            "$4,000 to $4,999        111\n",
            "Name: income, dtype: int64\n"
          ]
        }
      ]
    },
    {
      "cell_type": "code",
      "source": [
        "df = df[~df['income'].isna()]"
      ],
      "metadata": {
        "id": "s0wvzf86idQA"
      },
      "execution_count": 110,
      "outputs": []
    }
  ]
}