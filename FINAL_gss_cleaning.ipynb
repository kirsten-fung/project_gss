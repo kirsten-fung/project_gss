{
  "nbformat": 4,
  "nbformat_minor": 0,
  "metadata": {
    "colab": {
      "provenance": [],
      "authorship_tag": "ABX9TyMpNaUdA/KdIoRmuaQF12ry",
      "include_colab_link": true
    },
    "kernelspec": {
      "name": "python3",
      "display_name": "Python 3"
    },
    "language_info": {
      "name": "python"
    }
  },
  "cells": [
    {
      "cell_type": "markdown",
      "metadata": {
        "id": "view-in-github",
        "colab_type": "text"
      },
      "source": [
        "<a href=\"https://colab.research.google.com/github/kirsten-fung/project_gss/blob/main/FINAL_gss_cleaning.ipynb\" target=\"_parent\"><img src=\"https://colab.research.google.com/assets/colab-badge.svg\" alt=\"Open In Colab\"/></a>"
      ]
    },
    {
      "cell_type": "markdown",
      "source": [
        "Research Question: What impacts do demographic and personal factors influence attitudes towards job satisfaction?"
      ],
      "metadata": {
        "id": "xXxrn8g0OfbI"
      }
    },
    {
      "cell_type": "code",
      "execution_count": null,
      "metadata": {
        "colab": {
          "base_uri": "https://localhost:8080/"
        },
        "id": "yR5WO6fmOOYr",
        "outputId": "c51071d3-6c61-47a9-9a08-db5ef51b987c"
      },
      "outputs": [
        {
          "output_type": "stream",
          "name": "stdout",
          "text": [
            "https://github.com/DS3001/project_gss/raw/main/gss_chunk_1.parquet\n",
            "   year  id            wrkstat  hrs1  hrs2 evwork    occ  prestige  \\\n",
            "0  1972   1  working full time   NaN   NaN    NaN  205.0      50.0   \n",
            "1  1972   2            retired   NaN   NaN    yes  441.0      45.0   \n",
            "2  1972   3  working part time   NaN   NaN    NaN  270.0      44.0   \n",
            "3  1972   4  working full time   NaN   NaN    NaN    1.0      57.0   \n",
            "4  1972   5      keeping house   NaN   NaN    yes  385.0      40.0   \n",
            "\n",
            "         wrkslf wrkgovt  ...  agehef12 agehef13 agehef14  hompoph wtssps_nea  \\\n",
            "0  someone else     NaN  ...       NaN      NaN      NaN      NaN        NaN   \n",
            "1  someone else     NaN  ...       NaN      NaN      NaN      NaN        NaN   \n",
            "2  someone else     NaN  ...       NaN      NaN      NaN      NaN        NaN   \n",
            "3  someone else     NaN  ...       NaN      NaN      NaN      NaN        NaN   \n",
            "4  someone else     NaN  ...       NaN      NaN      NaN      NaN        NaN   \n",
            "\n",
            "   wtssnrps_nea  wtssps_next wtssnrps_next wtsscomp wtsscompnr  \n",
            "0           NaN          NaN           NaN   0.4446        NaN  \n",
            "1           NaN          NaN           NaN   0.8893        NaN  \n",
            "2           NaN          NaN           NaN   0.8893        NaN  \n",
            "3           NaN          NaN           NaN   0.8893        NaN  \n",
            "4           NaN          NaN           NaN   0.8893        NaN  \n",
            "\n",
            "[5 rows x 6694 columns]\n",
            "https://github.com/DS3001/project_gss/raw/main/gss_chunk_2.parquet\n",
            "   year   id            wrkstat  hrs1  hrs2 evwork    occ  prestige  \\\n",
            "0  1989  775            retired   NaN   NaN    yes  540.0      36.0   \n",
            "1  1989  776  working full time  40.0   NaN    NaN  925.0      36.0   \n",
            "2  1989  777            retired   NaN   NaN    yes   80.0      61.0   \n",
            "3  1989  778  working full time  44.0   NaN    NaN  912.0      26.0   \n",
            "4  1989  779            retired   NaN   NaN    yes  690.0      32.0   \n",
            "\n",
            "         wrkslf wrkgovt  ...  agehef12 agehef13 agehef14  hompoph wtssps_nea  \\\n",
            "0  someone else     NaN  ...       NaN      NaN      NaN      NaN        NaN   \n",
            "1  someone else     NaN  ...       NaN      NaN      NaN      NaN        NaN   \n",
            "2  someone else     NaN  ...       NaN      NaN      NaN      NaN        NaN   \n",
            "3  someone else     NaN  ...       NaN      NaN      NaN      NaN        NaN   \n",
            "4  someone else     NaN  ...       NaN      NaN      NaN      NaN        NaN   \n",
            "\n",
            "   wtssnrps_nea  wtssps_next wtssnrps_next  wtsscomp wtsscompnr  \n",
            "0           NaN          NaN           NaN  1.295069        NaN  \n",
            "1           NaN          NaN           NaN  0.483624        NaN  \n",
            "2           NaN          NaN           NaN  0.407988        NaN  \n",
            "3           NaN          NaN           NaN  1.225988        NaN  \n",
            "4           NaN          NaN           NaN  0.504302        NaN  \n",
            "\n",
            "[5 rows x 6694 columns]\n",
            "https://github.com/DS3001/project_gss/raw/main/gss_chunk_3.parquet\n",
            "   year    id            wrkstat  hrs1  hrs2 evwork  occ  prestige  \\\n",
            "0  2006  1751  working full time  40.0   NaN    NaN  NaN       NaN   \n",
            "1  2006  1752          in school   NaN   NaN    yes  NaN       NaN   \n",
            "2  2006  1753  working full time  35.0   NaN    NaN  NaN       NaN   \n",
            "3  2006  1754  working full time  50.0   NaN    NaN  NaN       NaN   \n",
            "4  2006  1755  working full time  40.0   NaN    NaN  NaN       NaN   \n",
            "\n",
            "         wrkslf     wrkgovt  ...  agehef12 agehef13 agehef14  hompoph  \\\n",
            "0  someone else  government  ...       NaN      NaN      NaN      NaN   \n",
            "1  someone else     private  ...       NaN      NaN      NaN      NaN   \n",
            "2  someone else  government  ...       NaN      NaN      NaN      NaN   \n",
            "3  someone else  government  ...       NaN      NaN      NaN      NaN   \n",
            "4  someone else     private  ...       NaN      NaN      NaN      NaN   \n",
            "\n",
            "  wtssps_nea  wtssnrps_nea  wtssps_next wtssnrps_next  wtsscomp wtsscompnr  \n",
            "0        NaN           NaN          NaN           NaN  1.079141   0.961150  \n",
            "1        NaN           NaN          NaN           NaN  7.673834   6.641571  \n",
            "2        NaN           NaN          NaN           NaN  0.584663   0.512145  \n",
            "3        NaN           NaN          NaN           NaN  0.715731   0.637592  \n",
            "4        NaN           NaN          NaN           NaN  1.094831   0.956094  \n",
            "\n",
            "[5 rows x 6694 columns]\n"
          ]
        }
      ],
      "source": [
        "import pandas as pd\n",
        "import numpy as np\n",
        "#\n",
        "var_list = ['wrkstat', 'prestige'] # List of variables you want to save\n",
        "output_filename = 'selected_gss_data.csv' # Name of the file you want to save the data to\n",
        "#\n",
        "modes = ['w','a'] # Has write mode and append mode\n",
        "phase = 0 # Starts in write mode; after one iteration of loop, switches to append mode\n",
        "#\n",
        "for k in range(3): # for each chunk of the data\n",
        "    url = 'https://github.com/DS3001/project_gss/raw/main/gss_chunk_' + str(1+k) + '.parquet' # Create url to the chunk to be processed\n",
        "    print(url) # Check the url is correct\n",
        "    df = pd.read_parquet(url) # Download this chunk of data\n",
        "    print(df.head()) # Visually inspect the first few rows\n",
        "    df.loc[:,var_list].to_csv(output_filename, # specifies target file to save the chunk to\n",
        "                              mode=modes[phase], # control write versus append\n",
        "                              header=var_list, # variable names\n",
        "                              index=False) # no row index saved\n",
        "    phase = 1 # Switch from write mode to append mode"
      ]
    },
    {
      "cell_type": "code",
      "source": [
        "# General overview of dataframe\n",
        "df.head()"
      ],
      "metadata": {
        "colab": {
          "base_uri": "https://localhost:8080/",
          "height": 342
        },
        "id": "YVbiACPDOvuY",
        "outputId": "63d33107-0ca4-4a66-ab6f-369c38710444"
      },
      "execution_count": null,
      "outputs": [
        {
          "output_type": "execute_result",
          "data": {
            "text/plain": [
              "   year    id            wrkstat  hrs1  hrs2 evwork  occ  prestige  \\\n",
              "0  2006  1751  working full time  40.0   NaN    NaN  NaN       NaN   \n",
              "1  2006  1752          in school   NaN   NaN    yes  NaN       NaN   \n",
              "2  2006  1753  working full time  35.0   NaN    NaN  NaN       NaN   \n",
              "3  2006  1754  working full time  50.0   NaN    NaN  NaN       NaN   \n",
              "4  2006  1755  working full time  40.0   NaN    NaN  NaN       NaN   \n",
              "\n",
              "         wrkslf     wrkgovt  ...  agehef12 agehef13 agehef14  hompoph  \\\n",
              "0  someone else  government  ...       NaN      NaN      NaN      NaN   \n",
              "1  someone else     private  ...       NaN      NaN      NaN      NaN   \n",
              "2  someone else  government  ...       NaN      NaN      NaN      NaN   \n",
              "3  someone else  government  ...       NaN      NaN      NaN      NaN   \n",
              "4  someone else     private  ...       NaN      NaN      NaN      NaN   \n",
              "\n",
              "  wtssps_nea  wtssnrps_nea  wtssps_next wtssnrps_next  wtsscomp wtsscompnr  \n",
              "0        NaN           NaN          NaN           NaN  1.079141   0.961150  \n",
              "1        NaN           NaN          NaN           NaN  7.673834   6.641571  \n",
              "2        NaN           NaN          NaN           NaN  0.584663   0.512145  \n",
              "3        NaN           NaN          NaN           NaN  0.715731   0.637592  \n",
              "4        NaN           NaN          NaN           NaN  1.094831   0.956094  \n",
              "\n",
              "[5 rows x 6694 columns]"
            ],
            "text/html": [
              "\n",
              "  <div id=\"df-b5426ebd-906c-475b-951f-21afb1297481\" class=\"colab-df-container\">\n",
              "    <div>\n",
              "<style scoped>\n",
              "    .dataframe tbody tr th:only-of-type {\n",
              "        vertical-align: middle;\n",
              "    }\n",
              "\n",
              "    .dataframe tbody tr th {\n",
              "        vertical-align: top;\n",
              "    }\n",
              "\n",
              "    .dataframe thead th {\n",
              "        text-align: right;\n",
              "    }\n",
              "</style>\n",
              "<table border=\"1\" class=\"dataframe\">\n",
              "  <thead>\n",
              "    <tr style=\"text-align: right;\">\n",
              "      <th></th>\n",
              "      <th>year</th>\n",
              "      <th>id</th>\n",
              "      <th>wrkstat</th>\n",
              "      <th>hrs1</th>\n",
              "      <th>hrs2</th>\n",
              "      <th>evwork</th>\n",
              "      <th>occ</th>\n",
              "      <th>prestige</th>\n",
              "      <th>wrkslf</th>\n",
              "      <th>wrkgovt</th>\n",
              "      <th>...</th>\n",
              "      <th>agehef12</th>\n",
              "      <th>agehef13</th>\n",
              "      <th>agehef14</th>\n",
              "      <th>hompoph</th>\n",
              "      <th>wtssps_nea</th>\n",
              "      <th>wtssnrps_nea</th>\n",
              "      <th>wtssps_next</th>\n",
              "      <th>wtssnrps_next</th>\n",
              "      <th>wtsscomp</th>\n",
              "      <th>wtsscompnr</th>\n",
              "    </tr>\n",
              "  </thead>\n",
              "  <tbody>\n",
              "    <tr>\n",
              "      <th>0</th>\n",
              "      <td>2006</td>\n",
              "      <td>1751</td>\n",
              "      <td>working full time</td>\n",
              "      <td>40.0</td>\n",
              "      <td>NaN</td>\n",
              "      <td>NaN</td>\n",
              "      <td>NaN</td>\n",
              "      <td>NaN</td>\n",
              "      <td>someone else</td>\n",
              "      <td>government</td>\n",
              "      <td>...</td>\n",
              "      <td>NaN</td>\n",
              "      <td>NaN</td>\n",
              "      <td>NaN</td>\n",
              "      <td>NaN</td>\n",
              "      <td>NaN</td>\n",
              "      <td>NaN</td>\n",
              "      <td>NaN</td>\n",
              "      <td>NaN</td>\n",
              "      <td>1.079141</td>\n",
              "      <td>0.961150</td>\n",
              "    </tr>\n",
              "    <tr>\n",
              "      <th>1</th>\n",
              "      <td>2006</td>\n",
              "      <td>1752</td>\n",
              "      <td>in school</td>\n",
              "      <td>NaN</td>\n",
              "      <td>NaN</td>\n",
              "      <td>yes</td>\n",
              "      <td>NaN</td>\n",
              "      <td>NaN</td>\n",
              "      <td>someone else</td>\n",
              "      <td>private</td>\n",
              "      <td>...</td>\n",
              "      <td>NaN</td>\n",
              "      <td>NaN</td>\n",
              "      <td>NaN</td>\n",
              "      <td>NaN</td>\n",
              "      <td>NaN</td>\n",
              "      <td>NaN</td>\n",
              "      <td>NaN</td>\n",
              "      <td>NaN</td>\n",
              "      <td>7.673834</td>\n",
              "      <td>6.641571</td>\n",
              "    </tr>\n",
              "    <tr>\n",
              "      <th>2</th>\n",
              "      <td>2006</td>\n",
              "      <td>1753</td>\n",
              "      <td>working full time</td>\n",
              "      <td>35.0</td>\n",
              "      <td>NaN</td>\n",
              "      <td>NaN</td>\n",
              "      <td>NaN</td>\n",
              "      <td>NaN</td>\n",
              "      <td>someone else</td>\n",
              "      <td>government</td>\n",
              "      <td>...</td>\n",
              "      <td>NaN</td>\n",
              "      <td>NaN</td>\n",
              "      <td>NaN</td>\n",
              "      <td>NaN</td>\n",
              "      <td>NaN</td>\n",
              "      <td>NaN</td>\n",
              "      <td>NaN</td>\n",
              "      <td>NaN</td>\n",
              "      <td>0.584663</td>\n",
              "      <td>0.512145</td>\n",
              "    </tr>\n",
              "    <tr>\n",
              "      <th>3</th>\n",
              "      <td>2006</td>\n",
              "      <td>1754</td>\n",
              "      <td>working full time</td>\n",
              "      <td>50.0</td>\n",
              "      <td>NaN</td>\n",
              "      <td>NaN</td>\n",
              "      <td>NaN</td>\n",
              "      <td>NaN</td>\n",
              "      <td>someone else</td>\n",
              "      <td>government</td>\n",
              "      <td>...</td>\n",
              "      <td>NaN</td>\n",
              "      <td>NaN</td>\n",
              "      <td>NaN</td>\n",
              "      <td>NaN</td>\n",
              "      <td>NaN</td>\n",
              "      <td>NaN</td>\n",
              "      <td>NaN</td>\n",
              "      <td>NaN</td>\n",
              "      <td>0.715731</td>\n",
              "      <td>0.637592</td>\n",
              "    </tr>\n",
              "    <tr>\n",
              "      <th>4</th>\n",
              "      <td>2006</td>\n",
              "      <td>1755</td>\n",
              "      <td>working full time</td>\n",
              "      <td>40.0</td>\n",
              "      <td>NaN</td>\n",
              "      <td>NaN</td>\n",
              "      <td>NaN</td>\n",
              "      <td>NaN</td>\n",
              "      <td>someone else</td>\n",
              "      <td>private</td>\n",
              "      <td>...</td>\n",
              "      <td>NaN</td>\n",
              "      <td>NaN</td>\n",
              "      <td>NaN</td>\n",
              "      <td>NaN</td>\n",
              "      <td>NaN</td>\n",
              "      <td>NaN</td>\n",
              "      <td>NaN</td>\n",
              "      <td>NaN</td>\n",
              "      <td>1.094831</td>\n",
              "      <td>0.956094</td>\n",
              "    </tr>\n",
              "  </tbody>\n",
              "</table>\n",
              "<p>5 rows × 6694 columns</p>\n",
              "</div>\n",
              "    <div class=\"colab-df-buttons\">\n",
              "\n",
              "  <div class=\"colab-df-container\">\n",
              "    <button class=\"colab-df-convert\" onclick=\"convertToInteractive('df-b5426ebd-906c-475b-951f-21afb1297481')\"\n",
              "            title=\"Convert this dataframe to an interactive table.\"\n",
              "            style=\"display:none;\">\n",
              "\n",
              "  <svg xmlns=\"http://www.w3.org/2000/svg\" height=\"24px\" viewBox=\"0 -960 960 960\">\n",
              "    <path d=\"M120-120v-720h720v720H120Zm60-500h600v-160H180v160Zm220 220h160v-160H400v160Zm0 220h160v-160H400v160ZM180-400h160v-160H180v160Zm440 0h160v-160H620v160ZM180-180h160v-160H180v160Zm440 0h160v-160H620v160Z\"/>\n",
              "  </svg>\n",
              "    </button>\n",
              "\n",
              "  <style>\n",
              "    .colab-df-container {\n",
              "      display:flex;\n",
              "      gap: 12px;\n",
              "    }\n",
              "\n",
              "    .colab-df-convert {\n",
              "      background-color: #E8F0FE;\n",
              "      border: none;\n",
              "      border-radius: 50%;\n",
              "      cursor: pointer;\n",
              "      display: none;\n",
              "      fill: #1967D2;\n",
              "      height: 32px;\n",
              "      padding: 0 0 0 0;\n",
              "      width: 32px;\n",
              "    }\n",
              "\n",
              "    .colab-df-convert:hover {\n",
              "      background-color: #E2EBFA;\n",
              "      box-shadow: 0px 1px 2px rgba(60, 64, 67, 0.3), 0px 1px 3px 1px rgba(60, 64, 67, 0.15);\n",
              "      fill: #174EA6;\n",
              "    }\n",
              "\n",
              "    .colab-df-buttons div {\n",
              "      margin-bottom: 4px;\n",
              "    }\n",
              "\n",
              "    [theme=dark] .colab-df-convert {\n",
              "      background-color: #3B4455;\n",
              "      fill: #D2E3FC;\n",
              "    }\n",
              "\n",
              "    [theme=dark] .colab-df-convert:hover {\n",
              "      background-color: #434B5C;\n",
              "      box-shadow: 0px 1px 3px 1px rgba(0, 0, 0, 0.15);\n",
              "      filter: drop-shadow(0px 1px 2px rgba(0, 0, 0, 0.3));\n",
              "      fill: #FFFFFF;\n",
              "    }\n",
              "  </style>\n",
              "\n",
              "    <script>\n",
              "      const buttonEl =\n",
              "        document.querySelector('#df-b5426ebd-906c-475b-951f-21afb1297481 button.colab-df-convert');\n",
              "      buttonEl.style.display =\n",
              "        google.colab.kernel.accessAllowed ? 'block' : 'none';\n",
              "\n",
              "      async function convertToInteractive(key) {\n",
              "        const element = document.querySelector('#df-b5426ebd-906c-475b-951f-21afb1297481');\n",
              "        const dataTable =\n",
              "          await google.colab.kernel.invokeFunction('convertToInteractive',\n",
              "                                                    [key], {});\n",
              "        if (!dataTable) return;\n",
              "\n",
              "        const docLinkHtml = 'Like what you see? Visit the ' +\n",
              "          '<a target=\"_blank\" href=https://colab.research.google.com/notebooks/data_table.ipynb>data table notebook</a>'\n",
              "          + ' to learn more about interactive tables.';\n",
              "        element.innerHTML = '';\n",
              "        dataTable['output_type'] = 'display_data';\n",
              "        await google.colab.output.renderOutput(dataTable, element);\n",
              "        const docLink = document.createElement('div');\n",
              "        docLink.innerHTML = docLinkHtml;\n",
              "        element.appendChild(docLink);\n",
              "      }\n",
              "    </script>\n",
              "  </div>\n",
              "\n",
              "\n",
              "<div id=\"df-180eecd1-5b67-47b7-b4c6-7be723bf64d0\">\n",
              "  <button class=\"colab-df-quickchart\" onclick=\"quickchart('df-180eecd1-5b67-47b7-b4c6-7be723bf64d0')\"\n",
              "            title=\"Suggest charts\"\n",
              "            style=\"display:none;\">\n",
              "\n",
              "<svg xmlns=\"http://www.w3.org/2000/svg\" height=\"24px\"viewBox=\"0 0 24 24\"\n",
              "     width=\"24px\">\n",
              "    <g>\n",
              "        <path d=\"M19 3H5c-1.1 0-2 .9-2 2v14c0 1.1.9 2 2 2h14c1.1 0 2-.9 2-2V5c0-1.1-.9-2-2-2zM9 17H7v-7h2v7zm4 0h-2V7h2v10zm4 0h-2v-4h2v4z\"/>\n",
              "    </g>\n",
              "</svg>\n",
              "  </button>\n",
              "\n",
              "<style>\n",
              "  .colab-df-quickchart {\n",
              "      --bg-color: #E8F0FE;\n",
              "      --fill-color: #1967D2;\n",
              "      --hover-bg-color: #E2EBFA;\n",
              "      --hover-fill-color: #174EA6;\n",
              "      --disabled-fill-color: #AAA;\n",
              "      --disabled-bg-color: #DDD;\n",
              "  }\n",
              "\n",
              "  [theme=dark] .colab-df-quickchart {\n",
              "      --bg-color: #3B4455;\n",
              "      --fill-color: #D2E3FC;\n",
              "      --hover-bg-color: #434B5C;\n",
              "      --hover-fill-color: #FFFFFF;\n",
              "      --disabled-bg-color: #3B4455;\n",
              "      --disabled-fill-color: #666;\n",
              "  }\n",
              "\n",
              "  .colab-df-quickchart {\n",
              "    background-color: var(--bg-color);\n",
              "    border: none;\n",
              "    border-radius: 50%;\n",
              "    cursor: pointer;\n",
              "    display: none;\n",
              "    fill: var(--fill-color);\n",
              "    height: 32px;\n",
              "    padding: 0;\n",
              "    width: 32px;\n",
              "  }\n",
              "\n",
              "  .colab-df-quickchart:hover {\n",
              "    background-color: var(--hover-bg-color);\n",
              "    box-shadow: 0 1px 2px rgba(60, 64, 67, 0.3), 0 1px 3px 1px rgba(60, 64, 67, 0.15);\n",
              "    fill: var(--button-hover-fill-color);\n",
              "  }\n",
              "\n",
              "  .colab-df-quickchart-complete:disabled,\n",
              "  .colab-df-quickchart-complete:disabled:hover {\n",
              "    background-color: var(--disabled-bg-color);\n",
              "    fill: var(--disabled-fill-color);\n",
              "    box-shadow: none;\n",
              "  }\n",
              "\n",
              "  .colab-df-spinner {\n",
              "    border: 2px solid var(--fill-color);\n",
              "    border-color: transparent;\n",
              "    border-bottom-color: var(--fill-color);\n",
              "    animation:\n",
              "      spin 1s steps(1) infinite;\n",
              "  }\n",
              "\n",
              "  @keyframes spin {\n",
              "    0% {\n",
              "      border-color: transparent;\n",
              "      border-bottom-color: var(--fill-color);\n",
              "      border-left-color: var(--fill-color);\n",
              "    }\n",
              "    20% {\n",
              "      border-color: transparent;\n",
              "      border-left-color: var(--fill-color);\n",
              "      border-top-color: var(--fill-color);\n",
              "    }\n",
              "    30% {\n",
              "      border-color: transparent;\n",
              "      border-left-color: var(--fill-color);\n",
              "      border-top-color: var(--fill-color);\n",
              "      border-right-color: var(--fill-color);\n",
              "    }\n",
              "    40% {\n",
              "      border-color: transparent;\n",
              "      border-right-color: var(--fill-color);\n",
              "      border-top-color: var(--fill-color);\n",
              "    }\n",
              "    60% {\n",
              "      border-color: transparent;\n",
              "      border-right-color: var(--fill-color);\n",
              "    }\n",
              "    80% {\n",
              "      border-color: transparent;\n",
              "      border-right-color: var(--fill-color);\n",
              "      border-bottom-color: var(--fill-color);\n",
              "    }\n",
              "    90% {\n",
              "      border-color: transparent;\n",
              "      border-bottom-color: var(--fill-color);\n",
              "    }\n",
              "  }\n",
              "</style>\n",
              "\n",
              "  <script>\n",
              "    async function quickchart(key) {\n",
              "      const quickchartButtonEl =\n",
              "        document.querySelector('#' + key + ' button');\n",
              "      quickchartButtonEl.disabled = true;  // To prevent multiple clicks.\n",
              "      quickchartButtonEl.classList.add('colab-df-spinner');\n",
              "      try {\n",
              "        const charts = await google.colab.kernel.invokeFunction(\n",
              "            'suggestCharts', [key], {});\n",
              "      } catch (error) {\n",
              "        console.error('Error during call to suggestCharts:', error);\n",
              "      }\n",
              "      quickchartButtonEl.classList.remove('colab-df-spinner');\n",
              "      quickchartButtonEl.classList.add('colab-df-quickchart-complete');\n",
              "    }\n",
              "    (() => {\n",
              "      let quickchartButtonEl =\n",
              "        document.querySelector('#df-180eecd1-5b67-47b7-b4c6-7be723bf64d0 button');\n",
              "      quickchartButtonEl.style.display =\n",
              "        google.colab.kernel.accessAllowed ? 'block' : 'none';\n",
              "    })();\n",
              "  </script>\n",
              "</div>\n",
              "    </div>\n",
              "  </div>\n"
            ],
            "application/vnd.google.colaboratory.intrinsic+json": {
              "type": "dataframe",
              "variable_name": "df"
            }
          },
          "metadata": {},
          "execution_count": 510
        }
      ]
    },
    {
      "cell_type": "code",
      "source": [
        "# Clean the job satisfaction variable by removing all unwanted answers that have zero occurences and replace them with nan.\n",
        "df['satjob'].value_counts()"
      ],
      "metadata": {
        "colab": {
          "base_uri": "https://localhost:8080/"
        },
        "id": "tuPZS72JQfJL",
        "outputId": "0ab1a025-8c66-4273-bb1d-97abcf1c4f2f"
      },
      "execution_count": null,
      "outputs": [
        {
          "output_type": "execute_result",
          "data": {
            "text/plain": [
              "very satisfied                   7911\n",
              "moderately satisfied             6263\n",
              "a little dissatisfied            1583\n",
              "very dissatisfied                 670\n",
              "not imputable_(2147483638)          0\n",
              "not available in this year          0\n",
              "not available in this release       0\n",
              "uncodeable                          0\n",
              "skipped on web                      0\n",
              "refused                             0\n",
              "no answer                           0\n",
              "not imputable_(2147483637)          0\n",
              "dk, na, iap                         0\n",
              "I don't have a job                  0\n",
              "iap                                 0\n",
              "don't know                          0\n",
              "see codebook                        0\n",
              "Name: satjob, dtype: int64"
            ]
          },
          "metadata": {},
          "execution_count": 511
        }
      ]
    },
    {
      "cell_type": "code",
      "source": [
        "df['satjob'] = df['satjob'].replace(['not imputable_(2147483638)','not available in this year','not available in this release','uncodeable','skipped on web','refused','no answer','not imputable_(2147483637)','dk, na, iap',\"I don't have a job\",'iap',\"don't know\",'see codebook'], np.nan)\n",
        "print(df['satjob'].value_counts())"
      ],
      "metadata": {
        "colab": {
          "base_uri": "https://localhost:8080/"
        },
        "id": "sUE9FuIaPF31",
        "outputId": "0350bdbf-4875-4fd5-e3b6-99a100d9f75c"
      },
      "execution_count": null,
      "outputs": [
        {
          "output_type": "stream",
          "name": "stdout",
          "text": [
            "very satisfied           7911\n",
            "moderately satisfied     6263\n",
            "a little dissatisfied    1583\n",
            "very dissatisfied         670\n",
            "Name: satjob, dtype: int64\n"
          ]
        }
      ]
    },
    {
      "cell_type": "code",
      "source": [
        "df = df[~df['satjob'].isna()]"
      ],
      "metadata": {
        "id": "Exe_uX3dgsni"
      },
      "execution_count": null,
      "outputs": []
    },
    {
      "cell_type": "code",
      "source": [
        "# Hours worked per week does not need cleaning\n",
        "df['hrs2'].unique()"
      ],
      "metadata": {
        "colab": {
          "base_uri": "https://localhost:8080/"
        },
        "id": "axmnZbFhSzh6",
        "outputId": "6589326c-f0e5-4e73-c51c-a42bacc7955d"
      },
      "execution_count": null,
      "outputs": [
        {
          "output_type": "execute_result",
          "data": {
            "text/plain": [
              "array([nan, 50., 38., 40., 12., 44.,  5., 60., 32., 25., 35., 45., 34.,\n",
              "       28.,  1., 26., 43., 70., 30., 20., 55.,  3., 10., 42., 65., 15.,\n",
              "        8.,  7., 48., 16., 36., 18., 41., 24.,  9.,  6., 84., 22., 21.,\n",
              "       46., 80., 66., 52.])"
            ]
          },
          "metadata": {},
          "execution_count": 514
        }
      ]
    },
    {
      "cell_type": "code",
      "source": [
        "# Age does not need cleaning\n",
        "df['age'].unique()"
      ],
      "metadata": {
        "colab": {
          "base_uri": "https://localhost:8080/"
        },
        "id": "PACLyTQCTa9a",
        "outputId": "c9b7d026-daee-4f14-b35a-0107f61fbd23"
      },
      "execution_count": null,
      "outputs": [
        {
          "output_type": "execute_result",
          "data": {
            "text/plain": [
              "array([42., 24., 52., 48., 34., 30., 35., 26., 27., 37., 72., 53., 58.,\n",
              "       51., 77., 23., 36., 39., 44., 25., 33., 32., 49., 43., 62., 28.,\n",
              "       69., 22., 63., 55., 60., 41., 66., 50., 46., 38., 31., 54., 65.,\n",
              "       47., 57., 40., 75., 29., 89., 68., 45., 59., 82., 78., 56., 71.,\n",
              "       61., 20., 21., 84., 18., 64., 73., 85., 19., 81., 67., 83., 70.,\n",
              "       74., 76., nan, 86., 88., 87., 80., 79.])"
            ]
          },
          "metadata": {},
          "execution_count": 515
        }
      ]
    },
    {
      "cell_type": "code",
      "source": [
        "# Clean the sex variable by removing all unwanted answers that have zero occurences and replace them with nan.\n",
        "df['sex'].value_counts()"
      ],
      "metadata": {
        "colab": {
          "base_uri": "https://localhost:8080/"
        },
        "id": "OXhvEnvoTlpm",
        "outputId": "adcdada5-6277-4e3c-f309-9ccba1381e61"
      },
      "execution_count": null,
      "outputs": [
        {
          "output_type": "execute_result",
          "data": {
            "text/plain": [
              "female                           9100\n",
              "male                             7244\n",
              "don't know                          0\n",
              "iap                                 0\n",
              "I don't have a job                  0\n",
              "dk, na, iap                         0\n",
              "no answer                           0\n",
              "not imputable_(2147483637)          0\n",
              "not imputable_(2147483638)          0\n",
              "refused                             0\n",
              "skipped on web                      0\n",
              "uncodeable                          0\n",
              "not available in this release       0\n",
              "not available in this year          0\n",
              "see codebook                        0\n",
              "Name: sex, dtype: int64"
            ]
          },
          "metadata": {},
          "execution_count": 516
        }
      ]
    },
    {
      "cell_type": "code",
      "source": [
        "df['sex'] = df['sex'].replace([\"don't know\",'iap',\"I don't have a job\",'dk, na, iap','no answer','not imputable_(2147483637)','not imputable_(2147483638)','refused','skipped on web','uncodeable','not available in this release','not available in this year','see codebook'], np.nan)\n",
        "print(df['sex'].value_counts())"
      ],
      "metadata": {
        "colab": {
          "base_uri": "https://localhost:8080/"
        },
        "id": "UgFnY1DtUA-Y",
        "outputId": "f10d8f21-d19c-4084-a9c8-65bb34b5f247"
      },
      "execution_count": null,
      "outputs": [
        {
          "output_type": "stream",
          "name": "stdout",
          "text": [
            "female    9100\n",
            "male      7244\n",
            "Name: sex, dtype: int64\n"
          ]
        }
      ]
    },
    {
      "cell_type": "code",
      "source": [
        "df = df[~df['sex'].isna()]"
      ],
      "metadata": {
        "id": "BuHOyoO8hwMY"
      },
      "execution_count": null,
      "outputs": []
    },
    {
      "cell_type": "code",
      "source": [
        "# Clean the degree variable by removing all unwanted answers that have zero occurences and replace them with nan.\n",
        "df['degree'].value_counts()"
      ],
      "metadata": {
        "colab": {
          "base_uri": "https://localhost:8080/"
        },
        "id": "j-abr5yKUryf",
        "outputId": "243d4ea7-e6e4-4d95-ca97-7867ea21c768"
      },
      "execution_count": null,
      "outputs": [
        {
          "output_type": "execute_result",
          "data": {
            "text/plain": [
              "high school                      7706\n",
              "bachelor's                       3515\n",
              "graduate                         2031\n",
              "less than high school            1656\n",
              "associate/junior college         1422\n",
              "not imputable_(2147483638)          0\n",
              "not available in this year          0\n",
              "not available in this release       0\n",
              "uncodeable                          0\n",
              "skipped on web                      0\n",
              "refused                             0\n",
              "no answer                           0\n",
              "not imputable_(2147483637)          0\n",
              "dk, na, iap                         0\n",
              "I don't have a job                  0\n",
              "iap                                 0\n",
              "don't know                          0\n",
              "see codebook                        0\n",
              "Name: degree, dtype: int64"
            ]
          },
          "metadata": {},
          "execution_count": 519
        }
      ]
    },
    {
      "cell_type": "code",
      "source": [
        "df['degree'] = df['degree'].replace(['not imputable_(2147483638)','not available in this year','not available in this release','uncodeable','skipped on web','refused','no answer','not imputable_(2147483637)','dk, na, iap',\"I don't have a job\",'iap',\"don't know\",'see codebook'], np.nan)\n",
        "print(df['degree'].value_counts())"
      ],
      "metadata": {
        "colab": {
          "base_uri": "https://localhost:8080/"
        },
        "id": "JiMNEXUeVCAK",
        "outputId": "12e7cebf-5a73-44bd-b0d5-ff63a93688dc"
      },
      "execution_count": null,
      "outputs": [
        {
          "output_type": "stream",
          "name": "stdout",
          "text": [
            "high school                 7706\n",
            "bachelor's                  3515\n",
            "graduate                    2031\n",
            "less than high school       1656\n",
            "associate/junior college    1422\n",
            "Name: degree, dtype: int64\n"
          ]
        },
        {
          "output_type": "stream",
          "name": "stderr",
          "text": [
            "<ipython-input-520-6cb1d6ddd3f0>:1: SettingWithCopyWarning: \n",
            "A value is trying to be set on a copy of a slice from a DataFrame.\n",
            "Try using .loc[row_indexer,col_indexer] = value instead\n",
            "\n",
            "See the caveats in the documentation: https://pandas.pydata.org/pandas-docs/stable/user_guide/indexing.html#returning-a-view-versus-a-copy\n",
            "  df['degree'] = df['degree'].replace(['not imputable_(2147483638)','not available in this year','not available in this release','uncodeable','skipped on web','refused','no answer','not imputable_(2147483637)','dk, na, iap',\"I don't have a job\",'iap',\"don't know\",'see codebook'], np.nan)\n"
          ]
        }
      ]
    },
    {
      "cell_type": "code",
      "source": [
        "df = df[~df['degree'].isna()]"
      ],
      "metadata": {
        "id": "my5A9PObhy3j"
      },
      "execution_count": null,
      "outputs": []
    },
    {
      "cell_type": "code",
      "source": [
        "# Clean the stress variable by removing all unwanted answers that have zero occurences and replace them with nan.\n",
        "df['stress'].value_counts()"
      ],
      "metadata": {
        "colab": {
          "base_uri": "https://localhost:8080/"
        },
        "id": "JPHrkMPBV0IU",
        "outputId": "8c9512ea-1676-4d8b-e046-17c2857d0925"
      },
      "execution_count": null,
      "outputs": [
        {
          "output_type": "execute_result",
          "data": {
            "text/plain": [
              "sometimes                        3919\n",
              "often                            2001\n",
              "hardly ever                      1526\n",
              "always                            842\n",
              "never                             573\n",
              "not imputable_(2147483638)          0\n",
              "not available in this year          0\n",
              "not available in this release       0\n",
              "uncodeable                          0\n",
              "skipped on web                      0\n",
              "refused                             0\n",
              "no answer                           0\n",
              "not imputable_(2147483637)          0\n",
              "dk, na, iap                         0\n",
              "I don't have a job                  0\n",
              "iap                                 0\n",
              "can't choose                        0\n",
              "see codebook                        0\n",
              "Name: stress, dtype: int64"
            ]
          },
          "metadata": {},
          "execution_count": 522
        }
      ]
    },
    {
      "cell_type": "code",
      "source": [
        "df['stress'] = df['stress'].replace(['not imputable_(2147483638)','not available in this year','not available in this release','uncodeable','skipped on web','refused','no answer','not imputable_(2147483637)','dk, na, iap',\"I don't have a job\",'iap',\"don't know\",\"can't choose\",'see codebook'], np.nan)\n",
        "print(df['stress'].value_counts())"
      ],
      "metadata": {
        "colab": {
          "base_uri": "https://localhost:8080/"
        },
        "id": "ibxvZx_BWHuU",
        "outputId": "f443b5af-75b7-4614-90d4-329ab3476544"
      },
      "execution_count": null,
      "outputs": [
        {
          "output_type": "stream",
          "name": "stdout",
          "text": [
            "sometimes      3919\n",
            "often          2001\n",
            "hardly ever    1526\n",
            "always          842\n",
            "never           573\n",
            "Name: stress, dtype: int64\n"
          ]
        }
      ]
    },
    {
      "cell_type": "code",
      "source": [
        "df = df[~df['stress'].isna()]"
      ],
      "metadata": {
        "id": "Twolm8K_h-Dq"
      },
      "execution_count": null,
      "outputs": []
    },
    {
      "cell_type": "code",
      "source": [
        "# Clean the marital variable by removing all unwanted answers that have zero occurences and replace them with nan.\n",
        "df['marital'].value_counts()"
      ],
      "metadata": {
        "colab": {
          "base_uri": "https://localhost:8080/"
        },
        "id": "qknVkjKjWq97",
        "outputId": "308056c6-2249-47ef-cf39-b13948d55dbf"
      },
      "execution_count": null,
      "outputs": [
        {
          "output_type": "execute_result",
          "data": {
            "text/plain": [
              "married                          4123\n",
              "never married                    2675\n",
              "divorced                         1516\n",
              "widowed                           274\n",
              "separated                         265\n",
              "not imputable_(2147483638)          0\n",
              "not available in this year          0\n",
              "not available in this release       0\n",
              "uncodeable                          0\n",
              "skipped on web                      0\n",
              "refused                             0\n",
              "no answer                           0\n",
              "not imputable_(2147483637)          0\n",
              "dk, na, iap                         0\n",
              "I don't have a job                  0\n",
              "iap                                 0\n",
              "don't know                          0\n",
              "see codebook                        0\n",
              "Name: marital, dtype: int64"
            ]
          },
          "metadata": {},
          "execution_count": 525
        }
      ]
    },
    {
      "cell_type": "code",
      "source": [
        "df['marital'] = df['marital'].replace(['not imputable_(2147483638)','not available in this year','not available in this release','uncodeable','skipped on web','refused','no answer','not imputable_(2147483637)','dk, na, iap',\"I don't have a job\",'iap',\"don't know\",'see codebook'], np.nan)\n",
        "print(df['marital'].value_counts())"
      ],
      "metadata": {
        "colab": {
          "base_uri": "https://localhost:8080/"
        },
        "id": "zRwreWukW2CS",
        "outputId": "a8aad6f8-475d-47a8-d362-e4d510d291c9"
      },
      "execution_count": null,
      "outputs": [
        {
          "output_type": "stream",
          "name": "stdout",
          "text": [
            "married          4123\n",
            "never married    2675\n",
            "divorced         1516\n",
            "widowed           274\n",
            "separated         265\n",
            "Name: marital, dtype: int64\n"
          ]
        }
      ]
    },
    {
      "cell_type": "code",
      "source": [
        "df = df[~df['marital'].isna()]"
      ],
      "metadata": {
        "id": "alRGkRXJiAVh"
      },
      "execution_count": null,
      "outputs": []
    },
    {
      "cell_type": "code",
      "source": [
        "# Clean the race variable by removing all unwanted answers that have zero occurences and replace them with nan.\n",
        "df['race'].value_counts()"
      ],
      "metadata": {
        "colab": {
          "base_uri": "https://localhost:8080/"
        },
        "id": "lzLI5G2PW-vd",
        "outputId": "ddb75445-a4e1-440b-9338-139861e2cf72"
      },
      "execution_count": null,
      "outputs": [
        {
          "output_type": "execute_result",
          "data": {
            "text/plain": [
              "white                            6563\n",
              "black                            1332\n",
              "other                             934\n",
              "don't know                          0\n",
              "iap                                 0\n",
              "I don't have a job                  0\n",
              "dk, na, iap                         0\n",
              "no answer                           0\n",
              "not imputable_(2147483637)          0\n",
              "not imputable_(2147483638)          0\n",
              "refused                             0\n",
              "skipped on web                      0\n",
              "uncodeable                          0\n",
              "not available in this release       0\n",
              "not available in this year          0\n",
              "see codebook                        0\n",
              "Name: race, dtype: int64"
            ]
          },
          "metadata": {},
          "execution_count": 528
        }
      ]
    },
    {
      "cell_type": "code",
      "source": [
        "df['race'] = df['race'].replace([\"don't know\",'iap',\"I don't have a job\",'dk, na, iap','no answer','not imputable_(2147483637)','not imputable_(2147483638)','refused','skipped on web','uncodeable','not available in this release','not available in this year','see codebook'], np.nan)\n",
        "print(df['race'].value_counts())"
      ],
      "metadata": {
        "colab": {
          "base_uri": "https://localhost:8080/"
        },
        "id": "HnXGJEiKXc9D",
        "outputId": "cf4c49b7-c0e0-41bf-885d-995ec796dd5f"
      },
      "execution_count": null,
      "outputs": [
        {
          "output_type": "stream",
          "name": "stdout",
          "text": [
            "white    6563\n",
            "black    1332\n",
            "other     934\n",
            "Name: race, dtype: int64\n"
          ]
        },
        {
          "output_type": "stream",
          "name": "stderr",
          "text": [
            "<ipython-input-529-5f2091121671>:1: SettingWithCopyWarning: \n",
            "A value is trying to be set on a copy of a slice from a DataFrame.\n",
            "Try using .loc[row_indexer,col_indexer] = value instead\n",
            "\n",
            "See the caveats in the documentation: https://pandas.pydata.org/pandas-docs/stable/user_guide/indexing.html#returning-a-view-versus-a-copy\n",
            "  df['race'] = df['race'].replace([\"don't know\",'iap',\"I don't have a job\",'dk, na, iap','no answer','not imputable_(2147483637)','not imputable_(2147483638)','refused','skipped on web','uncodeable','not available in this release','not available in this year','see codebook'], np.nan)\n"
          ]
        }
      ]
    },
    {
      "cell_type": "code",
      "source": [
        "df = df[~df['race'].isna()]"
      ],
      "metadata": {
        "id": "OmLlPZnKiC-B"
      },
      "execution_count": null,
      "outputs": []
    },
    {
      "cell_type": "code",
      "source": [
        "# Clean the work status variable by removing all unwanted answers that have zero occurences and replace them with nan.\n",
        "df['wrkstat'].value_counts()"
      ],
      "metadata": {
        "colab": {
          "base_uri": "https://localhost:8080/"
        },
        "id": "xCl0Gi60X_yN",
        "outputId": "d44e6bfe-39bc-4291-9efe-06ea0acdb543"
      },
      "execution_count": null,
      "outputs": [
        {
          "output_type": "execute_result",
          "data": {
            "text/plain": [
              "working full time                                                             6947\n",
              "working part time                                                             1578\n",
              "with a job, but not at work because of temporary illness, vacation, strike     281\n",
              "keeping house                                                                   16\n",
              "unemployed, laid off, looking for work                                           7\n",
              "not imputable_(2147483637)                                                       0\n",
              "not available in this year                                                       0\n",
              "not available in this release                                                    0\n",
              "uncodeable                                                                       0\n",
              "skipped on web                                                                   0\n",
              "refused                                                                          0\n",
              "not imputable_(2147483638)                                                       0\n",
              "I don't have a job                                                               0\n",
              "no answer                                                                        0\n",
              "dk, na, iap                                                                      0\n",
              "iap                                                                              0\n",
              "don't know                                                                       0\n",
              "other                                                                            0\n",
              "in school                                                                        0\n",
              "retired                                                                          0\n",
              "see codebook                                                                     0\n",
              "Name: wrkstat, dtype: int64"
            ]
          },
          "metadata": {},
          "execution_count": 531
        }
      ]
    },
    {
      "cell_type": "code",
      "source": [
        "df['wrkstat'] = df['wrkstat'].replace(['not imputable_(2147483638)','not available in this year','not available in this release','uncodeable','skipped on web','refused',\"I don't have a job\",'not imputable_(2147483637)','no answer','dk, na, iap','iap',\"don't know\",'see codebook'], np.nan)\n",
        "print(df['wrkstat'].value_counts())"
      ],
      "metadata": {
        "colab": {
          "base_uri": "https://localhost:8080/"
        },
        "id": "pIt5GD8yYNX4",
        "outputId": "be989146-33db-4151-c13f-6aa6a26d3289"
      },
      "execution_count": null,
      "outputs": [
        {
          "output_type": "stream",
          "name": "stdout",
          "text": [
            "working full time                                                             6947\n",
            "working part time                                                             1578\n",
            "with a job, but not at work because of temporary illness, vacation, strike     281\n",
            "keeping house                                                                   16\n",
            "unemployed, laid off, looking for work                                           7\n",
            "retired                                                                          0\n",
            "in school                                                                        0\n",
            "other                                                                            0\n",
            "Name: wrkstat, dtype: int64\n"
          ]
        }
      ]
    },
    {
      "cell_type": "code",
      "source": [
        "df = df[~df['wrkstat'].isna()]"
      ],
      "metadata": {
        "id": "uWoQjHKHiRbu"
      },
      "execution_count": null,
      "outputs": []
    },
    {
      "cell_type": "code",
      "source": [
        "# Number of children does not need cleaning\n",
        "df['childs'].value_counts()"
      ],
      "metadata": {
        "colab": {
          "base_uri": "https://localhost:8080/"
        },
        "id": "PuXpeR8UYyQo",
        "outputId": "81a10153-5d22-4452-97a0-d7485289f100"
      },
      "execution_count": null,
      "outputs": [
        {
          "output_type": "execute_result",
          "data": {
            "text/plain": [
              "0.0    2796\n",
              "2.0    2323\n",
              "1.0    1497\n",
              "3.0    1294\n",
              "4.0     532\n",
              "5.0     202\n",
              "6.0      97\n",
              "8.0      45\n",
              "7.0      33\n",
              "Name: childs, dtype: int64"
            ]
          },
          "metadata": {},
          "execution_count": 534
        }
      ]
    },
    {
      "cell_type": "code",
      "source": [
        "# Clean the income variable by removing all unwanted answers that have zero occurences and replace them with nan.\n",
        "df['income'].value_counts()"
      ],
      "metadata": {
        "colab": {
          "base_uri": "https://localhost:8080/"
        },
        "id": "Bpa7wHCdcOUS",
        "outputId": "38305077-5743-4520-e0bd-fbafc6110844"
      },
      "execution_count": null,
      "outputs": [
        {
          "output_type": "execute_result",
          "data": {
            "text/plain": [
              "$25,000 or more                  6703\n",
              "$20,000 to $24,999                479\n",
              "$10,000 to $14,999                318\n",
              "$15,000 to $19,999                294\n",
              "$8,000 to $9,999                   80\n",
              "under $1,000                       59\n",
              "$1,000 to $2,999                   53\n",
              "$3,000 to $3,999                   44\n",
              "$6,000 to $6,999                   41\n",
              "$5,000 to $5,999                   41\n",
              "$7,000 to $7,999                   35\n",
              "$4,000 to $4,999                   27\n",
              "not imputable_(2147483638)          0\n",
              "not available in this year          0\n",
              "not available in this release       0\n",
              "uncodeable                          0\n",
              "skipped on web                      0\n",
              "refused                             0\n",
              "don't know                          0\n",
              "not imputable_(2147483637)          0\n",
              "no answer                           0\n",
              "dk, na, iap                         0\n",
              "I don't have a job                  0\n",
              "iap                                 0\n",
              "see codebook                        0\n",
              "Name: income, dtype: int64"
            ]
          },
          "metadata": {},
          "execution_count": 535
        }
      ]
    },
    {
      "cell_type": "code",
      "source": [
        "df['income'] = df['income'].replace(['not imputable_(2147483638)','not available in this year','not available in this release','uncodeable','skipped on web','refused',\"don't know\",'not imputable_(2147483637)','no answer','dk, na, iap',\"I don't have a job\",'iap','see codebook'], np.nan)\n",
        "print(df['income'].value_counts())"
      ],
      "metadata": {
        "colab": {
          "base_uri": "https://localhost:8080/"
        },
        "id": "QSgE9UoAcaIe",
        "outputId": "95e01fca-65ac-4632-f097-f43675bc3de5"
      },
      "execution_count": null,
      "outputs": [
        {
          "output_type": "stream",
          "name": "stdout",
          "text": [
            "$25,000 or more       6703\n",
            "$20,000 to $24,999     479\n",
            "$10,000 to $14,999     318\n",
            "$15,000 to $19,999     294\n",
            "$8,000 to $9,999        80\n",
            "under $1,000            59\n",
            "$1,000 to $2,999        53\n",
            "$3,000 to $3,999        44\n",
            "$5,000 to $5,999        41\n",
            "$6,000 to $6,999        41\n",
            "$7,000 to $7,999        35\n",
            "$4,000 to $4,999        27\n",
            "Name: income, dtype: int64\n"
          ]
        }
      ]
    },
    {
      "cell_type": "code",
      "source": [
        "df = df[~df['income'].isna()]"
      ],
      "metadata": {
        "id": "s0wvzf86idQA"
      },
      "execution_count": null,
      "outputs": []
    },
    {
      "cell_type": "code",
      "source": [
        "# Replace industry codes with categories\n",
        "df['indus10'].value_counts()"
      ],
      "metadata": {
        "colab": {
          "base_uri": "https://localhost:8080/"
        },
        "id": "dylvBnlV3A0t",
        "outputId": "1fde475d-f112-48dc-e958-8a3536d4d1ee"
      },
      "execution_count": null,
      "outputs": [
        {
          "output_type": "execute_result",
          "data": {
            "text/plain": [
              "7860.0    547\n",
              "770.0     531\n",
              "8680.0    390\n",
              "8190.0    377\n",
              "7870.0    228\n",
              "         ... \n",
              "6090.0      1\n",
              "690.0       1\n",
              "1670.0      1\n",
              "2790.0      1\n",
              "2970.0      1\n",
              "Name: indus10, Length: 261, dtype: int64"
            ]
          },
          "metadata": {},
          "execution_count": 538
        }
      ]
    },
    {
      "cell_type": "code",
      "source": [
        "df['indus10'] = df['indus10'].replace([4690,4770,4780,4790,4880,4890,4970,4980,4990,5070,5080,5170,5180,5190,5270,5280,5290,5370,5380,5390,5480,5490,5580,5570,5470,5590,1190,1270], 'Stores')\n",
        "df['indus10'] = df['indus10'].replace([7480,7970,7980,7990,8070,8080,8090,8170,8180,8190,8270,8290,8370,8380,8390,8470], 'Healthcare')\n",
        "df['indus10'] = df['indus10'].replace([1070,1080,1090,1170,1180,1280,1290,1370,1390,1470,1480,1490,1570,1590,1670,1680,1690,1770,1790,1870,1880,1890,1990,2170,2180,2190,2270,2280,2370,2380,2390,2470,2480,2490,2570,2590,2670,2790,2680,2690,2770,2780,2790,2870,2880,2980,3070,3080,3090,3170,3180,3190,3290,3360,3370,3380,3390,3470,3490,3570,3580,3590,3670,3690,3870,3890,3960,3970,3980,3990], 'Manufacturing')\n",
        "df['indus10'] = df['indus10'].replace([4070,4080,4090,4170,4180,4190,4260,4270,4280,4290,4370,4380,4390,4470,4480,4490,4560,4570,4580,4585,4590,4670,4870,5370,5680], 'Wholesalers')\n",
        "df['indus10'] = df['indus10'].replace([9870,9790,9780,9770,9690,9680,9670,9590,9470,9390,9370,9190,9180], 'Government/Military')\n",
        "df['indus10'] = df['indus10'].replace([5670,5690,5790,6070,6080,6090,6170,6180,6190,6270,6280,6290,6370,6380,6470,6480,6490,6680,6690,6695,6770,6780,6870,6880,6890,6970,6990,7070,7080,7170,7180,7190,7270,7280,7290,7370,7380,7390,7460,7470,7490,7570,7580,7590,7670,7680,7690,7770,7780,7790,7890,8680,8560,8570,8580,8590,8660,8670,8680,8690,8770,8780,8790,8870,8880,8890,8970,8980,8990,9070,9080,9090,9160,9170,9180,9290], 'Services')\n",
        "df['indus10'] = df['indus10'].replace([7860,7870,7880], 'Education')\n",
        "df['indus10'] = df['indus10'].replace([170,180,190,270,280,290,370,380,390,470,480,490,570,580,590,670,680,690,1070,1080,2070,2970], 'Agriculture')\n",
        "df['indus10'] = df['indus10'].replace([770], 'Construction')\n",
        "df['indus10'] = df['indus10'].replace([9480,6390,9570,5090,9380,6570,2290,6670,9490,3770,3680,4680,2990,6672,2890,5592,6590,3780,3790,2090,5591,8250], 'Other')"
      ],
      "metadata": {
        "colab": {
          "base_uri": "https://localhost:8080/"
        },
        "id": "GFok3aHX3F47",
        "outputId": "28395840-d69c-4ed5-e292-fb6cf401c46a"
      },
      "execution_count": null,
      "outputs": [
        {
          "output_type": "stream",
          "name": "stderr",
          "text": [
            "<ipython-input-539-f8cb7e2fa12f>:1: SettingWithCopyWarning: \n",
            "A value is trying to be set on a copy of a slice from a DataFrame.\n",
            "Try using .loc[row_indexer,col_indexer] = value instead\n",
            "\n",
            "See the caveats in the documentation: https://pandas.pydata.org/pandas-docs/stable/user_guide/indexing.html#returning-a-view-versus-a-copy\n",
            "  df['indus10'] = df['indus10'].replace([4690,4770,4780,4790,4880,4890,4970,4980,4990,5070,5080,5170,5180,5190,5270,5280,5290,5370,5380,5390,5480,5490,5580,5570,5470,5590,1190,1270], 'Stores')\n",
            "<ipython-input-539-f8cb7e2fa12f>:2: SettingWithCopyWarning: \n",
            "A value is trying to be set on a copy of a slice from a DataFrame.\n",
            "Try using .loc[row_indexer,col_indexer] = value instead\n",
            "\n",
            "See the caveats in the documentation: https://pandas.pydata.org/pandas-docs/stable/user_guide/indexing.html#returning-a-view-versus-a-copy\n",
            "  df['indus10'] = df['indus10'].replace([7480,7970,7980,7990,8070,8080,8090,8170,8180,8190,8270,8290,8370,8380,8390,8470], 'Healthcare')\n",
            "<ipython-input-539-f8cb7e2fa12f>:3: SettingWithCopyWarning: \n",
            "A value is trying to be set on a copy of a slice from a DataFrame.\n",
            "Try using .loc[row_indexer,col_indexer] = value instead\n",
            "\n",
            "See the caveats in the documentation: https://pandas.pydata.org/pandas-docs/stable/user_guide/indexing.html#returning-a-view-versus-a-copy\n",
            "  df['indus10'] = df['indus10'].replace([1070,1080,1090,1170,1180,1280,1290,1370,1390,1470,1480,1490,1570,1590,1670,1680,1690,1770,1790,1870,1880,1890,1990,2170,2180,2190,2270,2280,2370,2380,2390,2470,2480,2490,2570,2590,2670,2790,2680,2690,2770,2780,2790,2870,2880,2980,3070,3080,3090,3170,3180,3190,3290,3360,3370,3380,3390,3470,3490,3570,3580,3590,3670,3690,3870,3890,3960,3970,3980,3990], 'Manufacturing')\n",
            "<ipython-input-539-f8cb7e2fa12f>:4: SettingWithCopyWarning: \n",
            "A value is trying to be set on a copy of a slice from a DataFrame.\n",
            "Try using .loc[row_indexer,col_indexer] = value instead\n",
            "\n",
            "See the caveats in the documentation: https://pandas.pydata.org/pandas-docs/stable/user_guide/indexing.html#returning-a-view-versus-a-copy\n",
            "  df['indus10'] = df['indus10'].replace([4070,4080,4090,4170,4180,4190,4260,4270,4280,4290,4370,4380,4390,4470,4480,4490,4560,4570,4580,4585,4590,4670,4870,5370,5680], 'Wholesalers')\n",
            "<ipython-input-539-f8cb7e2fa12f>:5: SettingWithCopyWarning: \n",
            "A value is trying to be set on a copy of a slice from a DataFrame.\n",
            "Try using .loc[row_indexer,col_indexer] = value instead\n",
            "\n",
            "See the caveats in the documentation: https://pandas.pydata.org/pandas-docs/stable/user_guide/indexing.html#returning-a-view-versus-a-copy\n",
            "  df['indus10'] = df['indus10'].replace([9870,9790,9780,9770,9690,9680,9670,9590,9470,9390,9370,9190,9180], 'Government/Military')\n",
            "<ipython-input-539-f8cb7e2fa12f>:6: SettingWithCopyWarning: \n",
            "A value is trying to be set on a copy of a slice from a DataFrame.\n",
            "Try using .loc[row_indexer,col_indexer] = value instead\n",
            "\n",
            "See the caveats in the documentation: https://pandas.pydata.org/pandas-docs/stable/user_guide/indexing.html#returning-a-view-versus-a-copy\n",
            "  df['indus10'] = df['indus10'].replace([5670,5690,5790,6070,6080,6090,6170,6180,6190,6270,6280,6290,6370,6380,6470,6480,6490,6680,6690,6695,6770,6780,6870,6880,6890,6970,6990,7070,7080,7170,7180,7190,7270,7280,7290,7370,7380,7390,7460,7470,7490,7570,7580,7590,7670,7680,7690,7770,7780,7790,7890,8680,8560,8570,8580,8590,8660,8670,8680,8690,8770,8780,8790,8870,8880,8890,8970,8980,8990,9070,9080,9090,9160,9170,9180,9290], 'Services')\n",
            "<ipython-input-539-f8cb7e2fa12f>:7: SettingWithCopyWarning: \n",
            "A value is trying to be set on a copy of a slice from a DataFrame.\n",
            "Try using .loc[row_indexer,col_indexer] = value instead\n",
            "\n",
            "See the caveats in the documentation: https://pandas.pydata.org/pandas-docs/stable/user_guide/indexing.html#returning-a-view-versus-a-copy\n",
            "  df['indus10'] = df['indus10'].replace([7860,7870,7880], 'Education')\n",
            "<ipython-input-539-f8cb7e2fa12f>:8: SettingWithCopyWarning: \n",
            "A value is trying to be set on a copy of a slice from a DataFrame.\n",
            "Try using .loc[row_indexer,col_indexer] = value instead\n",
            "\n",
            "See the caveats in the documentation: https://pandas.pydata.org/pandas-docs/stable/user_guide/indexing.html#returning-a-view-versus-a-copy\n",
            "  df['indus10'] = df['indus10'].replace([170,180,190,270,280,290,370,380,390,470,480,490,570,580,590,670,680,690,1070,1080,2070,2970], 'Agriculture')\n",
            "<ipython-input-539-f8cb7e2fa12f>:9: SettingWithCopyWarning: \n",
            "A value is trying to be set on a copy of a slice from a DataFrame.\n",
            "Try using .loc[row_indexer,col_indexer] = value instead\n",
            "\n",
            "See the caveats in the documentation: https://pandas.pydata.org/pandas-docs/stable/user_guide/indexing.html#returning-a-view-versus-a-copy\n",
            "  df['indus10'] = df['indus10'].replace([770], 'Construction')\n",
            "<ipython-input-539-f8cb7e2fa12f>:10: SettingWithCopyWarning: \n",
            "A value is trying to be set on a copy of a slice from a DataFrame.\n",
            "Try using .loc[row_indexer,col_indexer] = value instead\n",
            "\n",
            "See the caveats in the documentation: https://pandas.pydata.org/pandas-docs/stable/user_guide/indexing.html#returning-a-view-versus-a-copy\n",
            "  df['indus10'] = df['indus10'].replace([9480,6390,9570,5090,9380,6570,2290,6670,9490,3770,3680,4680,2990,6672,2890,5592,6590,3780,3790,2090,5591,8250], 'Other')\n"
          ]
        }
      ]
    },
    {
      "cell_type": "code",
      "source": [
        "df['indus10'].value_counts()"
      ],
      "metadata": {
        "colab": {
          "base_uri": "https://localhost:8080/"
        },
        "id": "mkuuCI_83Pi4",
        "outputId": "541e6feb-c2a6-4cf1-fdfc-457f62d8a291"
      },
      "execution_count": null,
      "outputs": [
        {
          "output_type": "execute_result",
          "data": {
            "text/plain": [
              "Services               3011\n",
              "Healthcare             1238\n",
              "Education               784\n",
              "Manufacturing           760\n",
              "Stores                  581\n",
              "Construction            531\n",
              "Government/Military     399\n",
              "Other                   322\n",
              "Wholesalers             248\n",
              "Agriculture             230\n",
              "Name: indus10, dtype: int64"
            ]
          },
          "metadata": {},
          "execution_count": 540
        }
      ]
    },
    {
      "cell_type": "code",
      "source": [
        "df['job_satisfaction'] = df['satjob']\n",
        "df['occupation'] = df['indus10']\n",
        "df['hours_worked'] = df['hrs2']\n",
        "df['highest_degree'] = df['degree']\n",
        "df['stress_level'] = df['stress']\n",
        "df['marital_status'] = df['marital']\n",
        "df['work_status'] = df['wrkstat']\n",
        "df['num_children'] = df['childs']"
      ],
      "metadata": {
        "colab": {
          "base_uri": "https://localhost:8080/"
        },
        "id": "dpI-Oc7vleSZ",
        "outputId": "390abd9c-dfc3-4990-faf7-aa5ce1f019b7"
      },
      "execution_count": null,
      "outputs": [
        {
          "output_type": "stream",
          "name": "stderr",
          "text": [
            "<ipython-input-541-7955f34b0d54>:1: SettingWithCopyWarning: \n",
            "A value is trying to be set on a copy of a slice from a DataFrame.\n",
            "Try using .loc[row_indexer,col_indexer] = value instead\n",
            "\n",
            "See the caveats in the documentation: https://pandas.pydata.org/pandas-docs/stable/user_guide/indexing.html#returning-a-view-versus-a-copy\n",
            "  df['job_satisfaction'] = df['satjob']\n",
            "<ipython-input-541-7955f34b0d54>:2: SettingWithCopyWarning: \n",
            "A value is trying to be set on a copy of a slice from a DataFrame.\n",
            "Try using .loc[row_indexer,col_indexer] = value instead\n",
            "\n",
            "See the caveats in the documentation: https://pandas.pydata.org/pandas-docs/stable/user_guide/indexing.html#returning-a-view-versus-a-copy\n",
            "  df['occupation'] = df['indus10']\n",
            "<ipython-input-541-7955f34b0d54>:3: SettingWithCopyWarning: \n",
            "A value is trying to be set on a copy of a slice from a DataFrame.\n",
            "Try using .loc[row_indexer,col_indexer] = value instead\n",
            "\n",
            "See the caveats in the documentation: https://pandas.pydata.org/pandas-docs/stable/user_guide/indexing.html#returning-a-view-versus-a-copy\n",
            "  df['hours_worked'] = df['hrs2']\n",
            "<ipython-input-541-7955f34b0d54>:4: SettingWithCopyWarning: \n",
            "A value is trying to be set on a copy of a slice from a DataFrame.\n",
            "Try using .loc[row_indexer,col_indexer] = value instead\n",
            "\n",
            "See the caveats in the documentation: https://pandas.pydata.org/pandas-docs/stable/user_guide/indexing.html#returning-a-view-versus-a-copy\n",
            "  df['highest_degree'] = df['degree']\n",
            "<ipython-input-541-7955f34b0d54>:5: SettingWithCopyWarning: \n",
            "A value is trying to be set on a copy of a slice from a DataFrame.\n",
            "Try using .loc[row_indexer,col_indexer] = value instead\n",
            "\n",
            "See the caveats in the documentation: https://pandas.pydata.org/pandas-docs/stable/user_guide/indexing.html#returning-a-view-versus-a-copy\n",
            "  df['stress_level'] = df['stress']\n",
            "<ipython-input-541-7955f34b0d54>:6: SettingWithCopyWarning: \n",
            "A value is trying to be set on a copy of a slice from a DataFrame.\n",
            "Try using .loc[row_indexer,col_indexer] = value instead\n",
            "\n",
            "See the caveats in the documentation: https://pandas.pydata.org/pandas-docs/stable/user_guide/indexing.html#returning-a-view-versus-a-copy\n",
            "  df['marital_status'] = df['marital']\n",
            "<ipython-input-541-7955f34b0d54>:7: SettingWithCopyWarning: \n",
            "A value is trying to be set on a copy of a slice from a DataFrame.\n",
            "Try using .loc[row_indexer,col_indexer] = value instead\n",
            "\n",
            "See the caveats in the documentation: https://pandas.pydata.org/pandas-docs/stable/user_guide/indexing.html#returning-a-view-versus-a-copy\n",
            "  df['work_status'] = df['wrkstat']\n",
            "<ipython-input-541-7955f34b0d54>:8: SettingWithCopyWarning: \n",
            "A value is trying to be set on a copy of a slice from a DataFrame.\n",
            "Try using .loc[row_indexer,col_indexer] = value instead\n",
            "\n",
            "See the caveats in the documentation: https://pandas.pydata.org/pandas-docs/stable/user_guide/indexing.html#returning-a-view-versus-a-copy\n",
            "  df['num_children'] = df['childs']\n"
          ]
        }
      ]
    },
    {
      "cell_type": "code",
      "source": [
        "clean_columns = ['year','occupation','job_satisfaction', 'hours_worked','age','sex','highest_degree','stress_level','marital_status','race','work_status','num_children','income']\n",
        "cleaned_df = df[clean_columns].copy()"
      ],
      "metadata": {
        "id": "CiW-gVLanHy6"
      },
      "execution_count": null,
      "outputs": []
    },
    {
      "cell_type": "code",
      "source": [
        "cleaned_df.head()"
      ],
      "metadata": {
        "colab": {
          "base_uri": "https://localhost:8080/",
          "height": 293
        },
        "id": "A-5Za08Cnt2P",
        "outputId": "a43a157c-e505-46e0-db45-9335954ff234"
      },
      "execution_count": null,
      "outputs": [
        {
          "output_type": "execute_result",
          "data": {
            "text/plain": [
              "    year  occupation      job_satisfaction  hours_worked   age     sex  \\\n",
              "2   2006       Other  moderately satisfied           NaN  42.0    male   \n",
              "4   2006  Healthcare        very satisfied           NaN  24.0  female   \n",
              "7   2006   Education  moderately satisfied           NaN  52.0  female   \n",
              "8   2006    Services        very satisfied           NaN  42.0    male   \n",
              "11  2006    Services        very satisfied           NaN  48.0  female   \n",
              "\n",
              "              highest_degree stress_level marital_status   race  \\\n",
              "2                 bachelor's        often       divorced  white   \n",
              "4                 bachelor's    sometimes        married  white   \n",
              "7   associate/junior college    sometimes        married  white   \n",
              "8                   graduate    sometimes  never married  white   \n",
              "11                bachelor's        often  never married  white   \n",
              "\n",
              "          work_status  num_children           income  \n",
              "2   working full time           0.0  $25,000 or more  \n",
              "4   working full time           0.0  $25,000 or more  \n",
              "7   working full time           4.0  $25,000 or more  \n",
              "8   working full time           0.0  $25,000 or more  \n",
              "11  working full time           0.0  $25,000 or more  "
            ],
            "text/html": [
              "\n",
              "  <div id=\"df-d8bc5b19-550a-4860-aefe-167a672c83ba\" class=\"colab-df-container\">\n",
              "    <div>\n",
              "<style scoped>\n",
              "    .dataframe tbody tr th:only-of-type {\n",
              "        vertical-align: middle;\n",
              "    }\n",
              "\n",
              "    .dataframe tbody tr th {\n",
              "        vertical-align: top;\n",
              "    }\n",
              "\n",
              "    .dataframe thead th {\n",
              "        text-align: right;\n",
              "    }\n",
              "</style>\n",
              "<table border=\"1\" class=\"dataframe\">\n",
              "  <thead>\n",
              "    <tr style=\"text-align: right;\">\n",
              "      <th></th>\n",
              "      <th>year</th>\n",
              "      <th>occupation</th>\n",
              "      <th>job_satisfaction</th>\n",
              "      <th>hours_worked</th>\n",
              "      <th>age</th>\n",
              "      <th>sex</th>\n",
              "      <th>highest_degree</th>\n",
              "      <th>stress_level</th>\n",
              "      <th>marital_status</th>\n",
              "      <th>race</th>\n",
              "      <th>work_status</th>\n",
              "      <th>num_children</th>\n",
              "      <th>income</th>\n",
              "    </tr>\n",
              "  </thead>\n",
              "  <tbody>\n",
              "    <tr>\n",
              "      <th>2</th>\n",
              "      <td>2006</td>\n",
              "      <td>Other</td>\n",
              "      <td>moderately satisfied</td>\n",
              "      <td>NaN</td>\n",
              "      <td>42.0</td>\n",
              "      <td>male</td>\n",
              "      <td>bachelor's</td>\n",
              "      <td>often</td>\n",
              "      <td>divorced</td>\n",
              "      <td>white</td>\n",
              "      <td>working full time</td>\n",
              "      <td>0.0</td>\n",
              "      <td>$25,000 or more</td>\n",
              "    </tr>\n",
              "    <tr>\n",
              "      <th>4</th>\n",
              "      <td>2006</td>\n",
              "      <td>Healthcare</td>\n",
              "      <td>very satisfied</td>\n",
              "      <td>NaN</td>\n",
              "      <td>24.0</td>\n",
              "      <td>female</td>\n",
              "      <td>bachelor's</td>\n",
              "      <td>sometimes</td>\n",
              "      <td>married</td>\n",
              "      <td>white</td>\n",
              "      <td>working full time</td>\n",
              "      <td>0.0</td>\n",
              "      <td>$25,000 or more</td>\n",
              "    </tr>\n",
              "    <tr>\n",
              "      <th>7</th>\n",
              "      <td>2006</td>\n",
              "      <td>Education</td>\n",
              "      <td>moderately satisfied</td>\n",
              "      <td>NaN</td>\n",
              "      <td>52.0</td>\n",
              "      <td>female</td>\n",
              "      <td>associate/junior college</td>\n",
              "      <td>sometimes</td>\n",
              "      <td>married</td>\n",
              "      <td>white</td>\n",
              "      <td>working full time</td>\n",
              "      <td>4.0</td>\n",
              "      <td>$25,000 or more</td>\n",
              "    </tr>\n",
              "    <tr>\n",
              "      <th>8</th>\n",
              "      <td>2006</td>\n",
              "      <td>Services</td>\n",
              "      <td>very satisfied</td>\n",
              "      <td>NaN</td>\n",
              "      <td>42.0</td>\n",
              "      <td>male</td>\n",
              "      <td>graduate</td>\n",
              "      <td>sometimes</td>\n",
              "      <td>never married</td>\n",
              "      <td>white</td>\n",
              "      <td>working full time</td>\n",
              "      <td>0.0</td>\n",
              "      <td>$25,000 or more</td>\n",
              "    </tr>\n",
              "    <tr>\n",
              "      <th>11</th>\n",
              "      <td>2006</td>\n",
              "      <td>Services</td>\n",
              "      <td>very satisfied</td>\n",
              "      <td>NaN</td>\n",
              "      <td>48.0</td>\n",
              "      <td>female</td>\n",
              "      <td>bachelor's</td>\n",
              "      <td>often</td>\n",
              "      <td>never married</td>\n",
              "      <td>white</td>\n",
              "      <td>working full time</td>\n",
              "      <td>0.0</td>\n",
              "      <td>$25,000 or more</td>\n",
              "    </tr>\n",
              "  </tbody>\n",
              "</table>\n",
              "</div>\n",
              "    <div class=\"colab-df-buttons\">\n",
              "\n",
              "  <div class=\"colab-df-container\">\n",
              "    <button class=\"colab-df-convert\" onclick=\"convertToInteractive('df-d8bc5b19-550a-4860-aefe-167a672c83ba')\"\n",
              "            title=\"Convert this dataframe to an interactive table.\"\n",
              "            style=\"display:none;\">\n",
              "\n",
              "  <svg xmlns=\"http://www.w3.org/2000/svg\" height=\"24px\" viewBox=\"0 -960 960 960\">\n",
              "    <path d=\"M120-120v-720h720v720H120Zm60-500h600v-160H180v160Zm220 220h160v-160H400v160Zm0 220h160v-160H400v160ZM180-400h160v-160H180v160Zm440 0h160v-160H620v160ZM180-180h160v-160H180v160Zm440 0h160v-160H620v160Z\"/>\n",
              "  </svg>\n",
              "    </button>\n",
              "\n",
              "  <style>\n",
              "    .colab-df-container {\n",
              "      display:flex;\n",
              "      gap: 12px;\n",
              "    }\n",
              "\n",
              "    .colab-df-convert {\n",
              "      background-color: #E8F0FE;\n",
              "      border: none;\n",
              "      border-radius: 50%;\n",
              "      cursor: pointer;\n",
              "      display: none;\n",
              "      fill: #1967D2;\n",
              "      height: 32px;\n",
              "      padding: 0 0 0 0;\n",
              "      width: 32px;\n",
              "    }\n",
              "\n",
              "    .colab-df-convert:hover {\n",
              "      background-color: #E2EBFA;\n",
              "      box-shadow: 0px 1px 2px rgba(60, 64, 67, 0.3), 0px 1px 3px 1px rgba(60, 64, 67, 0.15);\n",
              "      fill: #174EA6;\n",
              "    }\n",
              "\n",
              "    .colab-df-buttons div {\n",
              "      margin-bottom: 4px;\n",
              "    }\n",
              "\n",
              "    [theme=dark] .colab-df-convert {\n",
              "      background-color: #3B4455;\n",
              "      fill: #D2E3FC;\n",
              "    }\n",
              "\n",
              "    [theme=dark] .colab-df-convert:hover {\n",
              "      background-color: #434B5C;\n",
              "      box-shadow: 0px 1px 3px 1px rgba(0, 0, 0, 0.15);\n",
              "      filter: drop-shadow(0px 1px 2px rgba(0, 0, 0, 0.3));\n",
              "      fill: #FFFFFF;\n",
              "    }\n",
              "  </style>\n",
              "\n",
              "    <script>\n",
              "      const buttonEl =\n",
              "        document.querySelector('#df-d8bc5b19-550a-4860-aefe-167a672c83ba button.colab-df-convert');\n",
              "      buttonEl.style.display =\n",
              "        google.colab.kernel.accessAllowed ? 'block' : 'none';\n",
              "\n",
              "      async function convertToInteractive(key) {\n",
              "        const element = document.querySelector('#df-d8bc5b19-550a-4860-aefe-167a672c83ba');\n",
              "        const dataTable =\n",
              "          await google.colab.kernel.invokeFunction('convertToInteractive',\n",
              "                                                    [key], {});\n",
              "        if (!dataTable) return;\n",
              "\n",
              "        const docLinkHtml = 'Like what you see? Visit the ' +\n",
              "          '<a target=\"_blank\" href=https://colab.research.google.com/notebooks/data_table.ipynb>data table notebook</a>'\n",
              "          + ' to learn more about interactive tables.';\n",
              "        element.innerHTML = '';\n",
              "        dataTable['output_type'] = 'display_data';\n",
              "        await google.colab.output.renderOutput(dataTable, element);\n",
              "        const docLink = document.createElement('div');\n",
              "        docLink.innerHTML = docLinkHtml;\n",
              "        element.appendChild(docLink);\n",
              "      }\n",
              "    </script>\n",
              "  </div>\n",
              "\n",
              "\n",
              "<div id=\"df-540232b0-3246-4910-a7c6-962c854f0198\">\n",
              "  <button class=\"colab-df-quickchart\" onclick=\"quickchart('df-540232b0-3246-4910-a7c6-962c854f0198')\"\n",
              "            title=\"Suggest charts\"\n",
              "            style=\"display:none;\">\n",
              "\n",
              "<svg xmlns=\"http://www.w3.org/2000/svg\" height=\"24px\"viewBox=\"0 0 24 24\"\n",
              "     width=\"24px\">\n",
              "    <g>\n",
              "        <path d=\"M19 3H5c-1.1 0-2 .9-2 2v14c0 1.1.9 2 2 2h14c1.1 0 2-.9 2-2V5c0-1.1-.9-2-2-2zM9 17H7v-7h2v7zm4 0h-2V7h2v10zm4 0h-2v-4h2v4z\"/>\n",
              "    </g>\n",
              "</svg>\n",
              "  </button>\n",
              "\n",
              "<style>\n",
              "  .colab-df-quickchart {\n",
              "      --bg-color: #E8F0FE;\n",
              "      --fill-color: #1967D2;\n",
              "      --hover-bg-color: #E2EBFA;\n",
              "      --hover-fill-color: #174EA6;\n",
              "      --disabled-fill-color: #AAA;\n",
              "      --disabled-bg-color: #DDD;\n",
              "  }\n",
              "\n",
              "  [theme=dark] .colab-df-quickchart {\n",
              "      --bg-color: #3B4455;\n",
              "      --fill-color: #D2E3FC;\n",
              "      --hover-bg-color: #434B5C;\n",
              "      --hover-fill-color: #FFFFFF;\n",
              "      --disabled-bg-color: #3B4455;\n",
              "      --disabled-fill-color: #666;\n",
              "  }\n",
              "\n",
              "  .colab-df-quickchart {\n",
              "    background-color: var(--bg-color);\n",
              "    border: none;\n",
              "    border-radius: 50%;\n",
              "    cursor: pointer;\n",
              "    display: none;\n",
              "    fill: var(--fill-color);\n",
              "    height: 32px;\n",
              "    padding: 0;\n",
              "    width: 32px;\n",
              "  }\n",
              "\n",
              "  .colab-df-quickchart:hover {\n",
              "    background-color: var(--hover-bg-color);\n",
              "    box-shadow: 0 1px 2px rgba(60, 64, 67, 0.3), 0 1px 3px 1px rgba(60, 64, 67, 0.15);\n",
              "    fill: var(--button-hover-fill-color);\n",
              "  }\n",
              "\n",
              "  .colab-df-quickchart-complete:disabled,\n",
              "  .colab-df-quickchart-complete:disabled:hover {\n",
              "    background-color: var(--disabled-bg-color);\n",
              "    fill: var(--disabled-fill-color);\n",
              "    box-shadow: none;\n",
              "  }\n",
              "\n",
              "  .colab-df-spinner {\n",
              "    border: 2px solid var(--fill-color);\n",
              "    border-color: transparent;\n",
              "    border-bottom-color: var(--fill-color);\n",
              "    animation:\n",
              "      spin 1s steps(1) infinite;\n",
              "  }\n",
              "\n",
              "  @keyframes spin {\n",
              "    0% {\n",
              "      border-color: transparent;\n",
              "      border-bottom-color: var(--fill-color);\n",
              "      border-left-color: var(--fill-color);\n",
              "    }\n",
              "    20% {\n",
              "      border-color: transparent;\n",
              "      border-left-color: var(--fill-color);\n",
              "      border-top-color: var(--fill-color);\n",
              "    }\n",
              "    30% {\n",
              "      border-color: transparent;\n",
              "      border-left-color: var(--fill-color);\n",
              "      border-top-color: var(--fill-color);\n",
              "      border-right-color: var(--fill-color);\n",
              "    }\n",
              "    40% {\n",
              "      border-color: transparent;\n",
              "      border-right-color: var(--fill-color);\n",
              "      border-top-color: var(--fill-color);\n",
              "    }\n",
              "    60% {\n",
              "      border-color: transparent;\n",
              "      border-right-color: var(--fill-color);\n",
              "    }\n",
              "    80% {\n",
              "      border-color: transparent;\n",
              "      border-right-color: var(--fill-color);\n",
              "      border-bottom-color: var(--fill-color);\n",
              "    }\n",
              "    90% {\n",
              "      border-color: transparent;\n",
              "      border-bottom-color: var(--fill-color);\n",
              "    }\n",
              "  }\n",
              "</style>\n",
              "\n",
              "  <script>\n",
              "    async function quickchart(key) {\n",
              "      const quickchartButtonEl =\n",
              "        document.querySelector('#' + key + ' button');\n",
              "      quickchartButtonEl.disabled = true;  // To prevent multiple clicks.\n",
              "      quickchartButtonEl.classList.add('colab-df-spinner');\n",
              "      try {\n",
              "        const charts = await google.colab.kernel.invokeFunction(\n",
              "            'suggestCharts', [key], {});\n",
              "      } catch (error) {\n",
              "        console.error('Error during call to suggestCharts:', error);\n",
              "      }\n",
              "      quickchartButtonEl.classList.remove('colab-df-spinner');\n",
              "      quickchartButtonEl.classList.add('colab-df-quickchart-complete');\n",
              "    }\n",
              "    (() => {\n",
              "      let quickchartButtonEl =\n",
              "        document.querySelector('#df-540232b0-3246-4910-a7c6-962c854f0198 button');\n",
              "      quickchartButtonEl.style.display =\n",
              "        google.colab.kernel.accessAllowed ? 'block' : 'none';\n",
              "    })();\n",
              "  </script>\n",
              "</div>\n",
              "    </div>\n",
              "  </div>\n"
            ],
            "application/vnd.google.colaboratory.intrinsic+json": {
              "type": "dataframe",
              "variable_name": "cleaned_df",
              "summary": "{\n  \"name\": \"cleaned_df\",\n  \"rows\": 8174,\n  \"fields\": [\n    {\n      \"column\": \"year\",\n      \"properties\": {\n        \"dtype\": \"int32\",\n        \"num_unique_values\": 7,\n        \"samples\": [\n          2006,\n          2010,\n          2018\n        ],\n        \"semantic_type\": \"\",\n        \"description\": \"\"\n      }\n    },\n    {\n      \"column\": \"occupation\",\n      \"properties\": {\n        \"dtype\": \"category\",\n        \"num_unique_values\": 10,\n        \"samples\": [\n          \"Wholesalers\",\n          \"Healthcare\",\n          \"Government/Military\"\n        ],\n        \"semantic_type\": \"\",\n        \"description\": \"\"\n      }\n    },\n    {\n      \"column\": \"job_satisfaction\",\n      \"properties\": {\n        \"dtype\": \"category\",\n        \"num_unique_values\": 4,\n        \"samples\": [\n          \"very satisfied\",\n          \"a little dissatisfied\",\n          \"moderately satisfied\"\n        ],\n        \"semantic_type\": \"\",\n        \"description\": \"\"\n      }\n    },\n    {\n      \"column\": \"hours_worked\",\n      \"properties\": {\n        \"dtype\": \"number\",\n        \"std\": 13.003535106810249,\n        \"min\": 1.0,\n        \"max\": 84.0,\n        \"num_unique_values\": 32,\n        \"samples\": [\n          66.0,\n          55.0,\n          9.0\n        ],\n        \"semantic_type\": \"\",\n        \"description\": \"\"\n      }\n    },\n    {\n      \"column\": \"age\",\n      \"properties\": {\n        \"dtype\": \"number\",\n        \"std\": 13.608275613310918,\n        \"min\": 18.0,\n        \"max\": 89.0,\n        \"num_unique_values\": 71,\n        \"samples\": [\n          43.0,\n          42.0,\n          59.0\n        ],\n        \"semantic_type\": \"\",\n        \"description\": \"\"\n      }\n    },\n    {\n      \"column\": \"sex\",\n      \"properties\": {\n        \"dtype\": \"category\",\n        \"num_unique_values\": 2,\n        \"samples\": [\n          \"female\",\n          \"male\"\n        ],\n        \"semantic_type\": \"\",\n        \"description\": \"\"\n      }\n    },\n    {\n      \"column\": \"highest_degree\",\n      \"properties\": {\n        \"dtype\": \"category\",\n        \"num_unique_values\": 5,\n        \"samples\": [\n          \"associate/junior college\",\n          \"high school\"\n        ],\n        \"semantic_type\": \"\",\n        \"description\": \"\"\n      }\n    },\n    {\n      \"column\": \"stress_level\",\n      \"properties\": {\n        \"dtype\": \"category\",\n        \"num_unique_values\": 5,\n        \"samples\": [\n          \"sometimes\",\n          \"never\"\n        ],\n        \"semantic_type\": \"\",\n        \"description\": \"\"\n      }\n    },\n    {\n      \"column\": \"marital_status\",\n      \"properties\": {\n        \"dtype\": \"category\",\n        \"num_unique_values\": 5,\n        \"samples\": [\n          \"married\",\n          \"widowed\"\n        ],\n        \"semantic_type\": \"\",\n        \"description\": \"\"\n      }\n    },\n    {\n      \"column\": \"race\",\n      \"properties\": {\n        \"dtype\": \"category\",\n        \"num_unique_values\": 3,\n        \"samples\": [\n          \"white\",\n          \"black\"\n        ],\n        \"semantic_type\": \"\",\n        \"description\": \"\"\n      }\n    },\n    {\n      \"column\": \"work_status\",\n      \"properties\": {\n        \"dtype\": \"category\",\n        \"num_unique_values\": 5,\n        \"samples\": [\n          \"working part time\",\n          \"unemployed, laid off, looking for work\"\n        ],\n        \"semantic_type\": \"\",\n        \"description\": \"\"\n      }\n    },\n    {\n      \"column\": \"num_children\",\n      \"properties\": {\n        \"dtype\": \"number\",\n        \"std\": 1.5301308750324678,\n        \"min\": 0.0,\n        \"max\": 8.0,\n        \"num_unique_values\": 9,\n        \"samples\": [\n          5.0,\n          4.0\n        ],\n        \"semantic_type\": \"\",\n        \"description\": \"\"\n      }\n    },\n    {\n      \"column\": \"income\",\n      \"properties\": {\n        \"dtype\": \"category\",\n        \"num_unique_values\": 12,\n        \"samples\": [\n          \"$6,000 to $6,999\",\n          \"$7,000 to $7,999\"\n        ],\n        \"semantic_type\": \"\",\n        \"description\": \"\"\n      }\n    }\n  ]\n}"
            }
          },
          "metadata": {},
          "execution_count": 543
        }
      ]
    },
    {
      "cell_type": "code",
      "source": [
        "cleaned_df['year'].value_counts()"
      ],
      "metadata": {
        "colab": {
          "base_uri": "https://localhost:8080/"
        },
        "id": "a8WGPkV6w_5O",
        "outputId": "bfb02f1e-5acb-4fc3-ead1-7479f567f064"
      },
      "execution_count": null,
      "outputs": [
        {
          "output_type": "execute_result",
          "data": {
            "text/plain": [
              "2022    1750\n",
              "2018    1336\n",
              "2014    1175\n",
              "2010    1073\n",
              "2012    1049\n",
              "2006     951\n",
              "2016     840\n",
              "Name: year, dtype: int64"
            ]
          },
          "metadata": {},
          "execution_count": 544
        }
      ]
    },
    {
      "cell_type": "code",
      "source": [
        "cleaned_df.to_csv('cleaned_project_gss.csv', index=False)"
      ],
      "metadata": {
        "id": "aXgtfxIPB0u6"
      },
      "execution_count": null,
      "outputs": []
    }
  ]
}